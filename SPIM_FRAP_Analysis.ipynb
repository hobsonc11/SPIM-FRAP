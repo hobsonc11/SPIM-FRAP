{
  "nbformat": 4,
  "nbformat_minor": 0,
  "metadata": {
    "colab": {
      "name": "Copy of SPIM-FRAP (Generalized).ipynb",
      "provenance": [],
      "collapsed_sections": []
    },
    "kernelspec": {
      "name": "python3",
      "display_name": "Python 3"
    },
    "accelerator": "GPU",
    "widgets": {
      "application/vnd.jupyter.widget-state+json": {
        "c13dd81dd9eb4c11ba391566fc26a0f0": {
          "model_module": "@jupyter-widgets/controls",
          "model_name": "VBoxModel",
          "state": {
            "_view_name": "VBoxView",
            "_dom_classes": [],
            "_model_name": "VBoxModel",
            "_view_module": "@jupyter-widgets/controls",
            "_model_module_version": "1.5.0",
            "_view_count": null,
            "_view_module_version": "1.5.0",
            "box_style": "",
            "layout": "IPY_MODEL_4e7a1b0246624245aeb60e6fc4ce2f88",
            "_model_module": "@jupyter-widgets/controls",
            "children": [
              "IPY_MODEL_54b4dc9951864d6095ca87f577d113fe",
              "IPY_MODEL_da1f24f4211844c0b150a95bdf12c1eb",
              "IPY_MODEL_2e81a7c7a80a4076ba44af40fca7956b"
            ]
          }
        },
        "4e7a1b0246624245aeb60e6fc4ce2f88": {
          "model_module": "@jupyter-widgets/base",
          "model_name": "LayoutModel",
          "state": {
            "_view_name": "LayoutView",
            "grid_template_rows": null,
            "right": null,
            "justify_content": null,
            "_view_module": "@jupyter-widgets/base",
            "overflow": null,
            "_model_module_version": "1.2.0",
            "_view_count": null,
            "flex_flow": null,
            "width": "auto",
            "min_width": null,
            "border": null,
            "align_items": null,
            "bottom": null,
            "_model_module": "@jupyter-widgets/base",
            "top": null,
            "grid_column": null,
            "overflow_y": null,
            "overflow_x": null,
            "grid_auto_flow": null,
            "grid_area": null,
            "grid_template_columns": null,
            "flex": null,
            "_model_name": "LayoutModel",
            "justify_items": null,
            "grid_row": null,
            "max_height": null,
            "align_content": null,
            "visibility": null,
            "align_self": null,
            "height": null,
            "min_height": null,
            "padding": null,
            "grid_auto_rows": null,
            "grid_gap": null,
            "max_width": null,
            "order": null,
            "_view_module_version": "1.2.0",
            "grid_template_areas": null,
            "object_position": null,
            "object_fit": null,
            "grid_auto_columns": null,
            "margin": null,
            "display": null,
            "left": null
          }
        },
        "54b4dc9951864d6095ca87f577d113fe": {
          "model_module": "@jupyter-widgets/controls",
          "model_name": "HTMLModel",
          "state": {
            "_view_name": "HTMLView",
            "style": "IPY_MODEL_47b74fdcd88e41d1b0919d9f52b9249d",
            "_dom_classes": [],
            "description": "",
            "_model_name": "HTMLModel",
            "placeholder": "​",
            "_view_module": "@jupyter-widgets/controls",
            "_model_module_version": "1.5.0",
            "value": "Directory of inputs",
            "_view_count": null,
            "_view_module_version": "1.5.0",
            "description_tooltip": null,
            "_model_module": "@jupyter-widgets/controls",
            "layout": "IPY_MODEL_ee5230905abc498e9b05a551293e9cfb"
          }
        },
        "da1f24f4211844c0b150a95bdf12c1eb": {
          "model_module": "@jupyter-widgets/controls",
          "model_name": "GridBoxModel",
          "state": {
            "_view_name": "GridBoxView",
            "_dom_classes": [],
            "_model_name": "GridBoxModel",
            "_view_module": "@jupyter-widgets/controls",
            "_model_module_version": "1.5.0",
            "_view_count": null,
            "_view_module_version": "1.5.0",
            "box_style": "",
            "layout": "IPY_MODEL_fbff7918c766486d8aadbd5d15ba7aa1",
            "_model_module": "@jupyter-widgets/controls",
            "children": [
              "IPY_MODEL_c6d6a18f75dd40fb9c280439daf781c4",
              "IPY_MODEL_7f3c708c37cd43db93a688819ad4fa48",
              "IPY_MODEL_72d34fdeafaa46e8a6aedc2e050e5684"
            ]
          }
        },
        "2e81a7c7a80a4076ba44af40fca7956b": {
          "model_module": "@jupyter-widgets/controls",
          "model_name": "HBoxModel",
          "state": {
            "_view_name": "HBoxView",
            "_dom_classes": [],
            "_model_name": "HBoxModel",
            "_view_module": "@jupyter-widgets/controls",
            "_model_module_version": "1.5.0",
            "_view_count": null,
            "_view_module_version": "1.5.0",
            "box_style": "",
            "layout": "IPY_MODEL_f75a72dfd6ae409f99cc3107fa5f607a",
            "_model_module": "@jupyter-widgets/controls",
            "children": [
              "IPY_MODEL_d3973dd21188456596977e379b8f77fa",
              "IPY_MODEL_f9a39811a9644c10bd2ada8611861375",
              "IPY_MODEL_7af4650ae85f4c8a92d96c8e366f84f5"
            ]
          }
        },
        "47b74fdcd88e41d1b0919d9f52b9249d": {
          "model_module": "@jupyter-widgets/controls",
          "model_name": "DescriptionStyleModel",
          "state": {
            "_view_name": "StyleView",
            "_model_name": "DescriptionStyleModel",
            "description_width": "",
            "_view_module": "@jupyter-widgets/base",
            "_model_module_version": "1.5.0",
            "_view_count": null,
            "_view_module_version": "1.2.0",
            "_model_module": "@jupyter-widgets/controls"
          }
        },
        "ee5230905abc498e9b05a551293e9cfb": {
          "model_module": "@jupyter-widgets/base",
          "model_name": "LayoutModel",
          "state": {
            "_view_name": "LayoutView",
            "grid_template_rows": null,
            "right": null,
            "justify_content": null,
            "_view_module": "@jupyter-widgets/base",
            "overflow": null,
            "_model_module_version": "1.2.0",
            "_view_count": null,
            "flex_flow": null,
            "width": null,
            "min_width": null,
            "border": null,
            "align_items": null,
            "bottom": null,
            "_model_module": "@jupyter-widgets/base",
            "top": null,
            "grid_column": null,
            "overflow_y": null,
            "overflow_x": null,
            "grid_auto_flow": null,
            "grid_area": null,
            "grid_template_columns": null,
            "flex": null,
            "_model_name": "LayoutModel",
            "justify_items": null,
            "grid_row": null,
            "max_height": null,
            "align_content": null,
            "visibility": null,
            "align_self": null,
            "height": null,
            "min_height": null,
            "padding": null,
            "grid_auto_rows": null,
            "grid_gap": null,
            "max_width": null,
            "order": null,
            "_view_module_version": "1.2.0",
            "grid_template_areas": null,
            "object_position": null,
            "object_fit": null,
            "grid_auto_columns": null,
            "margin": null,
            "display": null,
            "left": null
          }
        },
        "fbff7918c766486d8aadbd5d15ba7aa1": {
          "model_module": "@jupyter-widgets/base",
          "model_name": "LayoutModel",
          "state": {
            "_view_name": "LayoutView",
            "grid_template_rows": "auto auto",
            "right": null,
            "justify_content": null,
            "_view_module": "@jupyter-widgets/base",
            "overflow": null,
            "_model_module_version": "1.2.0",
            "_view_count": null,
            "flex_flow": null,
            "width": "500px",
            "min_width": null,
            "border": null,
            "align_items": null,
            "bottom": null,
            "_model_module": "@jupyter-widgets/base",
            "top": null,
            "grid_column": null,
            "overflow_y": null,
            "overflow_x": null,
            "grid_auto_flow": null,
            "grid_area": null,
            "grid_template_columns": "60% 40%",
            "flex": null,
            "_model_name": "LayoutModel",
            "justify_items": null,
            "grid_row": null,
            "max_height": null,
            "align_content": null,
            "visibility": null,
            "align_self": null,
            "height": null,
            "min_height": null,
            "padding": null,
            "grid_auto_rows": null,
            "grid_gap": "0px 0px",
            "max_width": null,
            "order": null,
            "_view_module_version": "1.2.0",
            "grid_template_areas": "\n                    'pathlist filename'\n                    'dircontent dircontent'\n                    ",
            "object_position": null,
            "object_fit": null,
            "grid_auto_columns": null,
            "margin": null,
            "display": "none",
            "left": null
          }
        },
        "c6d6a18f75dd40fb9c280439daf781c4": {
          "model_module": "@jupyter-widgets/controls",
          "model_name": "DropdownModel",
          "state": {
            "_options_labels": [
              "/content/drive/MyDrive/stacks",
              "/content/drive/MyDrive",
              "/content/drive",
              "/content",
              "/"
            ],
            "_view_name": "DropdownView",
            "style": "IPY_MODEL_86f9b3c7b2d141fbb8ed2b4adc69dbdf",
            "_dom_classes": [],
            "description": "",
            "_model_name": "DropdownModel",
            "index": 0,
            "_view_module": "@jupyter-widgets/controls",
            "_model_module_version": "1.5.0",
            "_view_count": null,
            "disabled": false,
            "_view_module_version": "1.5.0",
            "description_tooltip": null,
            "_model_module": "@jupyter-widgets/controls",
            "layout": "IPY_MODEL_2d833f3c10e142568a6c194c7c6d94c4"
          }
        },
        "7f3c708c37cd43db93a688819ad4fa48": {
          "model_module": "@jupyter-widgets/controls",
          "model_name": "TextModel",
          "state": {
            "_view_name": "TextView",
            "style": "IPY_MODEL_08add7174cef4538b3b230040c7f5cc5",
            "_dom_classes": [],
            "description": "",
            "_model_name": "TextModel",
            "placeholder": "output filename",
            "_view_module": "@jupyter-widgets/controls",
            "_model_module_version": "1.5.0",
            "value": "",
            "_view_count": null,
            "disabled": false,
            "_view_module_version": "1.5.0",
            "continuous_update": true,
            "description_tooltip": null,
            "_model_module": "@jupyter-widgets/controls",
            "layout": "IPY_MODEL_17ee0854a6f847da9493d8220aace5f8"
          }
        },
        "72d34fdeafaa46e8a6aedc2e050e5684": {
          "model_module": "@jupyter-widgets/controls",
          "model_name": "SelectModel",
          "state": {
            "_options_labels": [
              "📁 ..",
              "📁 cell2",
              "📁 cell2_comp",
              "📁 cell6_bin"
            ],
            "_view_name": "SelectView",
            "style": "IPY_MODEL_8c716c20b14c469795320d79e489f2eb",
            "rows": 8,
            "_dom_classes": [],
            "description": "",
            "_model_name": "SelectModel",
            "index": null,
            "_view_module": "@jupyter-widgets/controls",
            "_model_module_version": "1.5.0",
            "_view_count": null,
            "disabled": false,
            "_view_module_version": "1.5.0",
            "description_tooltip": null,
            "_model_module": "@jupyter-widgets/controls",
            "layout": "IPY_MODEL_358469536adf49a4916f7b6d84839f60"
          }
        },
        "f75a72dfd6ae409f99cc3107fa5f607a": {
          "model_module": "@jupyter-widgets/base",
          "model_name": "LayoutModel",
          "state": {
            "_view_name": "LayoutView",
            "grid_template_rows": null,
            "right": null,
            "justify_content": null,
            "_view_module": "@jupyter-widgets/base",
            "overflow": null,
            "_model_module_version": "1.2.0",
            "_view_count": null,
            "flex_flow": null,
            "width": "auto",
            "min_width": null,
            "border": null,
            "align_items": null,
            "bottom": null,
            "_model_module": "@jupyter-widgets/base",
            "top": null,
            "grid_column": null,
            "overflow_y": null,
            "overflow_x": null,
            "grid_auto_flow": null,
            "grid_area": null,
            "grid_template_columns": null,
            "flex": null,
            "_model_name": "LayoutModel",
            "justify_items": null,
            "grid_row": null,
            "max_height": null,
            "align_content": null,
            "visibility": null,
            "align_self": null,
            "height": null,
            "min_height": null,
            "padding": null,
            "grid_auto_rows": null,
            "grid_gap": null,
            "max_width": null,
            "order": null,
            "_view_module_version": "1.2.0",
            "grid_template_areas": null,
            "object_position": null,
            "object_fit": null,
            "grid_auto_columns": null,
            "margin": null,
            "display": null,
            "left": null
          }
        },
        "d3973dd21188456596977e379b8f77fa": {
          "model_module": "@jupyter-widgets/controls",
          "model_name": "ButtonModel",
          "state": {
            "_view_name": "ButtonView",
            "style": "IPY_MODEL_e6732ebf863e4c948cc83853d8f15289",
            "_dom_classes": [],
            "description": "Change",
            "_model_name": "ButtonModel",
            "button_style": "",
            "_view_module": "@jupyter-widgets/controls",
            "_model_module_version": "1.5.0",
            "tooltip": "",
            "_view_count": null,
            "disabled": false,
            "_view_module_version": "1.5.0",
            "layout": "IPY_MODEL_ab6e780a47b945fc9efc12c95f43269a",
            "_model_module": "@jupyter-widgets/controls",
            "icon": ""
          }
        },
        "f9a39811a9644c10bd2ada8611861375": {
          "model_module": "@jupyter-widgets/controls",
          "model_name": "ButtonModel",
          "state": {
            "_view_name": "ButtonView",
            "style": "IPY_MODEL_f09204cbb8404b36af3ab63ace06b24f",
            "_dom_classes": [],
            "description": "Cancel",
            "_model_name": "ButtonModel",
            "button_style": "",
            "_view_module": "@jupyter-widgets/controls",
            "_model_module_version": "1.5.0",
            "tooltip": "",
            "_view_count": null,
            "disabled": false,
            "_view_module_version": "1.5.0",
            "layout": "IPY_MODEL_6ed7ab966a6645a18bbd9476db1d0dd9",
            "_model_module": "@jupyter-widgets/controls",
            "icon": ""
          }
        },
        "7af4650ae85f4c8a92d96c8e366f84f5": {
          "model_module": "@jupyter-widgets/controls",
          "model_name": "HTMLModel",
          "state": {
            "_view_name": "HTMLView",
            "style": "IPY_MODEL_f6365120b5014d64b634882a995fa575",
            "_dom_classes": [],
            "description": "",
            "_model_name": "HTMLModel",
            "placeholder": "",
            "_view_module": "@jupyter-widgets/controls",
            "_model_module_version": "1.5.0",
            "value": "<span style=\"margin-left:10px; color:green;\">/content/drive/MyDrive/stacks/</span>",
            "_view_count": null,
            "_view_module_version": "1.5.0",
            "description_tooltip": null,
            "_model_module": "@jupyter-widgets/controls",
            "layout": "IPY_MODEL_48aea69cd23b45d0b3f78346eb6a30dc"
          }
        },
        "86f9b3c7b2d141fbb8ed2b4adc69dbdf": {
          "model_module": "@jupyter-widgets/controls",
          "model_name": "DescriptionStyleModel",
          "state": {
            "_view_name": "StyleView",
            "_model_name": "DescriptionStyleModel",
            "description_width": "",
            "_view_module": "@jupyter-widgets/base",
            "_model_module_version": "1.5.0",
            "_view_count": null,
            "_view_module_version": "1.2.0",
            "_model_module": "@jupyter-widgets/controls"
          }
        },
        "2d833f3c10e142568a6c194c7c6d94c4": {
          "model_module": "@jupyter-widgets/base",
          "model_name": "LayoutModel",
          "state": {
            "_view_name": "LayoutView",
            "grid_template_rows": null,
            "right": null,
            "justify_content": null,
            "_view_module": "@jupyter-widgets/base",
            "overflow": null,
            "_model_module_version": "1.2.0",
            "_view_count": null,
            "flex_flow": null,
            "width": "auto",
            "min_width": null,
            "border": null,
            "align_items": null,
            "bottom": null,
            "_model_module": "@jupyter-widgets/base",
            "top": null,
            "grid_column": null,
            "overflow_y": null,
            "overflow_x": null,
            "grid_auto_flow": null,
            "grid_area": "pathlist",
            "grid_template_columns": null,
            "flex": null,
            "_model_name": "LayoutModel",
            "justify_items": null,
            "grid_row": null,
            "max_height": null,
            "align_content": null,
            "visibility": null,
            "align_self": null,
            "height": null,
            "min_height": null,
            "padding": null,
            "grid_auto_rows": null,
            "grid_gap": null,
            "max_width": null,
            "order": null,
            "_view_module_version": "1.2.0",
            "grid_template_areas": null,
            "object_position": null,
            "object_fit": null,
            "grid_auto_columns": null,
            "margin": null,
            "display": null,
            "left": null
          }
        },
        "08add7174cef4538b3b230040c7f5cc5": {
          "model_module": "@jupyter-widgets/controls",
          "model_name": "DescriptionStyleModel",
          "state": {
            "_view_name": "StyleView",
            "_model_name": "DescriptionStyleModel",
            "description_width": "",
            "_view_module": "@jupyter-widgets/base",
            "_model_module_version": "1.5.0",
            "_view_count": null,
            "_view_module_version": "1.2.0",
            "_model_module": "@jupyter-widgets/controls"
          }
        },
        "17ee0854a6f847da9493d8220aace5f8": {
          "model_module": "@jupyter-widgets/base",
          "model_name": "LayoutModel",
          "state": {
            "_view_name": "LayoutView",
            "grid_template_rows": null,
            "right": null,
            "justify_content": null,
            "_view_module": "@jupyter-widgets/base",
            "overflow": null,
            "_model_module_version": "1.2.0",
            "_view_count": null,
            "flex_flow": null,
            "width": "auto",
            "min_width": null,
            "border": null,
            "align_items": null,
            "bottom": null,
            "_model_module": "@jupyter-widgets/base",
            "top": null,
            "grid_column": null,
            "overflow_y": null,
            "overflow_x": null,
            "grid_auto_flow": null,
            "grid_area": "filename",
            "grid_template_columns": null,
            "flex": null,
            "_model_name": "LayoutModel",
            "justify_items": null,
            "grid_row": null,
            "max_height": null,
            "align_content": null,
            "visibility": null,
            "align_self": null,
            "height": null,
            "min_height": null,
            "padding": null,
            "grid_auto_rows": null,
            "grid_gap": null,
            "max_width": null,
            "order": null,
            "_view_module_version": "1.2.0",
            "grid_template_areas": null,
            "object_position": null,
            "object_fit": null,
            "grid_auto_columns": null,
            "margin": null,
            "display": null,
            "left": null
          }
        },
        "8c716c20b14c469795320d79e489f2eb": {
          "model_module": "@jupyter-widgets/controls",
          "model_name": "DescriptionStyleModel",
          "state": {
            "_view_name": "StyleView",
            "_model_name": "DescriptionStyleModel",
            "description_width": "",
            "_view_module": "@jupyter-widgets/base",
            "_model_module_version": "1.5.0",
            "_view_count": null,
            "_view_module_version": "1.2.0",
            "_model_module": "@jupyter-widgets/controls"
          }
        },
        "358469536adf49a4916f7b6d84839f60": {
          "model_module": "@jupyter-widgets/base",
          "model_name": "LayoutModel",
          "state": {
            "_view_name": "LayoutView",
            "grid_template_rows": null,
            "right": null,
            "justify_content": null,
            "_view_module": "@jupyter-widgets/base",
            "overflow": null,
            "_model_module_version": "1.2.0",
            "_view_count": null,
            "flex_flow": null,
            "width": "auto",
            "min_width": null,
            "border": null,
            "align_items": null,
            "bottom": null,
            "_model_module": "@jupyter-widgets/base",
            "top": null,
            "grid_column": null,
            "overflow_y": null,
            "overflow_x": null,
            "grid_auto_flow": null,
            "grid_area": "dircontent",
            "grid_template_columns": null,
            "flex": null,
            "_model_name": "LayoutModel",
            "justify_items": null,
            "grid_row": null,
            "max_height": null,
            "align_content": null,
            "visibility": null,
            "align_self": null,
            "height": null,
            "min_height": null,
            "padding": null,
            "grid_auto_rows": null,
            "grid_gap": null,
            "max_width": null,
            "order": null,
            "_view_module_version": "1.2.0",
            "grid_template_areas": null,
            "object_position": null,
            "object_fit": null,
            "grid_auto_columns": null,
            "margin": null,
            "display": null,
            "left": null
          }
        },
        "e6732ebf863e4c948cc83853d8f15289": {
          "model_module": "@jupyter-widgets/controls",
          "model_name": "ButtonStyleModel",
          "state": {
            "_view_name": "StyleView",
            "_model_name": "ButtonStyleModel",
            "_view_module": "@jupyter-widgets/base",
            "_model_module_version": "1.5.0",
            "_view_count": null,
            "button_color": null,
            "font_weight": "",
            "_view_module_version": "1.2.0",
            "_model_module": "@jupyter-widgets/controls"
          }
        },
        "ab6e780a47b945fc9efc12c95f43269a": {
          "model_module": "@jupyter-widgets/base",
          "model_name": "LayoutModel",
          "state": {
            "_view_name": "LayoutView",
            "grid_template_rows": null,
            "right": null,
            "justify_content": null,
            "_view_module": "@jupyter-widgets/base",
            "overflow": null,
            "_model_module_version": "1.2.0",
            "_view_count": null,
            "flex_flow": null,
            "width": "auto",
            "min_width": null,
            "border": null,
            "align_items": null,
            "bottom": null,
            "_model_module": "@jupyter-widgets/base",
            "top": null,
            "grid_column": null,
            "overflow_y": null,
            "overflow_x": null,
            "grid_auto_flow": null,
            "grid_area": null,
            "grid_template_columns": null,
            "flex": null,
            "_model_name": "LayoutModel",
            "justify_items": null,
            "grid_row": null,
            "max_height": null,
            "align_content": null,
            "visibility": null,
            "align_self": null,
            "height": null,
            "min_height": null,
            "padding": null,
            "grid_auto_rows": null,
            "grid_gap": null,
            "max_width": null,
            "order": null,
            "_view_module_version": "1.2.0",
            "grid_template_areas": null,
            "object_position": null,
            "object_fit": null,
            "grid_auto_columns": null,
            "margin": null,
            "display": null,
            "left": null
          }
        },
        "f09204cbb8404b36af3ab63ace06b24f": {
          "model_module": "@jupyter-widgets/controls",
          "model_name": "ButtonStyleModel",
          "state": {
            "_view_name": "StyleView",
            "_model_name": "ButtonStyleModel",
            "_view_module": "@jupyter-widgets/base",
            "_model_module_version": "1.5.0",
            "_view_count": null,
            "button_color": null,
            "font_weight": "",
            "_view_module_version": "1.2.0",
            "_model_module": "@jupyter-widgets/controls"
          }
        },
        "6ed7ab966a6645a18bbd9476db1d0dd9": {
          "model_module": "@jupyter-widgets/base",
          "model_name": "LayoutModel",
          "state": {
            "_view_name": "LayoutView",
            "grid_template_rows": null,
            "right": null,
            "justify_content": null,
            "_view_module": "@jupyter-widgets/base",
            "overflow": null,
            "_model_module_version": "1.2.0",
            "_view_count": null,
            "flex_flow": null,
            "width": "auto",
            "min_width": null,
            "border": null,
            "align_items": null,
            "bottom": null,
            "_model_module": "@jupyter-widgets/base",
            "top": null,
            "grid_column": null,
            "overflow_y": null,
            "overflow_x": null,
            "grid_auto_flow": null,
            "grid_area": null,
            "grid_template_columns": null,
            "flex": null,
            "_model_name": "LayoutModel",
            "justify_items": null,
            "grid_row": null,
            "max_height": null,
            "align_content": null,
            "visibility": null,
            "align_self": null,
            "height": null,
            "min_height": null,
            "padding": null,
            "grid_auto_rows": null,
            "grid_gap": null,
            "max_width": null,
            "order": null,
            "_view_module_version": "1.2.0",
            "grid_template_areas": null,
            "object_position": null,
            "object_fit": null,
            "grid_auto_columns": null,
            "margin": null,
            "display": "none",
            "left": null
          }
        },
        "f6365120b5014d64b634882a995fa575": {
          "model_module": "@jupyter-widgets/controls",
          "model_name": "DescriptionStyleModel",
          "state": {
            "_view_name": "StyleView",
            "_model_name": "DescriptionStyleModel",
            "description_width": "",
            "_view_module": "@jupyter-widgets/base",
            "_model_module_version": "1.5.0",
            "_view_count": null,
            "_view_module_version": "1.2.0",
            "_model_module": "@jupyter-widgets/controls"
          }
        },
        "48aea69cd23b45d0b3f78346eb6a30dc": {
          "model_module": "@jupyter-widgets/base",
          "model_name": "LayoutModel",
          "state": {
            "_view_name": "LayoutView",
            "grid_template_rows": null,
            "right": null,
            "justify_content": null,
            "_view_module": "@jupyter-widgets/base",
            "overflow": null,
            "_model_module_version": "1.2.0",
            "_view_count": null,
            "flex_flow": null,
            "width": null,
            "min_width": null,
            "border": null,
            "align_items": null,
            "bottom": null,
            "_model_module": "@jupyter-widgets/base",
            "top": null,
            "grid_column": null,
            "overflow_y": null,
            "overflow_x": null,
            "grid_auto_flow": null,
            "grid_area": null,
            "grid_template_columns": null,
            "flex": null,
            "_model_name": "LayoutModel",
            "justify_items": null,
            "grid_row": null,
            "max_height": null,
            "align_content": null,
            "visibility": null,
            "align_self": null,
            "height": null,
            "min_height": null,
            "padding": null,
            "grid_auto_rows": null,
            "grid_gap": null,
            "max_width": null,
            "order": null,
            "_view_module_version": "1.2.0",
            "grid_template_areas": null,
            "object_position": null,
            "object_fit": null,
            "grid_auto_columns": null,
            "margin": null,
            "display": null,
            "left": null
          }
        },
        "782acbe2e99244f09b078938e411c820": {
          "model_module": "@jupyter-widgets/controls",
          "model_name": "VBoxModel",
          "state": {
            "_view_name": "VBoxView",
            "_dom_classes": [],
            "_model_name": "VBoxModel",
            "_view_module": "@jupyter-widgets/controls",
            "_model_module_version": "1.5.0",
            "_view_count": null,
            "_view_module_version": "1.5.0",
            "box_style": "",
            "layout": "IPY_MODEL_2aef7497499241a78edc509e56e99b7e",
            "_model_module": "@jupyter-widgets/controls",
            "children": [
              "IPY_MODEL_4dbe4b80bad64174ac4b1fa89239b6f4",
              "IPY_MODEL_0937582eb9ba4275a3d10739cdc349bc",
              "IPY_MODEL_f72b84c1a92946ae8d07d83787ac5c8e"
            ]
          }
        },
        "2aef7497499241a78edc509e56e99b7e": {
          "model_module": "@jupyter-widgets/base",
          "model_name": "LayoutModel",
          "state": {
            "_view_name": "LayoutView",
            "grid_template_rows": null,
            "right": null,
            "justify_content": null,
            "_view_module": "@jupyter-widgets/base",
            "overflow": null,
            "_model_module_version": "1.2.0",
            "_view_count": null,
            "flex_flow": null,
            "width": "auto",
            "min_width": null,
            "border": null,
            "align_items": null,
            "bottom": null,
            "_model_module": "@jupyter-widgets/base",
            "top": null,
            "grid_column": null,
            "overflow_y": null,
            "overflow_x": null,
            "grid_auto_flow": null,
            "grid_area": null,
            "grid_template_columns": null,
            "flex": null,
            "_model_name": "LayoutModel",
            "justify_items": null,
            "grid_row": null,
            "max_height": null,
            "align_content": null,
            "visibility": null,
            "align_self": null,
            "height": null,
            "min_height": null,
            "padding": null,
            "grid_auto_rows": null,
            "grid_gap": null,
            "max_width": null,
            "order": null,
            "_view_module_version": "1.2.0",
            "grid_template_areas": null,
            "object_position": null,
            "object_fit": null,
            "grid_auto_columns": null,
            "margin": null,
            "display": null,
            "left": null
          }
        },
        "4dbe4b80bad64174ac4b1fa89239b6f4": {
          "model_module": "@jupyter-widgets/controls",
          "model_name": "HTMLModel",
          "state": {
            "_view_name": "HTMLView",
            "style": "IPY_MODEL_3e267c1990f84066a191185d89e8d60f",
            "_dom_classes": [],
            "description": "",
            "_model_name": "HTMLModel",
            "placeholder": "​",
            "_view_module": "@jupyter-widgets/controls",
            "_model_module_version": "1.5.0",
            "value": "Directory of input stacks/output dirs",
            "_view_count": null,
            "_view_module_version": "1.5.0",
            "description_tooltip": null,
            "_model_module": "@jupyter-widgets/controls",
            "layout": "IPY_MODEL_49729c2c18ae49b19163bd541979f63b"
          }
        },
        "0937582eb9ba4275a3d10739cdc349bc": {
          "model_module": "@jupyter-widgets/controls",
          "model_name": "GridBoxModel",
          "state": {
            "_view_name": "GridBoxView",
            "_dom_classes": [],
            "_model_name": "GridBoxModel",
            "_view_module": "@jupyter-widgets/controls",
            "_model_module_version": "1.5.0",
            "_view_count": null,
            "_view_module_version": "1.5.0",
            "box_style": "",
            "layout": "IPY_MODEL_29eceb0142fc44c5baa627bdce0208c7",
            "_model_module": "@jupyter-widgets/controls",
            "children": [
              "IPY_MODEL_459950b166f54cd4b6ad4910d18acfa2",
              "IPY_MODEL_334bf893ae6a49e88b65d9ec2277c889",
              "IPY_MODEL_9563d8d1b29c4e3d89cdece7fbd988b1"
            ]
          }
        },
        "f72b84c1a92946ae8d07d83787ac5c8e": {
          "model_module": "@jupyter-widgets/controls",
          "model_name": "HBoxModel",
          "state": {
            "_view_name": "HBoxView",
            "_dom_classes": [],
            "_model_name": "HBoxModel",
            "_view_module": "@jupyter-widgets/controls",
            "_model_module_version": "1.5.0",
            "_view_count": null,
            "_view_module_version": "1.5.0",
            "box_style": "",
            "layout": "IPY_MODEL_f6dc6f0d51194482809766ade778e436",
            "_model_module": "@jupyter-widgets/controls",
            "children": [
              "IPY_MODEL_77811605558d48818091ccb55289e202",
              "IPY_MODEL_d129dd72d6f44426a0c9e768e9e90368",
              "IPY_MODEL_8ea919dc507f4078bdda642e0c01466b"
            ]
          }
        },
        "3e267c1990f84066a191185d89e8d60f": {
          "model_module": "@jupyter-widgets/controls",
          "model_name": "DescriptionStyleModel",
          "state": {
            "_view_name": "StyleView",
            "_model_name": "DescriptionStyleModel",
            "description_width": "",
            "_view_module": "@jupyter-widgets/base",
            "_model_module_version": "1.5.0",
            "_view_count": null,
            "_view_module_version": "1.2.0",
            "_model_module": "@jupyter-widgets/controls"
          }
        },
        "49729c2c18ae49b19163bd541979f63b": {
          "model_module": "@jupyter-widgets/base",
          "model_name": "LayoutModel",
          "state": {
            "_view_name": "LayoutView",
            "grid_template_rows": null,
            "right": null,
            "justify_content": null,
            "_view_module": "@jupyter-widgets/base",
            "overflow": null,
            "_model_module_version": "1.2.0",
            "_view_count": null,
            "flex_flow": null,
            "width": null,
            "min_width": null,
            "border": null,
            "align_items": null,
            "bottom": null,
            "_model_module": "@jupyter-widgets/base",
            "top": null,
            "grid_column": null,
            "overflow_y": null,
            "overflow_x": null,
            "grid_auto_flow": null,
            "grid_area": null,
            "grid_template_columns": null,
            "flex": null,
            "_model_name": "LayoutModel",
            "justify_items": null,
            "grid_row": null,
            "max_height": null,
            "align_content": null,
            "visibility": null,
            "align_self": null,
            "height": null,
            "min_height": null,
            "padding": null,
            "grid_auto_rows": null,
            "grid_gap": null,
            "max_width": null,
            "order": null,
            "_view_module_version": "1.2.0",
            "grid_template_areas": null,
            "object_position": null,
            "object_fit": null,
            "grid_auto_columns": null,
            "margin": null,
            "display": null,
            "left": null
          }
        },
        "29eceb0142fc44c5baa627bdce0208c7": {
          "model_module": "@jupyter-widgets/base",
          "model_name": "LayoutModel",
          "state": {
            "_view_name": "LayoutView",
            "grid_template_rows": "auto auto",
            "right": null,
            "justify_content": null,
            "_view_module": "@jupyter-widgets/base",
            "overflow": null,
            "_model_module_version": "1.2.0",
            "_view_count": null,
            "flex_flow": null,
            "width": "500px",
            "min_width": null,
            "border": null,
            "align_items": null,
            "bottom": null,
            "_model_module": "@jupyter-widgets/base",
            "top": null,
            "grid_column": null,
            "overflow_y": null,
            "overflow_x": null,
            "grid_auto_flow": null,
            "grid_area": null,
            "grid_template_columns": "60% 40%",
            "flex": null,
            "_model_name": "LayoutModel",
            "justify_items": null,
            "grid_row": null,
            "max_height": null,
            "align_content": null,
            "visibility": null,
            "align_self": null,
            "height": null,
            "min_height": null,
            "padding": null,
            "grid_auto_rows": null,
            "grid_gap": "0px 0px",
            "max_width": null,
            "order": null,
            "_view_module_version": "1.2.0",
            "grid_template_areas": "\n                    'pathlist filename'\n                    'dircontent dircontent'\n                    ",
            "object_position": null,
            "object_fit": null,
            "grid_auto_columns": null,
            "margin": null,
            "display": "none",
            "left": null
          }
        },
        "459950b166f54cd4b6ad4910d18acfa2": {
          "model_module": "@jupyter-widgets/controls",
          "model_name": "DropdownModel",
          "state": {
            "_options_labels": [
              "/content/drive/MyDrive/stacks",
              "/content/drive/MyDrive",
              "/content/drive",
              "/content",
              "/"
            ],
            "_view_name": "DropdownView",
            "style": "IPY_MODEL_42a02eb4faac4bcf9e444c19651d62ee",
            "_dom_classes": [],
            "description": "",
            "_model_name": "DropdownModel",
            "index": 0,
            "_view_module": "@jupyter-widgets/controls",
            "_model_module_version": "1.5.0",
            "_view_count": null,
            "disabled": false,
            "_view_module_version": "1.5.0",
            "description_tooltip": null,
            "_model_module": "@jupyter-widgets/controls",
            "layout": "IPY_MODEL_05ac69797f074990a2837ba0c8f930f0"
          }
        },
        "334bf893ae6a49e88b65d9ec2277c889": {
          "model_module": "@jupyter-widgets/controls",
          "model_name": "TextModel",
          "state": {
            "_view_name": "TextView",
            "style": "IPY_MODEL_d0347f87e069461a8e84012aaacbe43c",
            "_dom_classes": [],
            "description": "",
            "_model_name": "TextModel",
            "placeholder": "output filename",
            "_view_module": "@jupyter-widgets/controls",
            "_model_module_version": "1.5.0",
            "value": "",
            "_view_count": null,
            "disabled": false,
            "_view_module_version": "1.5.0",
            "continuous_update": true,
            "description_tooltip": null,
            "_model_module": "@jupyter-widgets/controls",
            "layout": "IPY_MODEL_9e9f76bb72d6498ea3b2b47b62268409"
          }
        },
        "9563d8d1b29c4e3d89cdece7fbd988b1": {
          "model_module": "@jupyter-widgets/controls",
          "model_name": "SelectModel",
          "state": {
            "_options_labels": [
              "📁 ..",
              "📁 cell2",
              "📁 cell2_comp",
              "📁 cell6_bin"
            ],
            "_view_name": "SelectView",
            "style": "IPY_MODEL_56b643afbcdb4a939734c9770af26e8c",
            "rows": 8,
            "_dom_classes": [],
            "description": "",
            "_model_name": "SelectModel",
            "index": null,
            "_view_module": "@jupyter-widgets/controls",
            "_model_module_version": "1.5.0",
            "_view_count": null,
            "disabled": false,
            "_view_module_version": "1.5.0",
            "description_tooltip": null,
            "_model_module": "@jupyter-widgets/controls",
            "layout": "IPY_MODEL_0a8b582a6db84009aa666c107da9f508"
          }
        },
        "f6dc6f0d51194482809766ade778e436": {
          "model_module": "@jupyter-widgets/base",
          "model_name": "LayoutModel",
          "state": {
            "_view_name": "LayoutView",
            "grid_template_rows": null,
            "right": null,
            "justify_content": null,
            "_view_module": "@jupyter-widgets/base",
            "overflow": null,
            "_model_module_version": "1.2.0",
            "_view_count": null,
            "flex_flow": null,
            "width": "auto",
            "min_width": null,
            "border": null,
            "align_items": null,
            "bottom": null,
            "_model_module": "@jupyter-widgets/base",
            "top": null,
            "grid_column": null,
            "overflow_y": null,
            "overflow_x": null,
            "grid_auto_flow": null,
            "grid_area": null,
            "grid_template_columns": null,
            "flex": null,
            "_model_name": "LayoutModel",
            "justify_items": null,
            "grid_row": null,
            "max_height": null,
            "align_content": null,
            "visibility": null,
            "align_self": null,
            "height": null,
            "min_height": null,
            "padding": null,
            "grid_auto_rows": null,
            "grid_gap": null,
            "max_width": null,
            "order": null,
            "_view_module_version": "1.2.0",
            "grid_template_areas": null,
            "object_position": null,
            "object_fit": null,
            "grid_auto_columns": null,
            "margin": null,
            "display": null,
            "left": null
          }
        },
        "77811605558d48818091ccb55289e202": {
          "model_module": "@jupyter-widgets/controls",
          "model_name": "ButtonModel",
          "state": {
            "_view_name": "ButtonView",
            "style": "IPY_MODEL_2c3ae8945a5d46389c75b4b5470e3d66",
            "_dom_classes": [],
            "description": "Change",
            "_model_name": "ButtonModel",
            "button_style": "",
            "_view_module": "@jupyter-widgets/controls",
            "_model_module_version": "1.5.0",
            "tooltip": "",
            "_view_count": null,
            "disabled": false,
            "_view_module_version": "1.5.0",
            "layout": "IPY_MODEL_f4965b4de5e04b608aa7ec861df9f0e3",
            "_model_module": "@jupyter-widgets/controls",
            "icon": ""
          }
        },
        "d129dd72d6f44426a0c9e768e9e90368": {
          "model_module": "@jupyter-widgets/controls",
          "model_name": "ButtonModel",
          "state": {
            "_view_name": "ButtonView",
            "style": "IPY_MODEL_f227745297da49569df6a55488bb1f2e",
            "_dom_classes": [],
            "description": "Cancel",
            "_model_name": "ButtonModel",
            "button_style": "",
            "_view_module": "@jupyter-widgets/controls",
            "_model_module_version": "1.5.0",
            "tooltip": "",
            "_view_count": null,
            "disabled": false,
            "_view_module_version": "1.5.0",
            "layout": "IPY_MODEL_c376467049124357a337b8082821c437",
            "_model_module": "@jupyter-widgets/controls",
            "icon": ""
          }
        },
        "8ea919dc507f4078bdda642e0c01466b": {
          "model_module": "@jupyter-widgets/controls",
          "model_name": "HTMLModel",
          "state": {
            "_view_name": "HTMLView",
            "style": "IPY_MODEL_5bb573c93b4e493382f00657d038c356",
            "_dom_classes": [],
            "description": "",
            "_model_name": "HTMLModel",
            "placeholder": "",
            "_view_module": "@jupyter-widgets/controls",
            "_model_module_version": "1.5.0",
            "value": "<span style=\"margin-left:10px; color:green;\">/content/drive/MyDrive/stacks/</span>",
            "_view_count": null,
            "_view_module_version": "1.5.0",
            "description_tooltip": null,
            "_model_module": "@jupyter-widgets/controls",
            "layout": "IPY_MODEL_1137b5bf0179413bacb954ef6aef1308"
          }
        },
        "42a02eb4faac4bcf9e444c19651d62ee": {
          "model_module": "@jupyter-widgets/controls",
          "model_name": "DescriptionStyleModel",
          "state": {
            "_view_name": "StyleView",
            "_model_name": "DescriptionStyleModel",
            "description_width": "",
            "_view_module": "@jupyter-widgets/base",
            "_model_module_version": "1.5.0",
            "_view_count": null,
            "_view_module_version": "1.2.0",
            "_model_module": "@jupyter-widgets/controls"
          }
        },
        "05ac69797f074990a2837ba0c8f930f0": {
          "model_module": "@jupyter-widgets/base",
          "model_name": "LayoutModel",
          "state": {
            "_view_name": "LayoutView",
            "grid_template_rows": null,
            "right": null,
            "justify_content": null,
            "_view_module": "@jupyter-widgets/base",
            "overflow": null,
            "_model_module_version": "1.2.0",
            "_view_count": null,
            "flex_flow": null,
            "width": "auto",
            "min_width": null,
            "border": null,
            "align_items": null,
            "bottom": null,
            "_model_module": "@jupyter-widgets/base",
            "top": null,
            "grid_column": null,
            "overflow_y": null,
            "overflow_x": null,
            "grid_auto_flow": null,
            "grid_area": "pathlist",
            "grid_template_columns": null,
            "flex": null,
            "_model_name": "LayoutModel",
            "justify_items": null,
            "grid_row": null,
            "max_height": null,
            "align_content": null,
            "visibility": null,
            "align_self": null,
            "height": null,
            "min_height": null,
            "padding": null,
            "grid_auto_rows": null,
            "grid_gap": null,
            "max_width": null,
            "order": null,
            "_view_module_version": "1.2.0",
            "grid_template_areas": null,
            "object_position": null,
            "object_fit": null,
            "grid_auto_columns": null,
            "margin": null,
            "display": null,
            "left": null
          }
        },
        "d0347f87e069461a8e84012aaacbe43c": {
          "model_module": "@jupyter-widgets/controls",
          "model_name": "DescriptionStyleModel",
          "state": {
            "_view_name": "StyleView",
            "_model_name": "DescriptionStyleModel",
            "description_width": "",
            "_view_module": "@jupyter-widgets/base",
            "_model_module_version": "1.5.0",
            "_view_count": null,
            "_view_module_version": "1.2.0",
            "_model_module": "@jupyter-widgets/controls"
          }
        },
        "9e9f76bb72d6498ea3b2b47b62268409": {
          "model_module": "@jupyter-widgets/base",
          "model_name": "LayoutModel",
          "state": {
            "_view_name": "LayoutView",
            "grid_template_rows": null,
            "right": null,
            "justify_content": null,
            "_view_module": "@jupyter-widgets/base",
            "overflow": null,
            "_model_module_version": "1.2.0",
            "_view_count": null,
            "flex_flow": null,
            "width": "auto",
            "min_width": null,
            "border": null,
            "align_items": null,
            "bottom": null,
            "_model_module": "@jupyter-widgets/base",
            "top": null,
            "grid_column": null,
            "overflow_y": null,
            "overflow_x": null,
            "grid_auto_flow": null,
            "grid_area": "filename",
            "grid_template_columns": null,
            "flex": null,
            "_model_name": "LayoutModel",
            "justify_items": null,
            "grid_row": null,
            "max_height": null,
            "align_content": null,
            "visibility": null,
            "align_self": null,
            "height": null,
            "min_height": null,
            "padding": null,
            "grid_auto_rows": null,
            "grid_gap": null,
            "max_width": null,
            "order": null,
            "_view_module_version": "1.2.0",
            "grid_template_areas": null,
            "object_position": null,
            "object_fit": null,
            "grid_auto_columns": null,
            "margin": null,
            "display": null,
            "left": null
          }
        },
        "56b643afbcdb4a939734c9770af26e8c": {
          "model_module": "@jupyter-widgets/controls",
          "model_name": "DescriptionStyleModel",
          "state": {
            "_view_name": "StyleView",
            "_model_name": "DescriptionStyleModel",
            "description_width": "",
            "_view_module": "@jupyter-widgets/base",
            "_model_module_version": "1.5.0",
            "_view_count": null,
            "_view_module_version": "1.2.0",
            "_model_module": "@jupyter-widgets/controls"
          }
        },
        "0a8b582a6db84009aa666c107da9f508": {
          "model_module": "@jupyter-widgets/base",
          "model_name": "LayoutModel",
          "state": {
            "_view_name": "LayoutView",
            "grid_template_rows": null,
            "right": null,
            "justify_content": null,
            "_view_module": "@jupyter-widgets/base",
            "overflow": null,
            "_model_module_version": "1.2.0",
            "_view_count": null,
            "flex_flow": null,
            "width": "auto",
            "min_width": null,
            "border": null,
            "align_items": null,
            "bottom": null,
            "_model_module": "@jupyter-widgets/base",
            "top": null,
            "grid_column": null,
            "overflow_y": null,
            "overflow_x": null,
            "grid_auto_flow": null,
            "grid_area": "dircontent",
            "grid_template_columns": null,
            "flex": null,
            "_model_name": "LayoutModel",
            "justify_items": null,
            "grid_row": null,
            "max_height": null,
            "align_content": null,
            "visibility": null,
            "align_self": null,
            "height": null,
            "min_height": null,
            "padding": null,
            "grid_auto_rows": null,
            "grid_gap": null,
            "max_width": null,
            "order": null,
            "_view_module_version": "1.2.0",
            "grid_template_areas": null,
            "object_position": null,
            "object_fit": null,
            "grid_auto_columns": null,
            "margin": null,
            "display": null,
            "left": null
          }
        },
        "2c3ae8945a5d46389c75b4b5470e3d66": {
          "model_module": "@jupyter-widgets/controls",
          "model_name": "ButtonStyleModel",
          "state": {
            "_view_name": "StyleView",
            "_model_name": "ButtonStyleModel",
            "_view_module": "@jupyter-widgets/base",
            "_model_module_version": "1.5.0",
            "_view_count": null,
            "button_color": null,
            "font_weight": "",
            "_view_module_version": "1.2.0",
            "_model_module": "@jupyter-widgets/controls"
          }
        },
        "f4965b4de5e04b608aa7ec861df9f0e3": {
          "model_module": "@jupyter-widgets/base",
          "model_name": "LayoutModel",
          "state": {
            "_view_name": "LayoutView",
            "grid_template_rows": null,
            "right": null,
            "justify_content": null,
            "_view_module": "@jupyter-widgets/base",
            "overflow": null,
            "_model_module_version": "1.2.0",
            "_view_count": null,
            "flex_flow": null,
            "width": "auto",
            "min_width": null,
            "border": null,
            "align_items": null,
            "bottom": null,
            "_model_module": "@jupyter-widgets/base",
            "top": null,
            "grid_column": null,
            "overflow_y": null,
            "overflow_x": null,
            "grid_auto_flow": null,
            "grid_area": null,
            "grid_template_columns": null,
            "flex": null,
            "_model_name": "LayoutModel",
            "justify_items": null,
            "grid_row": null,
            "max_height": null,
            "align_content": null,
            "visibility": null,
            "align_self": null,
            "height": null,
            "min_height": null,
            "padding": null,
            "grid_auto_rows": null,
            "grid_gap": null,
            "max_width": null,
            "order": null,
            "_view_module_version": "1.2.0",
            "grid_template_areas": null,
            "object_position": null,
            "object_fit": null,
            "grid_auto_columns": null,
            "margin": null,
            "display": null,
            "left": null
          }
        },
        "f227745297da49569df6a55488bb1f2e": {
          "model_module": "@jupyter-widgets/controls",
          "model_name": "ButtonStyleModel",
          "state": {
            "_view_name": "StyleView",
            "_model_name": "ButtonStyleModel",
            "_view_module": "@jupyter-widgets/base",
            "_model_module_version": "1.5.0",
            "_view_count": null,
            "button_color": null,
            "font_weight": "",
            "_view_module_version": "1.2.0",
            "_model_module": "@jupyter-widgets/controls"
          }
        },
        "c376467049124357a337b8082821c437": {
          "model_module": "@jupyter-widgets/base",
          "model_name": "LayoutModel",
          "state": {
            "_view_name": "LayoutView",
            "grid_template_rows": null,
            "right": null,
            "justify_content": null,
            "_view_module": "@jupyter-widgets/base",
            "overflow": null,
            "_model_module_version": "1.2.0",
            "_view_count": null,
            "flex_flow": null,
            "width": "auto",
            "min_width": null,
            "border": null,
            "align_items": null,
            "bottom": null,
            "_model_module": "@jupyter-widgets/base",
            "top": null,
            "grid_column": null,
            "overflow_y": null,
            "overflow_x": null,
            "grid_auto_flow": null,
            "grid_area": null,
            "grid_template_columns": null,
            "flex": null,
            "_model_name": "LayoutModel",
            "justify_items": null,
            "grid_row": null,
            "max_height": null,
            "align_content": null,
            "visibility": null,
            "align_self": null,
            "height": null,
            "min_height": null,
            "padding": null,
            "grid_auto_rows": null,
            "grid_gap": null,
            "max_width": null,
            "order": null,
            "_view_module_version": "1.2.0",
            "grid_template_areas": null,
            "object_position": null,
            "object_fit": null,
            "grid_auto_columns": null,
            "margin": null,
            "display": "none",
            "left": null
          }
        },
        "5bb573c93b4e493382f00657d038c356": {
          "model_module": "@jupyter-widgets/controls",
          "model_name": "DescriptionStyleModel",
          "state": {
            "_view_name": "StyleView",
            "_model_name": "DescriptionStyleModel",
            "description_width": "",
            "_view_module": "@jupyter-widgets/base",
            "_model_module_version": "1.5.0",
            "_view_count": null,
            "_view_module_version": "1.2.0",
            "_model_module": "@jupyter-widgets/controls"
          }
        },
        "1137b5bf0179413bacb954ef6aef1308": {
          "model_module": "@jupyter-widgets/base",
          "model_name": "LayoutModel",
          "state": {
            "_view_name": "LayoutView",
            "grid_template_rows": null,
            "right": null,
            "justify_content": null,
            "_view_module": "@jupyter-widgets/base",
            "overflow": null,
            "_model_module_version": "1.2.0",
            "_view_count": null,
            "flex_flow": null,
            "width": null,
            "min_width": null,
            "border": null,
            "align_items": null,
            "bottom": null,
            "_model_module": "@jupyter-widgets/base",
            "top": null,
            "grid_column": null,
            "overflow_y": null,
            "overflow_x": null,
            "grid_auto_flow": null,
            "grid_area": null,
            "grid_template_columns": null,
            "flex": null,
            "_model_name": "LayoutModel",
            "justify_items": null,
            "grid_row": null,
            "max_height": null,
            "align_content": null,
            "visibility": null,
            "align_self": null,
            "height": null,
            "min_height": null,
            "padding": null,
            "grid_auto_rows": null,
            "grid_gap": null,
            "max_width": null,
            "order": null,
            "_view_module_version": "1.2.0",
            "grid_template_areas": null,
            "object_position": null,
            "object_fit": null,
            "grid_auto_columns": null,
            "margin": null,
            "display": null,
            "left": null
          }
        }
      }
    }
  },
  "cells": [
    {
      "cell_type": "code",
      "metadata": {
        "id": "fvD21BBmfUdd",
        "colab": {
          "base_uri": "https://localhost:8080/"
        },
        "outputId": "43e10fdc-1c4d-434d-cac4-6ec2eb413fc0"
      },
      "source": [
        "!for arch in \"drive/My Drive/stacks\"/*.tar.xz; do tar xvf \"$arch\"; done"
      ],
      "execution_count": null,
      "outputs": [
        {
          "output_type": "stream",
          "text": [
            "tar: drive/My Drive/stacks/*.tar.xz: Cannot open: No such file or directory\n",
            "tar: Error is not recoverable: exiting now\n"
          ],
          "name": "stdout"
        }
      ]
    },
    {
      "cell_type": "code",
      "metadata": {
        "id": "4sNmUM7doGeF",
        "colab": {
          "base_uri": "https://localhost:8080/"
        },
        "outputId": "f361eb06-6f0e-41ab-e470-aad58b173a41"
      },
      "source": [
        "!pip install -Uq ipyfilechooser numba"
      ],
      "execution_count": null,
      "outputs": [
        {
          "output_type": "stream",
          "text": [
            "\u001b[K     |████████████████████████████████| 3.1MB 5.9MB/s \n",
            "\u001b[K     |████████████████████████████████| 24.6MB 132kB/s \n",
            "\u001b[?25h"
          ],
          "name": "stdout"
        }
      ]
    },
    {
      "cell_type": "markdown",
      "metadata": {
        "id": "1V6tmna7Ktq6"
      },
      "source": [
        "This script expects a directory full of directories, each with files named `mask.tif` and `stack_blur.tif`."
      ]
    },
    {
      "cell_type": "code",
      "metadata": {
        "id": "82qjVujf09Mk",
        "colab": {
          "base_uri": "https://localhost:8080/"
        },
        "outputId": "1c43c13f-a921-4bcb-86f4-bb1e3e981d93"
      },
      "source": [
        "!rm -rvf sample_data\n",
        "!nvidia-smi\n",
        "# Commented above + uncommented below: no GPU\n",
        "# Uncommented above + commented below: have GPU\n",
        "# %env NUMBA_ENABLE_CUDASIM 1"
      ],
      "execution_count": null,
      "outputs": [
        {
          "output_type": "stream",
          "text": [
            "removed 'sample_data/anscombe.json'\n",
            "removed 'sample_data/README.md'\n",
            "removed 'sample_data/mnist_train_small.csv'\n",
            "removed 'sample_data/mnist_test.csv'\n",
            "removed 'sample_data/california_housing_train.csv'\n",
            "removed 'sample_data/california_housing_test.csv'\n",
            "removed directory 'sample_data'\n",
            "Wed Nov 18 14:47:49 2020       \n",
            "+-----------------------------------------------------------------------------+\n",
            "| NVIDIA-SMI 455.38       Driver Version: 418.67       CUDA Version: 10.1     |\n",
            "|-------------------------------+----------------------+----------------------+\n",
            "| GPU  Name        Persistence-M| Bus-Id        Disp.A | Volatile Uncorr. ECC |\n",
            "| Fan  Temp  Perf  Pwr:Usage/Cap|         Memory-Usage | GPU-Util  Compute M. |\n",
            "|                               |                      |               MIG M. |\n",
            "|===============================+======================+======================|\n",
            "|   0  Tesla K80           Off  | 00000000:00:04.0 Off |                    0 |\n",
            "| N/A   34C    P8    26W / 149W |      0MiB / 11441MiB |      0%      Default |\n",
            "|                               |                      |                 ERR! |\n",
            "+-------------------------------+----------------------+----------------------+\n",
            "                                                                               \n",
            "+-----------------------------------------------------------------------------+\n",
            "| Processes:                                                                  |\n",
            "|  GPU   GI   CI        PID   Type   Process name                  GPU Memory |\n",
            "|        ID   ID                                                   Usage      |\n",
            "|=============================================================================|\n",
            "|  No running processes found                                                 |\n",
            "+-----------------------------------------------------------------------------+\n"
          ],
          "name": "stdout"
        }
      ]
    },
    {
      "cell_type": "markdown",
      "metadata": {
        "id": "7D62B5Ar4Zle"
      },
      "source": [
        "Each subdirectory is loaded into a `Stack`, consisting of arrays `data` and `mask`. `stack` is a 3D array that should be considered as a 2D array of pixels, each of which has a 1D time series of values attached. That is, the axes are `(imageY, imageX, frame)`."
      ]
    },
    {
      "cell_type": "code",
      "metadata": {
        "id": "rsIFK4Sf4Fi5"
      },
      "source": [
        "from contextlib import contextmanager\n",
        "import numba.cuda as nc\n",
        "from numba.core.config import ENABLE_CUDASIM\n",
        "from typing import Callable, Optional\n",
        "\n",
        "if ENABLE_CUDASIM:\n",
        "  from numba.cuda.simulator.api import stream as Stream\n",
        "else:\n",
        "  from numba.cuda.cudadrv.driver import Stream\n",
        "\n",
        "@contextmanager\n",
        "def maybeSync(stream: Optional[Stream] = None):\n",
        "  shouldSync = stream is None\n",
        "  if shouldSync:\n",
        "    stream = nc.stream()\n",
        "  try:\n",
        "    yield stream\n",
        "  finally:\n",
        "    if shouldSync:\n",
        "      stream.synchronize()"
      ],
      "execution_count": null,
      "outputs": []
    },
    {
      "cell_type": "code",
      "metadata": {
        "id": "ONYhf9apI_sK"
      },
      "source": [
        "from dataclasses import InitVar, dataclass, field\n",
        "import numpy as np\n",
        "\n",
        "@dataclass(eq = False)\n",
        "class Stack:\n",
        "  \"\"\"An image stack (2D + time) associated with its mask (2D).\"\"\"\n",
        "  data: np.ndarray\n",
        "  mask: np.ndarray\n",
        "  bleachPoint: int\n",
        "  endPoint: int\n",
        "  frameRate: float\n",
        "  def __post_init__(self):\n",
        "    if len(self.data.shape) != 3 or self.mask.shape != self.data.shape[:2]:\n",
        "      raise ValueError(\n",
        "          f\"Tried to make a Stack with arrays of shape {self.data.shape} and \"\n",
        "            f\" {self.mask.shape}\")\n",
        "    if self.bleachPoint not in range(0, self.data.shape[2] + 1):\n",
        "      raise IndexError(\n",
        "          f\"Bleach point {self.bleachPoint} not within the {self.data.shape[2]}\"\n",
        "            \" frames of stack\")\n",
        "    if self.endPoint not in range(0, self.data.shape[2] + 1):\n",
        "      raise IndexError(\n",
        "          f\"End point {self.endPoint} not within the {self.data.shape[2]}\"\n",
        "            \" frames of stack\")\n",
        "    if self.frameRate <= 0:\n",
        "      raise ValueError(\n",
        "          f\"Attempted to use nonpositive frame rate {self.frameRate}\")\n",
        "    self.data = self.data.astype(np.float64)\n",
        "    self.mask = self.mask.astype(np.bool_)"
      ],
      "execution_count": null,
      "outputs": []
    },
    {
      "cell_type": "code",
      "metadata": {
        "id": "GHx3S6O2ws7k"
      },
      "source": [
        "import os\n",
        "from PIL import Image\n",
        "from scipy import ndimage\n",
        "from typing import Generator, Tuple\n",
        "\n",
        "def loadStack(dataFile: str, maskFile: str) -> Stack:\n",
        "  dataImage = Image.open(dataFile)\n",
        "  stack = []\n",
        "  for i in range(dataImage.n_frames):\n",
        "    dataImage.seek(i)\n",
        "    stack.append(np.array(dataImage))\n",
        "  mask = ndimage.binary_erosion(np.array(Image.open(maskFile)), np.ones((5, 5)))\n",
        "  # Using 301 as the endpoint reproduces results of the original Mathematica\n",
        "  # code (selecting 301 - 100 = 201 frames), but the paper says it should be\n",
        "  # 200 frames selected, with endpoint 300\n",
        "  return Stack(np.dstack(stack), mask, 100, 300, 10 / 1000)\n",
        "\n",
        "def loadStacks(\n",
        "    directory: str, dataName: str = \"stack_blur.tif\",\n",
        "    maskName: str = \"mask.tif\") -> \\\n",
        "    Generator[Tuple[str, Callable[[], Stack]], None, None]:\n",
        "  with os.scandir(directory) as it:\n",
        "    for dir in it:\n",
        "      if dir.is_dir():\n",
        "        def doLoad(p = dir.path) -> Stack:\n",
        "          try:\n",
        "            return loadStack(\n",
        "                os.path.join(p, dataName), os.path.join(p, maskName))\n",
        "          except Exception as e:\n",
        "            raise Exception(\n",
        "                f\"Failed to load stack ({dataName}, {maskName}) from {p}\") \\\n",
        "              from e\n",
        "        yield dir.path, doLoad"
      ],
      "execution_count": null,
      "outputs": []
    },
    {
      "cell_type": "code",
      "metadata": {
        "id": "WdXCu1UX3cHl",
        "colab": {
          "base_uri": "https://localhost:8080/",
          "height": 162,
          "referenced_widgets": [
            "c13dd81dd9eb4c11ba391566fc26a0f0",
            "4e7a1b0246624245aeb60e6fc4ce2f88",
            "54b4dc9951864d6095ca87f577d113fe",
            "da1f24f4211844c0b150a95bdf12c1eb",
            "2e81a7c7a80a4076ba44af40fca7956b",
            "47b74fdcd88e41d1b0919d9f52b9249d",
            "ee5230905abc498e9b05a551293e9cfb",
            "fbff7918c766486d8aadbd5d15ba7aa1",
            "c6d6a18f75dd40fb9c280439daf781c4",
            "7f3c708c37cd43db93a688819ad4fa48",
            "72d34fdeafaa46e8a6aedc2e050e5684",
            "f75a72dfd6ae409f99cc3107fa5f607a",
            "d3973dd21188456596977e379b8f77fa",
            "f9a39811a9644c10bd2ada8611861375",
            "7af4650ae85f4c8a92d96c8e366f84f5",
            "86f9b3c7b2d141fbb8ed2b4adc69dbdf",
            "2d833f3c10e142568a6c194c7c6d94c4",
            "08add7174cef4538b3b230040c7f5cc5",
            "17ee0854a6f847da9493d8220aace5f8",
            "8c716c20b14c469795320d79e489f2eb",
            "358469536adf49a4916f7b6d84839f60",
            "e6732ebf863e4c948cc83853d8f15289",
            "ab6e780a47b945fc9efc12c95f43269a",
            "f09204cbb8404b36af3ab63ace06b24f",
            "6ed7ab966a6645a18bbd9476db1d0dd9",
            "f6365120b5014d64b634882a995fa575",
            "48aea69cd23b45d0b3f78346eb6a30dc"
          ]
        },
        "outputId": "c5edc840-334b-4f38-b6d5-1fae78bc4886"
      },
      "source": [
        "from google.colab import widgets\n",
        "from ipyfilechooser import FileChooser\n",
        "\n",
        "chooser = FileChooser(title = \"Directory of inputs\", use_dir_icons = True)\n",
        "def loadingCallback(chooser):\n",
        "  paths, loads = zip(*loadStacks(chooser.selected_path))\n",
        "  grid = widgets.Grid(len(paths) + 1, 7, header_row = True)\n",
        "  with grid.output_to(0, 0):\n",
        "    print(\"Name\")\n",
        "  with grid.output_to(0, 1):\n",
        "    print(\"Width\")\n",
        "  with grid.output_to(0, 2):\n",
        "    print(\"Height\")\n",
        "  with grid.output_to(0, 3):\n",
        "    print(\"Frames\")\n",
        "  with grid.output_to(0, 4):\n",
        "    print(\"Selected Pixels\")\n",
        "  with grid.output_to(0, 5):\n",
        "    print(\"Bleach point\")\n",
        "  with grid.output_to(0, 6):\n",
        "    print(\"End point\")\n",
        "  for i in range(len(paths)):\n",
        "    with grid.output_to(i + 1, 0):\n",
        "      print(os.path.basename(paths[i]))\n",
        "  for i in range(len(loads)):\n",
        "    image = loads[i]()\n",
        "    with grid.output_to(i + 1, 1):\n",
        "      print(image.data.shape[1])\n",
        "    with grid.output_to(i + 1, 2):\n",
        "      print(image.data.shape[0])\n",
        "    with grid.output_to(i + 1, 3):\n",
        "      print(image.data.shape[2])\n",
        "    with grid.output_to(i + 1, 4):\n",
        "      print(np.count_nonzero(image.mask))\n",
        "    with grid.output_to(i + 1, 5):\n",
        "      print(image.bleachPoint)\n",
        "    with grid.output_to(i + 1, 6):\n",
        "      print(image.endPoint)\n",
        "chooser.register_callback(loadingCallback)\n",
        "display(chooser)"
      ],
      "execution_count": null,
      "outputs": [
        {
          "output_type": "display_data",
          "data": {
            "application/vnd.jupyter.widget-view+json": {
              "model_id": "c13dd81dd9eb4c11ba391566fc26a0f0",
              "version_minor": 0,
              "version_major": 2
            },
            "text/plain": [
              "FileChooser(path='/content', filename='', title='HTML(value='Directory of inputs')', show_hidden='False', use_…"
            ]
          },
          "metadata": {
            "tags": []
          }
        },
        {
          "output_type": "display_data",
          "data": {
            "text/html": [
              "<style>\n",
              "       table#id18, #id18 > tbody > tr > th, #id18 > tbody > tr > td {\n",
              "         border: 1px solid lightgray;\n",
              "         border-collapse:collapse;\n",
              "         \n",
              "        }</style>"
            ],
            "text/plain": [
              "<IPython.core.display.HTML object>"
            ]
          },
          "metadata": {
            "tags": [
              "outputarea_id18"
            ]
          }
        },
        {
          "output_type": "display_data",
          "data": {
            "text/html": [
              "<table id=id18><tr><th id=id18-0-0></th><th id=id18-0-1></th><th id=id18-0-2></th><th id=id18-0-3></th><th id=id18-0-4></th><th id=id18-0-5></th><th id=id18-0-6></th></tr><tr><td id=id18-1-0></td><td id=id18-1-1></td><td id=id18-1-2></td><td id=id18-1-3></td><td id=id18-1-4></td><td id=id18-1-5></td><td id=id18-1-6></td></tr><tr><td id=id18-2-0></td><td id=id18-2-1></td><td id=id18-2-2></td><td id=id18-2-3></td><td id=id18-2-4></td><td id=id18-2-5></td><td id=id18-2-6></td></tr><tr><td id=id18-3-0></td><td id=id18-3-1></td><td id=id18-3-2></td><td id=id18-3-3></td><td id=id18-3-4></td><td id=id18-3-5></td><td id=id18-3-6></td></tr></table>"
            ],
            "text/plain": [
              "<IPython.core.display.HTML object>"
            ]
          },
          "metadata": {
            "tags": [
              "outputarea_id18"
            ]
          }
        },
        {
          "output_type": "display_data",
          "data": {
            "application/javascript": [
              "window[\"ccad0850-29ad-11eb-8b62-0242ac1c0002\"] = google.colab.output.getActiveOutputArea();\n",
              "//# sourceURL=js_86656a225c"
            ],
            "text/plain": [
              "<IPython.core.display.Javascript object>"
            ]
          },
          "metadata": {
            "tags": [
              "id18-0-0",
              "outputarea_id18"
            ]
          }
        },
        {
          "output_type": "display_data",
          "data": {
            "application/javascript": [
              "window[\"ccada256-29ad-11eb-8b62-0242ac1c0002\"] = document.querySelector(\"#id18-0-0\");\n",
              "//# sourceURL=js_71a6164426"
            ],
            "text/plain": [
              "<IPython.core.display.Javascript object>"
            ]
          },
          "metadata": {
            "tags": [
              "id18-0-0",
              "outputarea_id18"
            ]
          }
        },
        {
          "output_type": "display_data",
          "data": {
            "application/javascript": [
              "window[\"ccae5430-29ad-11eb-8b62-0242ac1c0002\"] = google.colab.output.setActiveOutputArea(window[\"ccada256-29ad-11eb-8b62-0242ac1c0002\"]);\n",
              "//# sourceURL=js_2b5ff278ca"
            ],
            "text/plain": [
              "<IPython.core.display.Javascript object>"
            ]
          },
          "metadata": {
            "tags": [
              "id18-0-0",
              "outputarea_id18"
            ]
          }
        },
        {
          "output_type": "stream",
          "text": [
            "Name\n"
          ],
          "name": "stdout"
        },
        {
          "output_type": "display_data",
          "data": {
            "application/javascript": [
              "window[\"ccafea20-29ad-11eb-8b62-0242ac1c0002\"] = google.colab.output.setActiveOutputArea(window[\"ccad0850-29ad-11eb-8b62-0242ac1c0002\"]);\n",
              "//# sourceURL=js_6ac8505bf4"
            ],
            "text/plain": [
              "<IPython.core.display.Javascript object>"
            ]
          },
          "metadata": {
            "tags": [
              "id18-0-0",
              "outputarea_id18"
            ]
          }
        },
        {
          "output_type": "display_data",
          "data": {
            "application/javascript": [
              "window[\"ccb1f70c-29ad-11eb-8b62-0242ac1c0002\"] = google.colab.output.getActiveOutputArea();\n",
              "//# sourceURL=js_7fd5cd647f"
            ],
            "text/plain": [
              "<IPython.core.display.Javascript object>"
            ]
          },
          "metadata": {
            "tags": [
              "id18-0-1",
              "outputarea_id18"
            ]
          }
        },
        {
          "output_type": "display_data",
          "data": {
            "application/javascript": [
              "window[\"ccb24c66-29ad-11eb-8b62-0242ac1c0002\"] = document.querySelector(\"#id18-0-1\");\n",
              "//# sourceURL=js_ad0d6c0b1a"
            ],
            "text/plain": [
              "<IPython.core.display.Javascript object>"
            ]
          },
          "metadata": {
            "tags": [
              "id18-0-1",
              "outputarea_id18"
            ]
          }
        },
        {
          "output_type": "display_data",
          "data": {
            "application/javascript": [
              "window[\"ccb2a9c2-29ad-11eb-8b62-0242ac1c0002\"] = google.colab.output.setActiveOutputArea(window[\"ccb24c66-29ad-11eb-8b62-0242ac1c0002\"]);\n",
              "//# sourceURL=js_ec26cf2e7c"
            ],
            "text/plain": [
              "<IPython.core.display.Javascript object>"
            ]
          },
          "metadata": {
            "tags": [
              "id18-0-1",
              "outputarea_id18"
            ]
          }
        },
        {
          "output_type": "stream",
          "text": [
            "Width\n"
          ],
          "name": "stdout"
        },
        {
          "output_type": "display_data",
          "data": {
            "application/javascript": [
              "window[\"ccb40bc8-29ad-11eb-8b62-0242ac1c0002\"] = google.colab.output.setActiveOutputArea(window[\"ccb1f70c-29ad-11eb-8b62-0242ac1c0002\"]);\n",
              "//# sourceURL=js_3d95be7236"
            ],
            "text/plain": [
              "<IPython.core.display.Javascript object>"
            ]
          },
          "metadata": {
            "tags": [
              "id18-0-1",
              "outputarea_id18"
            ]
          }
        },
        {
          "output_type": "display_data",
          "data": {
            "application/javascript": [
              "window[\"ccb5e15a-29ad-11eb-8b62-0242ac1c0002\"] = google.colab.output.getActiveOutputArea();\n",
              "//# sourceURL=js_2be698e3f7"
            ],
            "text/plain": [
              "<IPython.core.display.Javascript object>"
            ]
          },
          "metadata": {
            "tags": [
              "id18-0-2",
              "outputarea_id18"
            ]
          }
        },
        {
          "output_type": "display_data",
          "data": {
            "application/javascript": [
              "window[\"ccb628d6-29ad-11eb-8b62-0242ac1c0002\"] = document.querySelector(\"#id18-0-2\");\n",
              "//# sourceURL=js_328b9ec1e9"
            ],
            "text/plain": [
              "<IPython.core.display.Javascript object>"
            ]
          },
          "metadata": {
            "tags": [
              "id18-0-2",
              "outputarea_id18"
            ]
          }
        },
        {
          "output_type": "display_data",
          "data": {
            "application/javascript": [
              "window[\"ccb6a162-29ad-11eb-8b62-0242ac1c0002\"] = google.colab.output.setActiveOutputArea(window[\"ccb628d6-29ad-11eb-8b62-0242ac1c0002\"]);\n",
              "//# sourceURL=js_cafdfa084a"
            ],
            "text/plain": [
              "<IPython.core.display.Javascript object>"
            ]
          },
          "metadata": {
            "tags": [
              "id18-0-2",
              "outputarea_id18"
            ]
          }
        },
        {
          "output_type": "stream",
          "text": [
            "Height\n"
          ],
          "name": "stdout"
        },
        {
          "output_type": "display_data",
          "data": {
            "application/javascript": [
              "window[\"ccb7def6-29ad-11eb-8b62-0242ac1c0002\"] = google.colab.output.setActiveOutputArea(window[\"ccb5e15a-29ad-11eb-8b62-0242ac1c0002\"]);\n",
              "//# sourceURL=js_a505121632"
            ],
            "text/plain": [
              "<IPython.core.display.Javascript object>"
            ]
          },
          "metadata": {
            "tags": [
              "id18-0-2",
              "outputarea_id18"
            ]
          }
        },
        {
          "output_type": "display_data",
          "data": {
            "application/javascript": [
              "window[\"ccb96398-29ad-11eb-8b62-0242ac1c0002\"] = google.colab.output.getActiveOutputArea();\n",
              "//# sourceURL=js_f578cda63f"
            ],
            "text/plain": [
              "<IPython.core.display.Javascript object>"
            ]
          },
          "metadata": {
            "tags": [
              "id18-0-3",
              "outputarea_id18"
            ]
          }
        },
        {
          "output_type": "display_data",
          "data": {
            "application/javascript": [
              "window[\"ccb9a95c-29ad-11eb-8b62-0242ac1c0002\"] = document.querySelector(\"#id18-0-3\");\n",
              "//# sourceURL=js_bb20f1941c"
            ],
            "text/plain": [
              "<IPython.core.display.Javascript object>"
            ]
          },
          "metadata": {
            "tags": [
              "id18-0-3",
              "outputarea_id18"
            ]
          }
        },
        {
          "output_type": "display_data",
          "data": {
            "application/javascript": [
              "window[\"ccb9f182-29ad-11eb-8b62-0242ac1c0002\"] = google.colab.output.setActiveOutputArea(window[\"ccb9a95c-29ad-11eb-8b62-0242ac1c0002\"]);\n",
              "//# sourceURL=js_f675dbe274"
            ],
            "text/plain": [
              "<IPython.core.display.Javascript object>"
            ]
          },
          "metadata": {
            "tags": [
              "id18-0-3",
              "outputarea_id18"
            ]
          }
        },
        {
          "output_type": "stream",
          "text": [
            "Frames\n"
          ],
          "name": "stdout"
        },
        {
          "output_type": "display_data",
          "data": {
            "application/javascript": [
              "window[\"ccbb2f20-29ad-11eb-8b62-0242ac1c0002\"] = google.colab.output.setActiveOutputArea(window[\"ccb96398-29ad-11eb-8b62-0242ac1c0002\"]);\n",
              "//# sourceURL=js_ac11768e96"
            ],
            "text/plain": [
              "<IPython.core.display.Javascript object>"
            ]
          },
          "metadata": {
            "tags": [
              "id18-0-3",
              "outputarea_id18"
            ]
          }
        },
        {
          "output_type": "display_data",
          "data": {
            "application/javascript": [
              "window[\"ccbf33d6-29ad-11eb-8b62-0242ac1c0002\"] = google.colab.output.getActiveOutputArea();\n",
              "//# sourceURL=js_c5f54a8135"
            ],
            "text/plain": [
              "<IPython.core.display.Javascript object>"
            ]
          },
          "metadata": {
            "tags": [
              "id18-0-4",
              "outputarea_id18"
            ]
          }
        },
        {
          "output_type": "display_data",
          "data": {
            "application/javascript": [
              "window[\"ccbfb1bc-29ad-11eb-8b62-0242ac1c0002\"] = document.querySelector(\"#id18-0-4\");\n",
              "//# sourceURL=js_89e862db76"
            ],
            "text/plain": [
              "<IPython.core.display.Javascript object>"
            ]
          },
          "metadata": {
            "tags": [
              "id18-0-4",
              "outputarea_id18"
            ]
          }
        },
        {
          "output_type": "display_data",
          "data": {
            "application/javascript": [
              "window[\"ccbff8ca-29ad-11eb-8b62-0242ac1c0002\"] = google.colab.output.setActiveOutputArea(window[\"ccbfb1bc-29ad-11eb-8b62-0242ac1c0002\"]);\n",
              "//# sourceURL=js_c315ac2e9f"
            ],
            "text/plain": [
              "<IPython.core.display.Javascript object>"
            ]
          },
          "metadata": {
            "tags": [
              "id18-0-4",
              "outputarea_id18"
            ]
          }
        },
        {
          "output_type": "stream",
          "text": [
            "Selected Pixels\n"
          ],
          "name": "stdout"
        },
        {
          "output_type": "display_data",
          "data": {
            "application/javascript": [
              "window[\"ccc18942-29ad-11eb-8b62-0242ac1c0002\"] = google.colab.output.setActiveOutputArea(window[\"ccbf33d6-29ad-11eb-8b62-0242ac1c0002\"]);\n",
              "//# sourceURL=js_dbb769d66a"
            ],
            "text/plain": [
              "<IPython.core.display.Javascript object>"
            ]
          },
          "metadata": {
            "tags": [
              "id18-0-4",
              "outputarea_id18"
            ]
          }
        },
        {
          "output_type": "display_data",
          "data": {
            "application/javascript": [
              "window[\"ccc310b4-29ad-11eb-8b62-0242ac1c0002\"] = google.colab.output.getActiveOutputArea();\n",
              "//# sourceURL=js_d55f7ace11"
            ],
            "text/plain": [
              "<IPython.core.display.Javascript object>"
            ]
          },
          "metadata": {
            "tags": [
              "id18-0-5",
              "outputarea_id18"
            ]
          }
        },
        {
          "output_type": "display_data",
          "data": {
            "application/javascript": [
              "window[\"ccc3556a-29ad-11eb-8b62-0242ac1c0002\"] = document.querySelector(\"#id18-0-5\");\n",
              "//# sourceURL=js_d730c44c25"
            ],
            "text/plain": [
              "<IPython.core.display.Javascript object>"
            ]
          },
          "metadata": {
            "tags": [
              "id18-0-5",
              "outputarea_id18"
            ]
          }
        },
        {
          "output_type": "display_data",
          "data": {
            "application/javascript": [
              "window[\"ccc3c5ae-29ad-11eb-8b62-0242ac1c0002\"] = google.colab.output.setActiveOutputArea(window[\"ccc3556a-29ad-11eb-8b62-0242ac1c0002\"]);\n",
              "//# sourceURL=js_41af247b6f"
            ],
            "text/plain": [
              "<IPython.core.display.Javascript object>"
            ]
          },
          "metadata": {
            "tags": [
              "id18-0-5",
              "outputarea_id18"
            ]
          }
        },
        {
          "output_type": "stream",
          "text": [
            "Bleach point\n"
          ],
          "name": "stdout"
        },
        {
          "output_type": "display_data",
          "data": {
            "application/javascript": [
              "window[\"ccc4b73e-29ad-11eb-8b62-0242ac1c0002\"] = google.colab.output.setActiveOutputArea(window[\"ccc310b4-29ad-11eb-8b62-0242ac1c0002\"]);\n",
              "//# sourceURL=js_a6cbdce592"
            ],
            "text/plain": [
              "<IPython.core.display.Javascript object>"
            ]
          },
          "metadata": {
            "tags": [
              "id18-0-5",
              "outputarea_id18"
            ]
          }
        },
        {
          "output_type": "display_data",
          "data": {
            "application/javascript": [
              "window[\"ccc67150-29ad-11eb-8b62-0242ac1c0002\"] = google.colab.output.getActiveOutputArea();\n",
              "//# sourceURL=js_4f74da6624"
            ],
            "text/plain": [
              "<IPython.core.display.Javascript object>"
            ]
          },
          "metadata": {
            "tags": [
              "id18-0-6",
              "outputarea_id18"
            ]
          }
        },
        {
          "output_type": "display_data",
          "data": {
            "application/javascript": [
              "window[\"ccc6b9ee-29ad-11eb-8b62-0242ac1c0002\"] = document.querySelector(\"#id18-0-6\");\n",
              "//# sourceURL=js_bc562bc9da"
            ],
            "text/plain": [
              "<IPython.core.display.Javascript object>"
            ]
          },
          "metadata": {
            "tags": [
              "id18-0-6",
              "outputarea_id18"
            ]
          }
        },
        {
          "output_type": "display_data",
          "data": {
            "application/javascript": [
              "window[\"ccc71c68-29ad-11eb-8b62-0242ac1c0002\"] = google.colab.output.setActiveOutputArea(window[\"ccc6b9ee-29ad-11eb-8b62-0242ac1c0002\"]);\n",
              "//# sourceURL=js_4fc2192e1d"
            ],
            "text/plain": [
              "<IPython.core.display.Javascript object>"
            ]
          },
          "metadata": {
            "tags": [
              "id18-0-6",
              "outputarea_id18"
            ]
          }
        },
        {
          "output_type": "stream",
          "text": [
            "End point\n"
          ],
          "name": "stdout"
        },
        {
          "output_type": "display_data",
          "data": {
            "application/javascript": [
              "window[\"ccc87edc-29ad-11eb-8b62-0242ac1c0002\"] = google.colab.output.setActiveOutputArea(window[\"ccc67150-29ad-11eb-8b62-0242ac1c0002\"]);\n",
              "//# sourceURL=js_f01c84f87d"
            ],
            "text/plain": [
              "<IPython.core.display.Javascript object>"
            ]
          },
          "metadata": {
            "tags": [
              "id18-0-6",
              "outputarea_id18"
            ]
          }
        },
        {
          "output_type": "display_data",
          "data": {
            "application/javascript": [
              "window[\"ccca2674-29ad-11eb-8b62-0242ac1c0002\"] = google.colab.output.getActiveOutputArea();\n",
              "//# sourceURL=js_9c49800a0c"
            ],
            "text/plain": [
              "<IPython.core.display.Javascript object>"
            ]
          },
          "metadata": {
            "tags": [
              "id18-1-0",
              "outputarea_id18"
            ]
          }
        },
        {
          "output_type": "display_data",
          "data": {
            "application/javascript": [
              "window[\"ccca7804-29ad-11eb-8b62-0242ac1c0002\"] = document.querySelector(\"#id18-1-0\");\n",
              "//# sourceURL=js_154cc59924"
            ],
            "text/plain": [
              "<IPython.core.display.Javascript object>"
            ]
          },
          "metadata": {
            "tags": [
              "id18-1-0",
              "outputarea_id18"
            ]
          }
        },
        {
          "output_type": "display_data",
          "data": {
            "application/javascript": [
              "window[\"cccabe90-29ad-11eb-8b62-0242ac1c0002\"] = google.colab.output.setActiveOutputArea(window[\"ccca7804-29ad-11eb-8b62-0242ac1c0002\"]);\n",
              "//# sourceURL=js_5ac9527f05"
            ],
            "text/plain": [
              "<IPython.core.display.Javascript object>"
            ]
          },
          "metadata": {
            "tags": [
              "id18-1-0",
              "outputarea_id18"
            ]
          }
        },
        {
          "output_type": "stream",
          "text": [
            "cell2_comp\n"
          ],
          "name": "stdout"
        },
        {
          "output_type": "display_data",
          "data": {
            "application/javascript": [
              "window[\"cccbfcce-29ad-11eb-8b62-0242ac1c0002\"] = google.colab.output.setActiveOutputArea(window[\"ccca2674-29ad-11eb-8b62-0242ac1c0002\"]);\n",
              "//# sourceURL=js_1b575d1641"
            ],
            "text/plain": [
              "<IPython.core.display.Javascript object>"
            ]
          },
          "metadata": {
            "tags": [
              "id18-1-0",
              "outputarea_id18"
            ]
          }
        },
        {
          "output_type": "display_data",
          "data": {
            "application/javascript": [
              "window[\"cccda326-29ad-11eb-8b62-0242ac1c0002\"] = google.colab.output.getActiveOutputArea();\n",
              "//# sourceURL=js_15204cd33b"
            ],
            "text/plain": [
              "<IPython.core.display.Javascript object>"
            ]
          },
          "metadata": {
            "tags": [
              "id18-2-0",
              "outputarea_id18"
            ]
          }
        },
        {
          "output_type": "display_data",
          "data": {
            "application/javascript": [
              "window[\"cccded54-29ad-11eb-8b62-0242ac1c0002\"] = document.querySelector(\"#id18-2-0\");\n",
              "//# sourceURL=js_c7c29b0e5e"
            ],
            "text/plain": [
              "<IPython.core.display.Javascript object>"
            ]
          },
          "metadata": {
            "tags": [
              "id18-2-0",
              "outputarea_id18"
            ]
          }
        },
        {
          "output_type": "display_data",
          "data": {
            "application/javascript": [
              "window[\"ccce670c-29ad-11eb-8b62-0242ac1c0002\"] = google.colab.output.setActiveOutputArea(window[\"cccded54-29ad-11eb-8b62-0242ac1c0002\"]);\n",
              "//# sourceURL=js_100d3f8365"
            ],
            "text/plain": [
              "<IPython.core.display.Javascript object>"
            ]
          },
          "metadata": {
            "tags": [
              "id18-2-0",
              "outputarea_id18"
            ]
          }
        },
        {
          "output_type": "stream",
          "text": [
            "cell2\n"
          ],
          "name": "stdout"
        },
        {
          "output_type": "display_data",
          "data": {
            "application/javascript": [
              "window[\"cccf9d2a-29ad-11eb-8b62-0242ac1c0002\"] = google.colab.output.setActiveOutputArea(window[\"cccda326-29ad-11eb-8b62-0242ac1c0002\"]);\n",
              "//# sourceURL=js_82badd5ca6"
            ],
            "text/plain": [
              "<IPython.core.display.Javascript object>"
            ]
          },
          "metadata": {
            "tags": [
              "id18-2-0",
              "outputarea_id18"
            ]
          }
        },
        {
          "output_type": "display_data",
          "data": {
            "application/javascript": [
              "window[\"ccd160d8-29ad-11eb-8b62-0242ac1c0002\"] = google.colab.output.getActiveOutputArea();\n",
              "//# sourceURL=js_8cc7d168ba"
            ],
            "text/plain": [
              "<IPython.core.display.Javascript object>"
            ]
          },
          "metadata": {
            "tags": [
              "id18-3-0",
              "outputarea_id18"
            ]
          }
        },
        {
          "output_type": "display_data",
          "data": {
            "application/javascript": [
              "window[\"ccd1afa2-29ad-11eb-8b62-0242ac1c0002\"] = document.querySelector(\"#id18-3-0\");\n",
              "//# sourceURL=js_82e692a519"
            ],
            "text/plain": [
              "<IPython.core.display.Javascript object>"
            ]
          },
          "metadata": {
            "tags": [
              "id18-3-0",
              "outputarea_id18"
            ]
          }
        },
        {
          "output_type": "display_data",
          "data": {
            "application/javascript": [
              "window[\"ccd20e7a-29ad-11eb-8b62-0242ac1c0002\"] = google.colab.output.setActiveOutputArea(window[\"ccd1afa2-29ad-11eb-8b62-0242ac1c0002\"]);\n",
              "//# sourceURL=js_a6ca725ba9"
            ],
            "text/plain": [
              "<IPython.core.display.Javascript object>"
            ]
          },
          "metadata": {
            "tags": [
              "id18-3-0",
              "outputarea_id18"
            ]
          }
        },
        {
          "output_type": "stream",
          "text": [
            "cell6_bin\n"
          ],
          "name": "stdout"
        },
        {
          "output_type": "display_data",
          "data": {
            "application/javascript": [
              "window[\"ccd37e9a-29ad-11eb-8b62-0242ac1c0002\"] = google.colab.output.setActiveOutputArea(window[\"ccd160d8-29ad-11eb-8b62-0242ac1c0002\"]);\n",
              "//# sourceURL=js_fe747a5429"
            ],
            "text/plain": [
              "<IPython.core.display.Javascript object>"
            ]
          },
          "metadata": {
            "tags": [
              "id18-3-0",
              "outputarea_id18"
            ]
          }
        },
        {
          "output_type": "display_data",
          "data": {
            "application/javascript": [
              "window[\"cd879e84-29ad-11eb-8b62-0242ac1c0002\"] = google.colab.output.getActiveOutputArea();\n",
              "//# sourceURL=js_cda6e3d45d"
            ],
            "text/plain": [
              "<IPython.core.display.Javascript object>"
            ]
          },
          "metadata": {
            "tags": [
              "id18-1-1",
              "outputarea_id18"
            ]
          }
        },
        {
          "output_type": "display_data",
          "data": {
            "application/javascript": [
              "window[\"cd883510-29ad-11eb-8b62-0242ac1c0002\"] = document.querySelector(\"#id18-1-1\");\n",
              "//# sourceURL=js_f88e0d3990"
            ],
            "text/plain": [
              "<IPython.core.display.Javascript object>"
            ]
          },
          "metadata": {
            "tags": [
              "id18-1-1",
              "outputarea_id18"
            ]
          }
        },
        {
          "output_type": "display_data",
          "data": {
            "application/javascript": [
              "window[\"cd88985c-29ad-11eb-8b62-0242ac1c0002\"] = google.colab.output.setActiveOutputArea(window[\"cd883510-29ad-11eb-8b62-0242ac1c0002\"]);\n",
              "//# sourceURL=js_6fadff42f7"
            ],
            "text/plain": [
              "<IPython.core.display.Javascript object>"
            ]
          },
          "metadata": {
            "tags": [
              "id18-1-1",
              "outputarea_id18"
            ]
          }
        },
        {
          "output_type": "stream",
          "text": [
            "312\n"
          ],
          "name": "stdout"
        },
        {
          "output_type": "display_data",
          "data": {
            "application/javascript": [
              "window[\"cd89bfb6-29ad-11eb-8b62-0242ac1c0002\"] = google.colab.output.setActiveOutputArea(window[\"cd879e84-29ad-11eb-8b62-0242ac1c0002\"]);\n",
              "//# sourceURL=js_a413fd9b3c"
            ],
            "text/plain": [
              "<IPython.core.display.Javascript object>"
            ]
          },
          "metadata": {
            "tags": [
              "id18-1-1",
              "outputarea_id18"
            ]
          }
        },
        {
          "output_type": "display_data",
          "data": {
            "application/javascript": [
              "window[\"cd8b82c4-29ad-11eb-8b62-0242ac1c0002\"] = google.colab.output.getActiveOutputArea();\n",
              "//# sourceURL=js_da1f8e4e40"
            ],
            "text/plain": [
              "<IPython.core.display.Javascript object>"
            ]
          },
          "metadata": {
            "tags": [
              "id18-1-2",
              "outputarea_id18"
            ]
          }
        },
        {
          "output_type": "display_data",
          "data": {
            "application/javascript": [
              "window[\"cd8bf754-29ad-11eb-8b62-0242ac1c0002\"] = document.querySelector(\"#id18-1-2\");\n",
              "//# sourceURL=js_eeea26f4b5"
            ],
            "text/plain": [
              "<IPython.core.display.Javascript object>"
            ]
          },
          "metadata": {
            "tags": [
              "id18-1-2",
              "outputarea_id18"
            ]
          }
        },
        {
          "output_type": "display_data",
          "data": {
            "application/javascript": [
              "window[\"cd8c4b78-29ad-11eb-8b62-0242ac1c0002\"] = google.colab.output.setActiveOutputArea(window[\"cd8bf754-29ad-11eb-8b62-0242ac1c0002\"]);\n",
              "//# sourceURL=js_04e26ace9d"
            ],
            "text/plain": [
              "<IPython.core.display.Javascript object>"
            ]
          },
          "metadata": {
            "tags": [
              "id18-1-2",
              "outputarea_id18"
            ]
          }
        },
        {
          "output_type": "stream",
          "text": [
            "140\n"
          ],
          "name": "stdout"
        },
        {
          "output_type": "display_data",
          "data": {
            "application/javascript": [
              "window[\"cd8d6404-29ad-11eb-8b62-0242ac1c0002\"] = google.colab.output.setActiveOutputArea(window[\"cd8b82c4-29ad-11eb-8b62-0242ac1c0002\"]);\n",
              "//# sourceURL=js_6b49c5e9fd"
            ],
            "text/plain": [
              "<IPython.core.display.Javascript object>"
            ]
          },
          "metadata": {
            "tags": [
              "id18-1-2",
              "outputarea_id18"
            ]
          }
        },
        {
          "output_type": "display_data",
          "data": {
            "application/javascript": [
              "window[\"cd8eecf2-29ad-11eb-8b62-0242ac1c0002\"] = google.colab.output.getActiveOutputArea();\n",
              "//# sourceURL=js_a460059921"
            ],
            "text/plain": [
              "<IPython.core.display.Javascript object>"
            ]
          },
          "metadata": {
            "tags": [
              "id18-1-3",
              "outputarea_id18"
            ]
          }
        },
        {
          "output_type": "display_data",
          "data": {
            "application/javascript": [
              "window[\"cd8f7b04-29ad-11eb-8b62-0242ac1c0002\"] = document.querySelector(\"#id18-1-3\");\n",
              "//# sourceURL=js_346675f114"
            ],
            "text/plain": [
              "<IPython.core.display.Javascript object>"
            ]
          },
          "metadata": {
            "tags": [
              "id18-1-3",
              "outputarea_id18"
            ]
          }
        },
        {
          "output_type": "display_data",
          "data": {
            "application/javascript": [
              "window[\"cd8fc6cc-29ad-11eb-8b62-0242ac1c0002\"] = google.colab.output.setActiveOutputArea(window[\"cd8f7b04-29ad-11eb-8b62-0242ac1c0002\"]);\n",
              "//# sourceURL=js_890587ac17"
            ],
            "text/plain": [
              "<IPython.core.display.Javascript object>"
            ]
          },
          "metadata": {
            "tags": [
              "id18-1-3",
              "outputarea_id18"
            ]
          }
        },
        {
          "output_type": "stream",
          "text": [
            "400\n"
          ],
          "name": "stdout"
        },
        {
          "output_type": "display_data",
          "data": {
            "application/javascript": [
              "window[\"cd90cde2-29ad-11eb-8b62-0242ac1c0002\"] = google.colab.output.setActiveOutputArea(window[\"cd8eecf2-29ad-11eb-8b62-0242ac1c0002\"]);\n",
              "//# sourceURL=js_c112a014c6"
            ],
            "text/plain": [
              "<IPython.core.display.Javascript object>"
            ]
          },
          "metadata": {
            "tags": [
              "id18-1-3",
              "outputarea_id18"
            ]
          }
        },
        {
          "output_type": "display_data",
          "data": {
            "application/javascript": [
              "window[\"cd92525c-29ad-11eb-8b62-0242ac1c0002\"] = google.colab.output.getActiveOutputArea();\n",
              "//# sourceURL=js_0d347e24b0"
            ],
            "text/plain": [
              "<IPython.core.display.Javascript object>"
            ]
          },
          "metadata": {
            "tags": [
              "id18-1-4",
              "outputarea_id18"
            ]
          }
        },
        {
          "output_type": "display_data",
          "data": {
            "application/javascript": [
              "window[\"cd92a0cc-29ad-11eb-8b62-0242ac1c0002\"] = document.querySelector(\"#id18-1-4\");\n",
              "//# sourceURL=js_3a72e76c76"
            ],
            "text/plain": [
              "<IPython.core.display.Javascript object>"
            ]
          },
          "metadata": {
            "tags": [
              "id18-1-4",
              "outputarea_id18"
            ]
          }
        },
        {
          "output_type": "display_data",
          "data": {
            "application/javascript": [
              "window[\"cd9326e6-29ad-11eb-8b62-0242ac1c0002\"] = google.colab.output.setActiveOutputArea(window[\"cd92a0cc-29ad-11eb-8b62-0242ac1c0002\"]);\n",
              "//# sourceURL=js_74a7165b96"
            ],
            "text/plain": [
              "<IPython.core.display.Javascript object>"
            ]
          },
          "metadata": {
            "tags": [
              "id18-1-4",
              "outputarea_id18"
            ]
          }
        },
        {
          "output_type": "stream",
          "text": [
            "5829\n"
          ],
          "name": "stdout"
        },
        {
          "output_type": "display_data",
          "data": {
            "application/javascript": [
              "window[\"cd941e66-29ad-11eb-8b62-0242ac1c0002\"] = google.colab.output.setActiveOutputArea(window[\"cd92525c-29ad-11eb-8b62-0242ac1c0002\"]);\n",
              "//# sourceURL=js_272a77d1fa"
            ],
            "text/plain": [
              "<IPython.core.display.Javascript object>"
            ]
          },
          "metadata": {
            "tags": [
              "id18-1-4",
              "outputarea_id18"
            ]
          }
        },
        {
          "output_type": "display_data",
          "data": {
            "application/javascript": [
              "window[\"cd959be2-29ad-11eb-8b62-0242ac1c0002\"] = google.colab.output.getActiveOutputArea();\n",
              "//# sourceURL=js_d8f9386404"
            ],
            "text/plain": [
              "<IPython.core.display.Javascript object>"
            ]
          },
          "metadata": {
            "tags": [
              "id18-1-5",
              "outputarea_id18"
            ]
          }
        },
        {
          "output_type": "display_data",
          "data": {
            "application/javascript": [
              "window[\"cd9635a2-29ad-11eb-8b62-0242ac1c0002\"] = document.querySelector(\"#id18-1-5\");\n",
              "//# sourceURL=js_2d63a74e2f"
            ],
            "text/plain": [
              "<IPython.core.display.Javascript object>"
            ]
          },
          "metadata": {
            "tags": [
              "id18-1-5",
              "outputarea_id18"
            ]
          }
        },
        {
          "output_type": "display_data",
          "data": {
            "application/javascript": [
              "window[\"cd9676f2-29ad-11eb-8b62-0242ac1c0002\"] = google.colab.output.setActiveOutputArea(window[\"cd9635a2-29ad-11eb-8b62-0242ac1c0002\"]);\n",
              "//# sourceURL=js_5c748b7616"
            ],
            "text/plain": [
              "<IPython.core.display.Javascript object>"
            ]
          },
          "metadata": {
            "tags": [
              "id18-1-5",
              "outputarea_id18"
            ]
          }
        },
        {
          "output_type": "stream",
          "text": [
            "100\n"
          ],
          "name": "stdout"
        },
        {
          "output_type": "display_data",
          "data": {
            "application/javascript": [
              "window[\"cd97b6d4-29ad-11eb-8b62-0242ac1c0002\"] = google.colab.output.setActiveOutputArea(window[\"cd959be2-29ad-11eb-8b62-0242ac1c0002\"]);\n",
              "//# sourceURL=js_ba7e3e572e"
            ],
            "text/plain": [
              "<IPython.core.display.Javascript object>"
            ]
          },
          "metadata": {
            "tags": [
              "id18-1-5",
              "outputarea_id18"
            ]
          }
        },
        {
          "output_type": "display_data",
          "data": {
            "application/javascript": [
              "window[\"cd994d00-29ad-11eb-8b62-0242ac1c0002\"] = google.colab.output.getActiveOutputArea();\n",
              "//# sourceURL=js_faaad84ae0"
            ],
            "text/plain": [
              "<IPython.core.display.Javascript object>"
            ]
          },
          "metadata": {
            "tags": [
              "id18-1-6",
              "outputarea_id18"
            ]
          }
        },
        {
          "output_type": "display_data",
          "data": {
            "application/javascript": [
              "window[\"cd998fc2-29ad-11eb-8b62-0242ac1c0002\"] = document.querySelector(\"#id18-1-6\");\n",
              "//# sourceURL=js_83268782d4"
            ],
            "text/plain": [
              "<IPython.core.display.Javascript object>"
            ]
          },
          "metadata": {
            "tags": [
              "id18-1-6",
              "outputarea_id18"
            ]
          }
        },
        {
          "output_type": "display_data",
          "data": {
            "application/javascript": [
              "window[\"cd99debe-29ad-11eb-8b62-0242ac1c0002\"] = google.colab.output.setActiveOutputArea(window[\"cd998fc2-29ad-11eb-8b62-0242ac1c0002\"]);\n",
              "//# sourceURL=js_392b04517e"
            ],
            "text/plain": [
              "<IPython.core.display.Javascript object>"
            ]
          },
          "metadata": {
            "tags": [
              "id18-1-6",
              "outputarea_id18"
            ]
          }
        },
        {
          "output_type": "stream",
          "text": [
            "300\n"
          ],
          "name": "stdout"
        },
        {
          "output_type": "display_data",
          "data": {
            "application/javascript": [
              "window[\"cd9b23aa-29ad-11eb-8b62-0242ac1c0002\"] = google.colab.output.setActiveOutputArea(window[\"cd994d00-29ad-11eb-8b62-0242ac1c0002\"]);\n",
              "//# sourceURL=js_705f7ddf2c"
            ],
            "text/plain": [
              "<IPython.core.display.Javascript object>"
            ]
          },
          "metadata": {
            "tags": [
              "id18-1-6",
              "outputarea_id18"
            ]
          }
        },
        {
          "output_type": "display_data",
          "data": {
            "application/javascript": [
              "window[\"ce40a3ca-29ad-11eb-8b62-0242ac1c0002\"] = google.colab.output.getActiveOutputArea();\n",
              "//# sourceURL=js_3453f6740c"
            ],
            "text/plain": [
              "<IPython.core.display.Javascript object>"
            ]
          },
          "metadata": {
            "tags": [
              "id18-2-1",
              "outputarea_id18"
            ]
          }
        },
        {
          "output_type": "display_data",
          "data": {
            "application/javascript": [
              "window[\"ce41622e-29ad-11eb-8b62-0242ac1c0002\"] = document.querySelector(\"#id18-2-1\");\n",
              "//# sourceURL=js_5426f1699b"
            ],
            "text/plain": [
              "<IPython.core.display.Javascript object>"
            ]
          },
          "metadata": {
            "tags": [
              "id18-2-1",
              "outputarea_id18"
            ]
          }
        },
        {
          "output_type": "display_data",
          "data": {
            "application/javascript": [
              "window[\"ce4240fe-29ad-11eb-8b62-0242ac1c0002\"] = google.colab.output.setActiveOutputArea(window[\"ce41622e-29ad-11eb-8b62-0242ac1c0002\"]);\n",
              "//# sourceURL=js_8b208a3c2b"
            ],
            "text/plain": [
              "<IPython.core.display.Javascript object>"
            ]
          },
          "metadata": {
            "tags": [
              "id18-2-1",
              "outputarea_id18"
            ]
          }
        },
        {
          "output_type": "stream",
          "text": [
            "312\n"
          ],
          "name": "stdout"
        },
        {
          "output_type": "display_data",
          "data": {
            "application/javascript": [
              "window[\"ce44a2cc-29ad-11eb-8b62-0242ac1c0002\"] = google.colab.output.setActiveOutputArea(window[\"ce40a3ca-29ad-11eb-8b62-0242ac1c0002\"]);\n",
              "//# sourceURL=js_4733bc19bd"
            ],
            "text/plain": [
              "<IPython.core.display.Javascript object>"
            ]
          },
          "metadata": {
            "tags": [
              "id18-2-1",
              "outputarea_id18"
            ]
          }
        },
        {
          "output_type": "display_data",
          "data": {
            "application/javascript": [
              "window[\"ce473c58-29ad-11eb-8b62-0242ac1c0002\"] = google.colab.output.getActiveOutputArea();\n",
              "//# sourceURL=js_2564ecaf67"
            ],
            "text/plain": [
              "<IPython.core.display.Javascript object>"
            ]
          },
          "metadata": {
            "tags": [
              "id18-2-2",
              "outputarea_id18"
            ]
          }
        },
        {
          "output_type": "display_data",
          "data": {
            "application/javascript": [
              "window[\"ce47b778-29ad-11eb-8b62-0242ac1c0002\"] = document.querySelector(\"#id18-2-2\");\n",
              "//# sourceURL=js_48857e0650"
            ],
            "text/plain": [
              "<IPython.core.display.Javascript object>"
            ]
          },
          "metadata": {
            "tags": [
              "id18-2-2",
              "outputarea_id18"
            ]
          }
        },
        {
          "output_type": "display_data",
          "data": {
            "application/javascript": [
              "window[\"ce480c78-29ad-11eb-8b62-0242ac1c0002\"] = google.colab.output.setActiveOutputArea(window[\"ce47b778-29ad-11eb-8b62-0242ac1c0002\"]);\n",
              "//# sourceURL=js_85926d3bdf"
            ],
            "text/plain": [
              "<IPython.core.display.Javascript object>"
            ]
          },
          "metadata": {
            "tags": [
              "id18-2-2",
              "outputarea_id18"
            ]
          }
        },
        {
          "output_type": "stream",
          "text": [
            "140\n"
          ],
          "name": "stdout"
        },
        {
          "output_type": "display_data",
          "data": {
            "application/javascript": [
              "window[\"ce4927fc-29ad-11eb-8b62-0242ac1c0002\"] = google.colab.output.setActiveOutputArea(window[\"ce473c58-29ad-11eb-8b62-0242ac1c0002\"]);\n",
              "//# sourceURL=js_d10d1929c7"
            ],
            "text/plain": [
              "<IPython.core.display.Javascript object>"
            ]
          },
          "metadata": {
            "tags": [
              "id18-2-2",
              "outputarea_id18"
            ]
          }
        },
        {
          "output_type": "display_data",
          "data": {
            "application/javascript": [
              "window[\"ce4acc4c-29ad-11eb-8b62-0242ac1c0002\"] = google.colab.output.getActiveOutputArea();\n",
              "//# sourceURL=js_2ca758b5a0"
            ],
            "text/plain": [
              "<IPython.core.display.Javascript object>"
            ]
          },
          "metadata": {
            "tags": [
              "id18-2-3",
              "outputarea_id18"
            ]
          }
        },
        {
          "output_type": "display_data",
          "data": {
            "application/javascript": [
              "window[\"ce4b177e-29ad-11eb-8b62-0242ac1c0002\"] = document.querySelector(\"#id18-2-3\");\n",
              "//# sourceURL=js_96d247aa95"
            ],
            "text/plain": [
              "<IPython.core.display.Javascript object>"
            ]
          },
          "metadata": {
            "tags": [
              "id18-2-3",
              "outputarea_id18"
            ]
          }
        },
        {
          "output_type": "display_data",
          "data": {
            "application/javascript": [
              "window[\"ce4bb774-29ad-11eb-8b62-0242ac1c0002\"] = google.colab.output.setActiveOutputArea(window[\"ce4b177e-29ad-11eb-8b62-0242ac1c0002\"]);\n",
              "//# sourceURL=js_5a25123a60"
            ],
            "text/plain": [
              "<IPython.core.display.Javascript object>"
            ]
          },
          "metadata": {
            "tags": [
              "id18-2-3",
              "outputarea_id18"
            ]
          }
        },
        {
          "output_type": "stream",
          "text": [
            "400\n"
          ],
          "name": "stdout"
        },
        {
          "output_type": "display_data",
          "data": {
            "application/javascript": [
              "window[\"ce4cb19c-29ad-11eb-8b62-0242ac1c0002\"] = google.colab.output.setActiveOutputArea(window[\"ce4acc4c-29ad-11eb-8b62-0242ac1c0002\"]);\n",
              "//# sourceURL=js_782762f109"
            ],
            "text/plain": [
              "<IPython.core.display.Javascript object>"
            ]
          },
          "metadata": {
            "tags": [
              "id18-2-3",
              "outputarea_id18"
            ]
          }
        },
        {
          "output_type": "display_data",
          "data": {
            "application/javascript": [
              "window[\"ce4e38d2-29ad-11eb-8b62-0242ac1c0002\"] = google.colab.output.getActiveOutputArea();\n",
              "//# sourceURL=js_fb2f06db6d"
            ],
            "text/plain": [
              "<IPython.core.display.Javascript object>"
            ]
          },
          "metadata": {
            "tags": [
              "id18-2-4",
              "outputarea_id18"
            ]
          }
        },
        {
          "output_type": "display_data",
          "data": {
            "application/javascript": [
              "window[\"ce4e8436-29ad-11eb-8b62-0242ac1c0002\"] = document.querySelector(\"#id18-2-4\");\n",
              "//# sourceURL=js_b91f97ff36"
            ],
            "text/plain": [
              "<IPython.core.display.Javascript object>"
            ]
          },
          "metadata": {
            "tags": [
              "id18-2-4",
              "outputarea_id18"
            ]
          }
        },
        {
          "output_type": "display_data",
          "data": {
            "application/javascript": [
              "window[\"ce4ecab8-29ad-11eb-8b62-0242ac1c0002\"] = google.colab.output.setActiveOutputArea(window[\"ce4e8436-29ad-11eb-8b62-0242ac1c0002\"]);\n",
              "//# sourceURL=js_c283a4db19"
            ],
            "text/plain": [
              "<IPython.core.display.Javascript object>"
            ]
          },
          "metadata": {
            "tags": [
              "id18-2-4",
              "outputarea_id18"
            ]
          }
        },
        {
          "output_type": "stream",
          "text": [
            "6278\n"
          ],
          "name": "stdout"
        },
        {
          "output_type": "display_data",
          "data": {
            "application/javascript": [
              "window[\"ce500f7c-29ad-11eb-8b62-0242ac1c0002\"] = google.colab.output.setActiveOutputArea(window[\"ce4e38d2-29ad-11eb-8b62-0242ac1c0002\"]);\n",
              "//# sourceURL=js_f3e217bca6"
            ],
            "text/plain": [
              "<IPython.core.display.Javascript object>"
            ]
          },
          "metadata": {
            "tags": [
              "id18-2-4",
              "outputarea_id18"
            ]
          }
        },
        {
          "output_type": "display_data",
          "data": {
            "application/javascript": [
              "window[\"ce519054-29ad-11eb-8b62-0242ac1c0002\"] = google.colab.output.getActiveOutputArea();\n",
              "//# sourceURL=js_1de5f09d53"
            ],
            "text/plain": [
              "<IPython.core.display.Javascript object>"
            ]
          },
          "metadata": {
            "tags": [
              "id18-2-5",
              "outputarea_id18"
            ]
          }
        },
        {
          "output_type": "display_data",
          "data": {
            "application/javascript": [
              "window[\"ce51da82-29ad-11eb-8b62-0242ac1c0002\"] = document.querySelector(\"#id18-2-5\");\n",
              "//# sourceURL=js_81794602cf"
            ],
            "text/plain": [
              "<IPython.core.display.Javascript object>"
            ]
          },
          "metadata": {
            "tags": [
              "id18-2-5",
              "outputarea_id18"
            ]
          }
        },
        {
          "output_type": "display_data",
          "data": {
            "application/javascript": [
              "window[\"ce52befc-29ad-11eb-8b62-0242ac1c0002\"] = google.colab.output.setActiveOutputArea(window[\"ce51da82-29ad-11eb-8b62-0242ac1c0002\"]);\n",
              "//# sourceURL=js_d21a0ee40a"
            ],
            "text/plain": [
              "<IPython.core.display.Javascript object>"
            ]
          },
          "metadata": {
            "tags": [
              "id18-2-5",
              "outputarea_id18"
            ]
          }
        },
        {
          "output_type": "stream",
          "text": [
            "100\n"
          ],
          "name": "stdout"
        },
        {
          "output_type": "display_data",
          "data": {
            "application/javascript": [
              "window[\"ce54044c-29ad-11eb-8b62-0242ac1c0002\"] = google.colab.output.setActiveOutputArea(window[\"ce519054-29ad-11eb-8b62-0242ac1c0002\"]);\n",
              "//# sourceURL=js_65836148a1"
            ],
            "text/plain": [
              "<IPython.core.display.Javascript object>"
            ]
          },
          "metadata": {
            "tags": [
              "id18-2-5",
              "outputarea_id18"
            ]
          }
        },
        {
          "output_type": "display_data",
          "data": {
            "application/javascript": [
              "window[\"ce558222-29ad-11eb-8b62-0242ac1c0002\"] = google.colab.output.getActiveOutputArea();\n",
              "//# sourceURL=js_4913622c0b"
            ],
            "text/plain": [
              "<IPython.core.display.Javascript object>"
            ]
          },
          "metadata": {
            "tags": [
              "id18-2-6",
              "outputarea_id18"
            ]
          }
        },
        {
          "output_type": "display_data",
          "data": {
            "application/javascript": [
              "window[\"ce55c660-29ad-11eb-8b62-0242ac1c0002\"] = document.querySelector(\"#id18-2-6\");\n",
              "//# sourceURL=js_5aef0c8ab6"
            ],
            "text/plain": [
              "<IPython.core.display.Javascript object>"
            ]
          },
          "metadata": {
            "tags": [
              "id18-2-6",
              "outputarea_id18"
            ]
          }
        },
        {
          "output_type": "display_data",
          "data": {
            "application/javascript": [
              "window[\"ce561304-29ad-11eb-8b62-0242ac1c0002\"] = google.colab.output.setActiveOutputArea(window[\"ce55c660-29ad-11eb-8b62-0242ac1c0002\"]);\n",
              "//# sourceURL=js_45fea46f7b"
            ],
            "text/plain": [
              "<IPython.core.display.Javascript object>"
            ]
          },
          "metadata": {
            "tags": [
              "id18-2-6",
              "outputarea_id18"
            ]
          }
        },
        {
          "output_type": "stream",
          "text": [
            "300\n"
          ],
          "name": "stdout"
        },
        {
          "output_type": "display_data",
          "data": {
            "application/javascript": [
              "window[\"ce5746ac-29ad-11eb-8b62-0242ac1c0002\"] = google.colab.output.setActiveOutputArea(window[\"ce558222-29ad-11eb-8b62-0242ac1c0002\"]);\n",
              "//# sourceURL=js_acfbd5f600"
            ],
            "text/plain": [
              "<IPython.core.display.Javascript object>"
            ]
          },
          "metadata": {
            "tags": [
              "id18-2-6",
              "outputarea_id18"
            ]
          }
        },
        {
          "output_type": "display_data",
          "data": {
            "application/javascript": [
              "window[\"cf604684-29ad-11eb-8b62-0242ac1c0002\"] = google.colab.output.getActiveOutputArea();\n",
              "//# sourceURL=js_334fe62279"
            ],
            "text/plain": [
              "<IPython.core.display.Javascript object>"
            ]
          },
          "metadata": {
            "tags": [
              "id18-3-1",
              "outputarea_id18"
            ]
          }
        },
        {
          "output_type": "display_data",
          "data": {
            "application/javascript": [
              "window[\"cf609bb6-29ad-11eb-8b62-0242ac1c0002\"] = document.querySelector(\"#id18-3-1\");\n",
              "//# sourceURL=js_3d7ded492f"
            ],
            "text/plain": [
              "<IPython.core.display.Javascript object>"
            ]
          },
          "metadata": {
            "tags": [
              "id18-3-1",
              "outputarea_id18"
            ]
          }
        },
        {
          "output_type": "display_data",
          "data": {
            "application/javascript": [
              "window[\"cf611140-29ad-11eb-8b62-0242ac1c0002\"] = google.colab.output.setActiveOutputArea(window[\"cf609bb6-29ad-11eb-8b62-0242ac1c0002\"]);\n",
              "//# sourceURL=js_386c2f1bb1"
            ],
            "text/plain": [
              "<IPython.core.display.Javascript object>"
            ]
          },
          "metadata": {
            "tags": [
              "id18-3-1",
              "outputarea_id18"
            ]
          }
        },
        {
          "output_type": "stream",
          "text": [
            "78\n"
          ],
          "name": "stdout"
        },
        {
          "output_type": "display_data",
          "data": {
            "application/javascript": [
              "window[\"cf6253ac-29ad-11eb-8b62-0242ac1c0002\"] = google.colab.output.setActiveOutputArea(window[\"cf604684-29ad-11eb-8b62-0242ac1c0002\"]);\n",
              "//# sourceURL=js_25c3520f02"
            ],
            "text/plain": [
              "<IPython.core.display.Javascript object>"
            ]
          },
          "metadata": {
            "tags": [
              "id18-3-1",
              "outputarea_id18"
            ]
          }
        },
        {
          "output_type": "display_data",
          "data": {
            "application/javascript": [
              "window[\"cf642c18-29ad-11eb-8b62-0242ac1c0002\"] = google.colab.output.getActiveOutputArea();\n",
              "//# sourceURL=js_9285f46581"
            ],
            "text/plain": [
              "<IPython.core.display.Javascript object>"
            ]
          },
          "metadata": {
            "tags": [
              "id18-3-2",
              "outputarea_id18"
            ]
          }
        },
        {
          "output_type": "display_data",
          "data": {
            "application/javascript": [
              "window[\"cf648154-29ad-11eb-8b62-0242ac1c0002\"] = document.querySelector(\"#id18-3-2\");\n",
              "//# sourceURL=js_e60fc22f8b"
            ],
            "text/plain": [
              "<IPython.core.display.Javascript object>"
            ]
          },
          "metadata": {
            "tags": [
              "id18-3-2",
              "outputarea_id18"
            ]
          }
        },
        {
          "output_type": "display_data",
          "data": {
            "application/javascript": [
              "window[\"cf64d12c-29ad-11eb-8b62-0242ac1c0002\"] = google.colab.output.setActiveOutputArea(window[\"cf648154-29ad-11eb-8b62-0242ac1c0002\"]);\n",
              "//# sourceURL=js_4e52c0bc88"
            ],
            "text/plain": [
              "<IPython.core.display.Javascript object>"
            ]
          },
          "metadata": {
            "tags": [
              "id18-3-2",
              "outputarea_id18"
            ]
          }
        },
        {
          "output_type": "stream",
          "text": [
            "30\n"
          ],
          "name": "stdout"
        },
        {
          "output_type": "display_data",
          "data": {
            "application/javascript": [
              "window[\"cf6625cc-29ad-11eb-8b62-0242ac1c0002\"] = google.colab.output.setActiveOutputArea(window[\"cf642c18-29ad-11eb-8b62-0242ac1c0002\"]);\n",
              "//# sourceURL=js_7d0b7bf79c"
            ],
            "text/plain": [
              "<IPython.core.display.Javascript object>"
            ]
          },
          "metadata": {
            "tags": [
              "id18-3-2",
              "outputarea_id18"
            ]
          }
        },
        {
          "output_type": "display_data",
          "data": {
            "application/javascript": [
              "window[\"cf67fcc6-29ad-11eb-8b62-0242ac1c0002\"] = google.colab.output.getActiveOutputArea();\n",
              "//# sourceURL=js_a95dbd8ef4"
            ],
            "text/plain": [
              "<IPython.core.display.Javascript object>"
            ]
          },
          "metadata": {
            "tags": [
              "id18-3-3",
              "outputarea_id18"
            ]
          }
        },
        {
          "output_type": "display_data",
          "data": {
            "application/javascript": [
              "window[\"cf684b9a-29ad-11eb-8b62-0242ac1c0002\"] = document.querySelector(\"#id18-3-3\");\n",
              "//# sourceURL=js_b9afbc3654"
            ],
            "text/plain": [
              "<IPython.core.display.Javascript object>"
            ]
          },
          "metadata": {
            "tags": [
              "id18-3-3",
              "outputarea_id18"
            ]
          }
        },
        {
          "output_type": "display_data",
          "data": {
            "application/javascript": [
              "window[\"cf68ceb2-29ad-11eb-8b62-0242ac1c0002\"] = google.colab.output.setActiveOutputArea(window[\"cf684b9a-29ad-11eb-8b62-0242ac1c0002\"]);\n",
              "//# sourceURL=js_177b1e9197"
            ],
            "text/plain": [
              "<IPython.core.display.Javascript object>"
            ]
          },
          "metadata": {
            "tags": [
              "id18-3-3",
              "outputarea_id18"
            ]
          }
        },
        {
          "output_type": "stream",
          "text": [
            "409\n"
          ],
          "name": "stdout"
        },
        {
          "output_type": "display_data",
          "data": {
            "application/javascript": [
              "window[\"cf69ccf4-29ad-11eb-8b62-0242ac1c0002\"] = google.colab.output.setActiveOutputArea(window[\"cf67fcc6-29ad-11eb-8b62-0242ac1c0002\"]);\n",
              "//# sourceURL=js_c7b9be62ef"
            ],
            "text/plain": [
              "<IPython.core.display.Javascript object>"
            ]
          },
          "metadata": {
            "tags": [
              "id18-3-3",
              "outputarea_id18"
            ]
          }
        },
        {
          "output_type": "display_data",
          "data": {
            "application/javascript": [
              "window[\"cf6b44da-29ad-11eb-8b62-0242ac1c0002\"] = google.colab.output.getActiveOutputArea();\n",
              "//# sourceURL=js_b87a490b3b"
            ],
            "text/plain": [
              "<IPython.core.display.Javascript object>"
            ]
          },
          "metadata": {
            "tags": [
              "id18-3-4",
              "outputarea_id18"
            ]
          }
        },
        {
          "output_type": "display_data",
          "data": {
            "application/javascript": [
              "window[\"cf6b894a-29ad-11eb-8b62-0242ac1c0002\"] = document.querySelector(\"#id18-3-4\");\n",
              "//# sourceURL=js_29a43962ad"
            ],
            "text/plain": [
              "<IPython.core.display.Javascript object>"
            ]
          },
          "metadata": {
            "tags": [
              "id18-3-4",
              "outputarea_id18"
            ]
          }
        },
        {
          "output_type": "display_data",
          "data": {
            "application/javascript": [
              "window[\"cf6bea48-29ad-11eb-8b62-0242ac1c0002\"] = google.colab.output.setActiveOutputArea(window[\"cf6b894a-29ad-11eb-8b62-0242ac1c0002\"]);\n",
              "//# sourceURL=js_667f7328b8"
            ],
            "text/plain": [
              "<IPython.core.display.Javascript object>"
            ]
          },
          "metadata": {
            "tags": [
              "id18-3-4",
              "outputarea_id18"
            ]
          }
        },
        {
          "output_type": "stream",
          "text": [
            "175\n"
          ],
          "name": "stdout"
        },
        {
          "output_type": "display_data",
          "data": {
            "application/javascript": [
              "window[\"cf6cffaa-29ad-11eb-8b62-0242ac1c0002\"] = google.colab.output.setActiveOutputArea(window[\"cf6b44da-29ad-11eb-8b62-0242ac1c0002\"]);\n",
              "//# sourceURL=js_ae705feda2"
            ],
            "text/plain": [
              "<IPython.core.display.Javascript object>"
            ]
          },
          "metadata": {
            "tags": [
              "id18-3-4",
              "outputarea_id18"
            ]
          }
        },
        {
          "output_type": "display_data",
          "data": {
            "application/javascript": [
              "window[\"cf6ec8da-29ad-11eb-8b62-0242ac1c0002\"] = google.colab.output.getActiveOutputArea();\n",
              "//# sourceURL=js_698321cde6"
            ],
            "text/plain": [
              "<IPython.core.display.Javascript object>"
            ]
          },
          "metadata": {
            "tags": [
              "id18-3-5",
              "outputarea_id18"
            ]
          }
        },
        {
          "output_type": "display_data",
          "data": {
            "application/javascript": [
              "window[\"cf6f10b0-29ad-11eb-8b62-0242ac1c0002\"] = document.querySelector(\"#id18-3-5\");\n",
              "//# sourceURL=js_8af24b3ed9"
            ],
            "text/plain": [
              "<IPython.core.display.Javascript object>"
            ]
          },
          "metadata": {
            "tags": [
              "id18-3-5",
              "outputarea_id18"
            ]
          }
        },
        {
          "output_type": "display_data",
          "data": {
            "application/javascript": [
              "window[\"cf6f610a-29ad-11eb-8b62-0242ac1c0002\"] = google.colab.output.setActiveOutputArea(window[\"cf6f10b0-29ad-11eb-8b62-0242ac1c0002\"]);\n",
              "//# sourceURL=js_5b85c1ec56"
            ],
            "text/plain": [
              "<IPython.core.display.Javascript object>"
            ]
          },
          "metadata": {
            "tags": [
              "id18-3-5",
              "outputarea_id18"
            ]
          }
        },
        {
          "output_type": "stream",
          "text": [
            "100\n"
          ],
          "name": "stdout"
        },
        {
          "output_type": "display_data",
          "data": {
            "application/javascript": [
              "window[\"cf705efc-29ad-11eb-8b62-0242ac1c0002\"] = google.colab.output.setActiveOutputArea(window[\"cf6ec8da-29ad-11eb-8b62-0242ac1c0002\"]);\n",
              "//# sourceURL=js_4d7dc0870a"
            ],
            "text/plain": [
              "<IPython.core.display.Javascript object>"
            ]
          },
          "metadata": {
            "tags": [
              "id18-3-5",
              "outputarea_id18"
            ]
          }
        },
        {
          "output_type": "display_data",
          "data": {
            "application/javascript": [
              "window[\"cf72f752-29ad-11eb-8b62-0242ac1c0002\"] = google.colab.output.getActiveOutputArea();\n",
              "//# sourceURL=js_1836573511"
            ],
            "text/plain": [
              "<IPython.core.display.Javascript object>"
            ]
          },
          "metadata": {
            "tags": [
              "id18-3-6",
              "outputarea_id18"
            ]
          }
        },
        {
          "output_type": "display_data",
          "data": {
            "application/javascript": [
              "window[\"cf7340f4-29ad-11eb-8b62-0242ac1c0002\"] = document.querySelector(\"#id18-3-6\");\n",
              "//# sourceURL=js_37ea44e01b"
            ],
            "text/plain": [
              "<IPython.core.display.Javascript object>"
            ]
          },
          "metadata": {
            "tags": [
              "id18-3-6",
              "outputarea_id18"
            ]
          }
        },
        {
          "output_type": "display_data",
          "data": {
            "application/javascript": [
              "window[\"cf74591c-29ad-11eb-8b62-0242ac1c0002\"] = google.colab.output.setActiveOutputArea(window[\"cf7340f4-29ad-11eb-8b62-0242ac1c0002\"]);\n",
              "//# sourceURL=js_c93d8b1489"
            ],
            "text/plain": [
              "<IPython.core.display.Javascript object>"
            ]
          },
          "metadata": {
            "tags": [
              "id18-3-6",
              "outputarea_id18"
            ]
          }
        },
        {
          "output_type": "stream",
          "text": [
            "300\n"
          ],
          "name": "stdout"
        },
        {
          "output_type": "display_data",
          "data": {
            "application/javascript": [
              "window[\"cf75766c-29ad-11eb-8b62-0242ac1c0002\"] = google.colab.output.setActiveOutputArea(window[\"cf72f752-29ad-11eb-8b62-0242ac1c0002\"]);\n",
              "//# sourceURL=js_75266b5ea8"
            ],
            "text/plain": [
              "<IPython.core.display.Javascript object>"
            ]
          },
          "metadata": {
            "tags": [
              "id18-3-6",
              "outputarea_id18"
            ]
          }
        }
      ]
    },
    {
      "cell_type": "code",
      "metadata": {
        "id": "NQcFJ3reOWKf",
        "colab": {
          "base_uri": "https://localhost:8080/"
        },
        "outputId": "331b8245-9cd8-4d4c-f805-9c1b52e372a8"
      },
      "source": [
        "from google.colab import drive\n",
        "drive.mount('/content/drive')"
      ],
      "execution_count": null,
      "outputs": [
        {
          "output_type": "stream",
          "text": [
            "Drive already mounted at /content/drive; to attempt to forcibly remount, call drive.mount(\"/content/drive\", force_remount=True).\n"
          ],
          "name": "stdout"
        }
      ]
    },
    {
      "cell_type": "markdown",
      "metadata": {
        "id": "26AELxHW47Nd"
      },
      "source": [
        "The following is a framework for performing many parallel least squares fits on the GPU."
      ]
    },
    {
      "cell_type": "code",
      "metadata": {
        "id": "07mkOKK4uzdL"
      },
      "source": [
        "#@title Gaussian elimination\n",
        "import numba as nb\n",
        "import numba.cuda as nc\n",
        "\n",
        "@nc.jit((nb.float64[:, ::1], nb.float64[:, ::1]), device = True)\n",
        "def solveGaussian(A, b):\n",
        "  \"\"\"\n",
        "  Solve A @ x = b (where A is nxn and x and b are nxm). Returns x in b and\n",
        "  clobbers A into the identity.\n",
        "  \"\"\"\n",
        "  # Place in row echelon form\n",
        "  i = 0\n",
        "  j = 0\n",
        "  while i < A.shape[0] and j < A.shape[1]:\n",
        "    if A[i, j] == 0:\n",
        "      best = i\n",
        "      for k in range(i, A.shape[0]):\n",
        "        if abs(A[k, j]) > abs(A[best, j]):\n",
        "          best = k\n",
        "      if A[best, j] != 0:\n",
        "        for k in range(j, A.shape[1]):\n",
        "          A[i, k], A[best, k] = A[best, k], A[i, k]\n",
        "        for k in range(b.shape[1]):\n",
        "          b[i, k], b[best, k] = b[best, k], b[i, k]\n",
        "    if A[i, j] != 0:\n",
        "      for k in range(i + 1, A.shape[0]):\n",
        "        factor = -A[k, j] / A[i, j]\n",
        "        for l in range(j + 1, A.shape[1]):\n",
        "          A[k, l] += factor * A[i, l]\n",
        "        A[k, j] = 0\n",
        "        for l in range(b.shape[1]):\n",
        "          b[k, l] += factor * b[i, l]\n",
        "      i += 1\n",
        "    j += 1\n",
        "  # Repair singular matrices by placing 1s along the diagonal\n",
        "  for j in range(i, A.shape[0]):\n",
        "    A[j, j] = 1\n",
        "  # Finally, reduce A to the identity\n",
        "  for i in range(A.shape[0]):\n",
        "    i = A.shape[0] - 1 - i\n",
        "    for j in range(b.shape[1]):\n",
        "      b[i, j] /= A[i, i]\n",
        "    A[i, i] = 1\n",
        "    for j in range(i):\n",
        "      for k in range(b.shape[1]):\n",
        "        b[j, k] -= A[j, i] * b[i, k]\n",
        "      A[j, i] = 0"
      ],
      "execution_count": null,
      "outputs": []
    },
    {
      "cell_type": "code",
      "metadata": {
        "id": "9US0pQXOWk0B",
        "cellView": "form"
      },
      "source": [
        "#@title Least-squares fit and covariance estimation\n",
        "def makeFit(n, f, dfdX, bounds = None):\n",
        "  \"\"\"\n",
        "  Create a CUDA device function that performs a least squares fit to the\n",
        "  function f with n parameters. Both f and dfdX should be device functions\n",
        "  themselves. f should have signature float64(float64, float64[::1]), and dfdX\n",
        "  should be void(float64, float64[::1], float[::1]). The first two parameters of\n",
        "  each are the curve parameter t >= 0 and the fit parameters in an array of\n",
        "  shape (n,). f should simple return the value of the function, while dfdX\n",
        "  should return into the final array (provided with shape (n,)) the derivatives\n",
        "  of f with respect to its parameters (in the same order as the parameters). The\n",
        "  bounds should be an iterable of pairs of length at least n. The first element\n",
        "  of each pair is the lower bound for the corresponding parameter, and the\n",
        "  second is the upper. By default, there are no bounds (they are (-inf, inf) for\n",
        "  every parameter).\n",
        "\n",
        "  The resulting function has signature\n",
        "  float64(float64[::1], float64[::1], float64[::1], float64[:, ::1]). Its first\n",
        "  parameter is the array of values that need to be fit (of shape (m,) for any\n",
        "  m), its second is both the initial guess for the parameters and the return\n",
        "  location for the fit, its third is the return location for the residuals, and\n",
        "  the fourth is the return location for the approximated Hessian matrix\n",
        "  (actually J.T @ J, where J is the Jacobian of the residuals) of the objective\n",
        "  function (of shape (n, n)). The return value is the total R^2 value (the\n",
        "  minimized sum of the residuals).\n",
        "  \"\"\"\n",
        "  if bounds is None:\n",
        "    bounds = [(-float(\"inf\"), float(\"inf\"))] * n\n",
        "  def makeReflector(i, lo, hi):\n",
        "    @nc.jit((nb.float64[::1],), device = True, inline = True)\n",
        "    def reflector(params):\n",
        "      while True:\n",
        "        if params[i] < lo:\n",
        "          params[i] = (lo - params[i]) + lo\n",
        "          continue\n",
        "        if params[i] > hi:\n",
        "          params[i] = (hi - params[i]) + hi\n",
        "          continue\n",
        "        break\n",
        "    return reflector\n",
        "  if ENABLE_CUDASIM:\n",
        "    reflectors = \\\n",
        "      [makeReflector(i, *bound) for i, bound in zip(range(n), bounds)]\n",
        "    @nc.jit((nb.float64[::1],), device = True, inline = True)\n",
        "    def reflector(params):\n",
        "      for reflector in reflectors:\n",
        "        reflector(params)\n",
        "  else:\n",
        "    @nc.jit((nb.float64[::1],), device = True, inline = True)\n",
        "    def reflector(_): pass\n",
        "    for i, bound in zip(range(n), bounds):\n",
        "      nextReflector = makeReflector(i, *bound)\n",
        "      @nc.jit((nb.float64[::1],), device = True, inline = True)\n",
        "      def reflector(params):\n",
        "        reflector(params)\n",
        "        nextReflector(params)\n",
        "\n",
        "  @nc.jit(\n",
        "    nb.float64(nb.float64[::1], nb.float64[::1], nb.float64[::1]),\n",
        "    device = True, inline = True)\n",
        "  def calcResiduals(values, params, residuals):\n",
        "    R2 = 0\n",
        "    for t in range(residuals.size):\n",
        "      residuals[t] = values[t] - f(t, params)\n",
        "      R2 += residuals[t] * residuals[t]\n",
        "    return R2\n",
        "\n",
        "  @nc.jit(\n",
        "      nb.float64(\n",
        "          nb.float64[::1], nb.float64[::1], nb.float64[::1],\n",
        "          nb.float64[:, ::1]),\n",
        "      device = True)\n",
        "  def impl(values, params, residuals, hessian):\n",
        "    # R. Fletcher, A Modified Marquardt Subroutine for Non-Linear Least Squares\n",
        "    R2 = calcResiduals(values, params, residuals)\n",
        "    damping = 0\n",
        "    cutoff = 0\n",
        "    for i in range(1000):\n",
        "      # Normal equation:\n",
        "      # (jac.T @ jac + damping * diag(jac.T @ jac)) @ shift = jac.T @ residuals\n",
        "      # jac is the negative/positive Jacobian of the residuals/predictions\n",
        "      # hessian = jac.T @ jac\n",
        "      # gradient = jac.T @ residuals is the (negative) gradient of the objective\n",
        "      gradient = nc.local.array(n, nb.float64)\n",
        "      for i in range(n):\n",
        "        for j in range(i, n):\n",
        "          hessian[i, j] = 0\n",
        "        gradient[i] = 0\n",
        "      for t in range(values.size):\n",
        "        derivatives = nc.local.array(n, nb.float64)\n",
        "        dfdX(t, params, derivatives)\n",
        "        for i in range(n):\n",
        "          for j in range(i, n):\n",
        "            hessian[i, j] += derivatives[i] * derivatives[j]\n",
        "          gradient[i] += residuals[t] * derivatives[i]\n",
        "      for i in range(n):\n",
        "        for j in range(i):\n",
        "          hessian[i, j] = hessian[j, i]\n",
        "\n",
        "      newR2 = R2\n",
        "      while newR2 >= R2:\n",
        "        dampedMat = nc.local.array((n, n), nb.float64)\n",
        "        for i in range(n):\n",
        "          for j in range(n):\n",
        "            dampedMat[i, j] = hessian[i, j] * 1 + (damping if i == j else 0)\n",
        "\n",
        "        shift = nc.local.array((n, 1), nb.float64)\n",
        "        for i in range(n):\n",
        "          shift[i, 0] = gradient[i]\n",
        "        solveGaussian(dampedMat, shift)\n",
        "\n",
        "        size2 = 0\n",
        "        for i in range(n):\n",
        "          size2 += shift[i, 0] * shift[i, 0]\n",
        "        if size2 < 0.000001 * 0.000001:\n",
        "          break\n",
        "\n",
        "        attempt = nc.local.array(n, nb.float64)\n",
        "        for i in range(n):\n",
        "          attempt[i] = params[i] + shift[i, 0]\n",
        "        reflector(attempt)\n",
        "\n",
        "        newR2 = calcResiduals(values, attempt, residuals)\n",
        "        # Predicted reduction:\n",
        "        # 2 * shift.T @ gradient - shift.T @ hessian @ shift\n",
        "        red = 0\n",
        "        for i in range(n):\n",
        "          red += shift[i, 0] * gradient[i]\n",
        "        red *= 2\n",
        "        for i in range(n):\n",
        "          right = 0\n",
        "          for j in range(n):\n",
        "            right += hessian[i, j] * shift[j, 0]\n",
        "          red -= shift[i, 0] * right\n",
        "\n",
        "        if (R2 - newR2) / red > 0.75:\n",
        "          damping /= 2\n",
        "          if damping < cutoff:\n",
        "            damping = 0\n",
        "        elif (R2 - newR2) / red < 0.25:\n",
        "          alignment = 0\n",
        "          for i in range(n):\n",
        "            alignment += shift[i, 0] * gradient[i]\n",
        "          factor = 2 - (newR2 - R2) / alignment\n",
        "          if factor < 2:\n",
        "            factor = 2\n",
        "          elif factor > 10:\n",
        "            factor = 10\n",
        "\n",
        "          if damping == 0:\n",
        "            # damping = tr(hessian^-1)\n",
        "            for i in range(n):\n",
        "              for j in range(n):\n",
        "                dampedMat[i, j] = hessian[i, j]\n",
        "            inverted = nc.local.array((n, n), nb.float64)\n",
        "            for i in range(n):\n",
        "              for j in range(n):\n",
        "                inverted[i, j] = 1 if i == j else 0\n",
        "            solveGaussian(dampedMat, inverted)\n",
        "            for i in range(n):\n",
        "              damping += inverted[i, i]\n",
        "            cutoff = damping\n",
        "            factor /= 2\n",
        "\n",
        "          damping *= factor\n",
        "      else:\n",
        "        for i in range(n):\n",
        "          params[i] = attempt[i]\n",
        "        R2 = newR2\n",
        "        continue\n",
        "      break\n",
        "\n",
        "    return R2\n",
        "\n",
        "  return impl\n",
        "\n",
        "def makeFitCovariance(n, d2fdX2):\n",
        "  \"\"\"\n",
        "  Create a CUDA device function that can take the residual vector and\n",
        "  approximate Hessian matrix left behind by a makeFit kernel, complete the\n",
        "  Hessian with the second derivative of the fit function, and calculate the\n",
        "  covariance matrix of the fit. n must be the number of parameters, as with\n",
        "  makeFit, and d2fdX2 must be a device function of signature\n",
        "  void(float64, float64[::1], float64[:, ::1]). The first parameters are\n",
        "  respectively the curve parameter t >= 0 and the fit parameters, in a array of\n",
        "  shape (n,). It should return all of the second derivatives of the fit function\n",
        "  with respect to its parameters (in the corresponding positions) in the final\n",
        "  parameter, which will be an (n, n) matrix. Since this matrix should be\n",
        "  symmetric, only the upper half (main diagonal and above) needs to be filled\n",
        "  in; the lower half will not be used.\n",
        "\n",
        "  The resulting kernel has signature\n",
        "  void(float64[::1], float64, float64[::1], float64[:, ::1]). The first\n",
        "  parameter is the array of fit parameters, the second is the total R^2 value,\n",
        "  and the third is the array of residuals. (The second parameter should be the\n",
        "  sum of the third parameter.) The fourth is both the input for the approximate\n",
        "  Hessian and the output for the covariance matrix.\n",
        "  \"\"\"\n",
        "\n",
        "  @nc.jit(\n",
        "      (nb.float64[::1], nb.float64, nb.float64[::1], nb.float64[:, ::1]),\n",
        "      device = True)\n",
        "  def impl(params, R2, residuals, covariance):\n",
        "    # Shuffle the input out of the output\n",
        "    hessian = nc.local.array((n, n), nb.float64)\n",
        "    for i in range(n):\n",
        "      for j in range(n):\n",
        "        hessian[i, j] = covariance[i, j]\n",
        "    # Complete the Hessian (of the objective):\n",
        "    # Using this *should* be better, but it's apparently not!\n",
        "    # hessian -= sum_i(residuals[i] * HR[i])\n",
        "    # HR[i, j, k] = d^2[f(i; X)]/(dx_j dx_k)\n",
        "    correction = nc.local.array((n, n), nb.float64)\n",
        "    for t in range(residuals.size):\n",
        "      # Reusing covariance as partial correction\n",
        "      d2fdX2(t, params, covariance)\n",
        "      for i in range(n):\n",
        "        for j in range(i, n):\n",
        "          correction[i, j] -= residuals[t] * covariance[i, j]\n",
        "    corrected = nc.local.array((n, n), nb.float64)\n",
        "    for i in range(n):\n",
        "      for j in range(i, n):\n",
        "        corrected[i, j] = corrected[j, i] = hessian[i, j] + correction[i, j]\n",
        "    # The covariance matrix is specified by hessian @ covariance = variance * I,\n",
        "    # which can be solved by solveGaussian\n",
        "    variance = R2 / (residuals.size - n)\n",
        "    for i in range(n):\n",
        "      for j in range(n):\n",
        "        covariance[i, j] = variance if i == j else 0\n",
        "    solveGaussian(corrected, covariance)\n",
        "    # Sometimes (I don't know why, really), the corrected Hessian is worse than\n",
        "    # the real one\n",
        "    # Detect this situation by looking for negatives along the diagonal.\n",
        "    for i in range(n):\n",
        "      if covariance[i, i] < 0:\n",
        "        # Save our current result in case the other one is also bad\n",
        "        for i in range(n):\n",
        "          for j in range(i, n):\n",
        "            corrected[i, j] = covariance[i, j]\n",
        "        for i in range(n):\n",
        "          for j in range(n):\n",
        "            covariance[i, j] = variance if i == j else 0\n",
        "        solveGaussian(hessian, covariance)\n",
        "        for i in range(n):\n",
        "          if covariance[i, i] < 0:\n",
        "            # Give up...\n",
        "            for j in range(n):\n",
        "              for k in range(j, n):\n",
        "                covariance[j, k] = covariance[k, j] = corrected[j, k]\n",
        "            break\n",
        "        break\n",
        "  \n",
        "  return impl"
      ],
      "execution_count": null,
      "outputs": []
    },
    {
      "cell_type": "markdown",
      "metadata": {
        "id": "s1v936ze8B_o"
      },
      "source": [
        "One processing pipeline involves splitting the data into \"before bleaching\" and \"after bleaching\". Then a fit to the before part can be used to estimate and correct the acquisition photobleaching in the after part. The following is the \"before bleaching\" fit."
      ]
    },
    {
      "cell_type": "code",
      "metadata": {
        "id": "113kanuP5Jx1",
        "cellView": "form"
      },
      "source": [
        "#@title Bleaching fit kernel\n",
        "from math import exp\n",
        "\n",
        "def makeFitBleaching():\n",
        "  @nc.jit(nb.float64(nb.float64, nb.float64[::1]), device = True, inline = True)\n",
        "  def f(t, params):\n",
        "    # f(t; A, B, C) = A exp(-t/B) + C\n",
        "    return params[0] * exp(-t / params[1]) + params[2]\n",
        "  @nc.jit(\n",
        "      (nb.float64, nb.float64[::1], nb.float64[::1]), device = True,\n",
        "      inline = True)\n",
        "  def dfdX(t, params, dfdXs):\n",
        "    # d[f(t; A, B, C)]/dA = exp(-t/B)\n",
        "    # d[f(t; A, B, C)]/dB = A B^-2 t exp(-t/B)\n",
        "    # d[f(t; A, B, C)]/dC = 1\n",
        "    dfdXs[0] = exp(-t / params[1])\n",
        "    dfdXs[1] = params[0] * t * exp(-t / params[1]) / (params[1] * params[1])\n",
        "    dfdXs[2] = 1\n",
        "  doFit = makeFit(3, f, dfdX, bounds = [(0, float(\"inf\"))] * 3)\n",
        "  @nc.jit(\n",
        "      (nb.float64[:, :, ::1], nb.boolean[:, ::1], nb.float64[:, :, ::1],\n",
        "       nb.float64[:, :, ::1]))\n",
        "  def fitBleaching(stack, mask, paramss, residualss):\n",
        "    \"\"\"\n",
        "    Fit to f(t; A, B, C) = A exp(-t/B) + C. The t-values are 0, 1, ... and the\n",
        "    values f(t) are taken in the array stack[pos]. paramss is the return\n",
        "    location: the 3 fit parameters are written to paramss[i, j]. residualss is\n",
        "    scratch space of the same shape as stack.\n",
        "    \"\"\"\n",
        "    pos = nc.grid(2)\n",
        "    if pos[0] >= mask.shape[0] or pos[1] >= mask.shape[1]:\n",
        "      pass\n",
        "    elif not mask[pos]:\n",
        "      for i in range(paramss.shape[2]):\n",
        "        paramss[pos][i] = 0\n",
        "    else:\n",
        "      paramss[pos][0] = 2 * (stack[pos][0] - stack[pos][stack.shape[2] - 1])\n",
        "      paramss[pos][1] = stack.shape[2]\n",
        "      paramss[pos][2] = stack[pos][0]\n",
        "      hessian = nc.local.array((3, 3), nb.float64)\n",
        "      doFit(stack[pos], paramss[pos], residualss[pos], hessian)\n",
        "\n",
        "  return fitBleaching\n",
        "\n",
        "fitBleaching = makeFitBleaching()\n",
        "del makeFitBleaching"
      ],
      "execution_count": null,
      "outputs": []
    },
    {
      "cell_type": "markdown",
      "metadata": {
        "id": "PTN-SLUkZA_G"
      },
      "source": [
        "And these are the two options for the correction."
      ]
    },
    {
      "cell_type": "code",
      "metadata": {
        "id": "8GK5rz0Ak3Z4",
        "cellView": "form"
      },
      "source": [
        "#@title Using the average of each frame\n",
        "from math import expm1\n",
        "if ENABLE_CUDASIM:\n",
        "  from numba.cuda.simulator.cudadrv.devicearray import \\\n",
        "    FakeCUDAArray as DeviceNDArray\n",
        "else:\n",
        "  from numba.cuda.cudadrv.devicearray import DeviceNDArray\n",
        "\n",
        "def makeCorrectOverall():\n",
        "  @nc.jit((nb.float64[:, :, ::1], nb.boolean[:, ::1], nb.float64[::1]))\n",
        "  def calcMeans(stack, mask, means):\n",
        "    pos = nc.grid(1)\n",
        "    if pos < stack.shape[2]:\n",
        "      means[pos] = 0\n",
        "      nmask = 0\n",
        "      for i in range(mask.shape[0]):\n",
        "        for j in range(mask.shape[1]):\n",
        "          if mask[i, j]:\n",
        "            means[pos] += stack[i, j, pos]\n",
        "            nmask += 1\n",
        "      means[pos] /= nmask\n",
        "  @nc.jit(\n",
        "      (nb.float64[:, :, ::1], nb.boolean[:, ::1], nb.int64, nb.float64[::1]))\n",
        "  def correct(stack, mask, off, params):\n",
        "    pos = nc.grid(3)\n",
        "    if pos[0] < stack.shape[0] and pos[1] < stack.shape[1] and \\\n",
        "        pos[2] < stack.shape[2] and mask[pos[:2]]:\n",
        "      stack[pos] -= params[0] * expm1(-(pos[2] + off) / params[1])\n",
        "\n",
        "  def correctOverall(\n",
        "      pre: DeviceNDArray, post: DeviceNDArray, mask: DeviceNDArray,\n",
        "      stream: Optional[Stream] = None) -> None:\n",
        "    with maybeSync(stream) as stream:\n",
        "      overalls = nc.device_array(pre.shape[2], np.float64, stream = stream)\n",
        "      blockSize = 512\n",
        "      calcMeans \\\n",
        "        [-(-pre.shape[2] // blockSize), blockSize, stream] \\\n",
        "        (pre, mask, overalls)\n",
        "      params = nc.device_array(3, np.float64, stream = stream)\n",
        "      fitBleaching \\\n",
        "        [(1, 1), (1, 1), stream] \\\n",
        "        (overalls.reshape(1, 1, pre.shape[2]),\n",
        "        nc.to_device(np.array([[True]]), stream = stream),\n",
        "        params.reshape(1, 1, 3),\n",
        "        nc.device_array((1, 1, pre.shape[2]), stream = stream))\n",
        "      blockSize = (8, 8, 8)\n",
        "      gridSize = tuple(-(-d // b) for d, b in zip(post.shape, blockSize))\n",
        "      correct[gridSize, blockSize, stream](post, mask, pre.shape[2], params)\n",
        "\n",
        "  return correctOverall\n",
        "\n",
        "correctOverall = makeCorrectOverall()\n",
        "del makeCorrectOverall"
      ],
      "execution_count": null,
      "outputs": []
    },
    {
      "cell_type": "code",
      "metadata": {
        "id": "ylT37YjSyv6U",
        "cellView": "form"
      },
      "source": [
        "#@title Using the values of each pixel\n",
        "\n",
        "# Note: this doesn't work very well: the data is just too noisy\n",
        "# Even when the fit doesn't loop forever the error bars are huge\n",
        "def makeCorrectEach():\n",
        "  @nc.jit(\n",
        "      (nb.float64[:, :, ::1], nb.boolean[:, ::1], nb.int64,\n",
        "       nb.float64[:, :, ::1]))\n",
        "  def correct(stack, mask, off, paramss):\n",
        "    pos = nc.grid(3)\n",
        "    if pos[0] < stack.shape[0] and pos[1] < stack.shape[1] and \\\n",
        "        pos[2] < stack.shape[2] and mask[pos[:2]]:\n",
        "      params = paramss[pos[:2]]\n",
        "      stack[pos] -= params[0] * expm1(-(pos[2] + off) / params[1])\n",
        "\n",
        "  def correctEach(\n",
        "      pre: DeviceNDArray, post: DeviceNDArray, mask: DeviceNDArray,\n",
        "      stream: Optional[Stream] = None) -> None:\n",
        "    with maybeSync(stream) as stream:\n",
        "      blockSize = (19, 19)\n",
        "      gridSize = tuple(-(-d // b) for d, b in zip(mask.shape, blockSize))\n",
        "      paramss = nc.device_array(mask.shape + (3,), np.float64, stream = stream)\n",
        "      fitBleaching \\\n",
        "        [gridSize, blockSize, stream] \\\n",
        "        (pre, mask, paramss, nc.device_array_like(pre, stream = stream))\n",
        "      blockSize = (8, 8, 8)\n",
        "      gridSize = tuple(-(-d // b) for d, b in zip(post.shape, blockSize))\n",
        "      correct[gridSize, blockSize, stream](post, mask, pre.shape[2], paramss)\n",
        "\n",
        "  return correctEach\n",
        "\n",
        "correctEach = makeCorrectEach()\n",
        "del makeCorrectEach"
      ],
      "execution_count": null,
      "outputs": []
    },
    {
      "cell_type": "markdown",
      "metadata": {
        "id": "01XA0DyAY7i3"
      },
      "source": [
        "These are the \"after bleaching\" fits."
      ]
    },
    {
      "cell_type": "code",
      "metadata": {
        "id": "wNOvsNcWsZg0"
      },
      "source": [
        "#@title After-bleaching fits\n",
        "\n",
        "class SelfAllocatingBleachFit:\n",
        "  __slots__ = [\"underlying\", \"n\"]\n",
        "  def __init__(self, underlying, n):\n",
        "    self.underlying = underlying\n",
        "    self.n = n\n",
        "  def __getitem__(self, args):\n",
        "    n = self.n\n",
        "    underlying = self.underlying[args]\n",
        "    argStream = args[2] if len(args) > 2 else None\n",
        "    def ret(data, mask):\n",
        "      with maybeSync(argStream) as stream:\n",
        "        paramss = \\\n",
        "          nc.device_array(data.shape[:2] + (n,), np.float64, stream = stream)\n",
        "        residualss = nc.device_array_like(data, stream)\n",
        "        R2s = nc.device_array(data.shape[:2], np.float64, stream = stream)\n",
        "        covariances = \\\n",
        "          nc.device_array(data.shape[:2] + (n, n), np.float64, stream = stream)\n",
        "        underlying(data, mask, paramss, residualss, R2s, covariances)\n",
        "        return paramss, residualss, R2s, covariances\n",
        "    return ret\n",
        "\n",
        "def makeBleachedFit(n, f, dfdX, d2fdX2, guess, bounds = None):\n",
        "  if bounds is None:\n",
        "    bounds = [(0, np.inf)] * n\n",
        "  doFit = makeFit(n, f, dfdX, bounds)\n",
        "  calcCov = makeFitCovariance(n, d2fdX2)\n",
        "  @nc.jit((\n",
        "      nb.float64[:, :, ::1], nb.boolean[:, ::1], nb.float64[:, :, ::1],\n",
        "      nb.float64[:, :, ::1], nb.float64[:, ::1], nb.float64[:, :, :, ::1]))\n",
        "  def fitRecovery(stack, mask, paramss, residualss, R2s, covariances):\n",
        "    \"\"\"\n",
        "    The t-values are 0, 1, ... and the values f(t) are taken in the array\n",
        "    stack[i, j]. If !mask[i, j], no fit is done, and dummy values are written to\n",
        "    the output. The following parameters are the return locations, where the fit\n",
        "    parameters (paramss[i, j, :n]), the residuals (residualss[i, j]), the total\n",
        "    R^2 value (R2s[i, j]), and the covariance matrix (covariances[i, j, :n, :n])\n",
        "    are stored.\n",
        "    \"\"\"\n",
        "    pos = nc.grid(2)\n",
        "    if pos[0] >= mask.shape[0] or pos[1] >= mask.shape[1]:\n",
        "      pass\n",
        "    elif not mask[pos]:\n",
        "      for i in range(n):\n",
        "        for j in range(n):\n",
        "          covariances[pos][i, j] = 0\n",
        "        paramss[pos][i] = 0\n",
        "      for i in range(residualss.shape[2]):\n",
        "        residualss[pos][i] = 0\n",
        "      R2s[pos] = 0\n",
        "    else:\n",
        "      guess(stack[pos], paramss[pos])\n",
        "      R2s[pos] = \\\n",
        "        doFit(stack[pos], paramss[pos], residualss[pos], covariances[pos])\n",
        "      calcCov(paramss[pos], R2s[pos], residualss[pos], covariances[pos])\n",
        "\n",
        "  return SelfAllocatingBleachFit(fitRecovery, n)"
      ],
      "execution_count": null,
      "outputs": []
    },
    {
      "cell_type": "code",
      "metadata": {
        "id": "cJUOh9Fy2Erj"
      },
      "source": [
        "#@title Recovery fit kernel\n",
        "\n",
        "def makeFitRecovery():\n",
        "  @nc.jit(nb.float64(nb.float64, nb.float64[::1]), device = True, inline = True)\n",
        "  def f(t, params):\n",
        "    # f(t; A, B, C) = A(1 - exp(-t/B)) + C\n",
        "    return params[0] * -expm1(-t / params[1]) + params[2]\n",
        "  @nc.jit(\n",
        "      (nb.float64, nb.float64[::1], nb.float64[::1]), device = True,\n",
        "      inline = True)\n",
        "  def dfdX(t, params, dfdXs):\n",
        "    # d[f(t; A, B, C)]/dA = 1 - exp(-t/B)\n",
        "    # d[f(t; A, B, C)]/dB = - A B^-2 t exp(-t/B)\n",
        "    # d[f(t; A, B, C)]/dC = 1\n",
        "    dfdXs[0] = -expm1(-t / params[1])\n",
        "    dfdXs[1] = -params[0] * t * exp(-t / params[1]) / (params[1] * params[1])\n",
        "    dfdXs[2] = 1\n",
        "  @nc.jit(\n",
        "      (nb.float64, nb.float64[::1], nb.float64[:, ::1]), device = True,\n",
        "      inline = True)\n",
        "  def d2fdX2(t, params, d2fdX2s):\n",
        "    # d^2[f(t; A, B, C)]/(dA dB) = -B^-2 t exp(-t/B)\n",
        "    # d^2[f(t; A, B, C)]/(dB dB) = A exp(-t/B) (2B - t) t B^-4\n",
        "    for i in range(3):\n",
        "      for j in range(i, 3):\n",
        "        d2fdX2s[i, j] = 0\n",
        "    d2fdX2s[0, 1] = -exp(-t / params[1]) * t / (params[1] * params[1])\n",
        "    d2fdX2s[1, 1] = \\\n",
        "      params[0] * exp(-t / params[1]) * (2 * params[1] - t) * t \\\n",
        "      / pow(params[1], 4)\n",
        "  @nc.jit((nb.float64[::1], nb.float64[::1]), device = True, inline = True)\n",
        "  def guess(values, params):\n",
        "      params[0] = values[0]\n",
        "      params[1] = values.size / 3\n",
        "      params[2] = values[0]\n",
        "  return makeBleachedFit(\n",
        "      3, f, dfdX, d2fdX2, guess, [(0, np.inf), (0, np.inf), (-np.inf, np.inf)])\n",
        "\n",
        "fitRecovery = makeFitRecovery()\n",
        "del makeFitRecovery"
      ],
      "execution_count": null,
      "outputs": []
    },
    {
      "cell_type": "code",
      "metadata": {
        "id": "HcgPPcX5UHHy",
        "cellView": "form"
      },
      "source": [
        "#@title Acquisition-Bleaching Recovery fit kernel\n",
        "\n",
        "# def makeFitAcqRecovery():\n",
        "#   @nc.jit(nb.float64(nb.float64, nb.float64[::1]), device = True, inline = True)\n",
        "#   def f(t, params):\n",
        "#     # f(t; A, B, C, D, E) = A(1 - exp(-t/B))(C + Dexp(-t/E))\n",
        "#     acq = params[2] + params[3] * exp(-t / params[4])\n",
        "#     return params[0] * -expm1(-t / params[1]) * acq\n",
        "#   @nc.jit(\n",
        "#       (nb.float64, nb.float64[::1], nb.float64[::1]), device = True,\n",
        "#       inline = True)\n",
        "#   def dfdX(t, params, dfdXs):\n",
        "#     # d[f(t; A, B, C, D, E)]/dA = (1 - exp(-t/B)) * (C + Dexp(-t/E))\n",
        "#     # d[f(t; A, B, C, D, E)]/dB = - A B^-2 t exp(-t/B) (C + Dexp(-t/E))\n",
        "#     # d[f(t; A, B, C, D, E)]/dC = A(1 - exp(-t/B))\n",
        "#     # d[f(t; A, B, C, D, E)]/dD = Aexp(-t/E)(1 - exp(-t/B))\n",
        "#     # d[f(t; A, B, C, D, E)]/dE = A exp(-t/E) (1 - exp(-t /B)) D t E^-2\n",
        "#     rec = -expm1(-t / params[1])\n",
        "#     acq = params[2] + params[3] * exp(-t / params[4])\n",
        "#     dfdXs[0] = rec * acq\n",
        "#     dfdXs[1] = \\\n",
        "#       -params[0] * t * exp(-t / params[1]) * acq / (params[1] * params[1])\n",
        "#     dfdXs[2] = params[0] * rec\n",
        "#     dfdXs[3] = params[0] * exp(-t / params[4]) * rec\n",
        "#     dfdXs[4] = \\\n",
        "#       params[0] * exp(-t / params[4]) * rec * params[3] * t \\\n",
        "#       / (params[4] * params[4])\n",
        "#   @nc.jit(\n",
        "#       (nb.float64, nb.float64[::1], nb.float64[:, ::1]), device = True,\n",
        "#       inline = True)\n",
        "#   def d2fdX2(t, params, d2fdX2s):\n",
        "#     # d^2[f(t; A, B, C, D, E)]/(dAdA) = 0\n",
        "#     # d^2[f(t; A, B, C, D, E)]/(dAdB) = - exp(-t/B) (C + Dexp(-t/E)) t B^-2\n",
        "#     # d^2[f(t; A, B, C, D, E)]/(dAdC) = 1 - exp(-t / B)\n",
        "#     # d^2[f(t; A, B, C, D, E)]/(dAdD) = exp(-t/E)(1 - exp(-t/B))\n",
        "#     # d^2[f(t; A, B, C, D, E)]/(dAdE) = D exp(-t/E) (1 - exp(-t/B)) t E^-2\n",
        "#     # d^2[f(t; A, B, C, D, E)]/(dBdB) =\n",
        "#     #   (2 A exp(-t/B) (C + Dexp(-t/E)) t  ) B^-3\n",
        "#     # - (  A exp(-t/B) (C + Dexp(-t/E)) t^2) B^-4\n",
        "#     # d^2[f(t; A, B, C, D, E)]/(dBdC) = - A exp(-t/B) t B^-2\n",
        "#     # d^2[f(t; A, B, C, D, E)]/(dBdD) = - A exp(-t/B - t/E) t B^-2\n",
        "#     # d^2[f(t; A, B, C, D, E)]/(dBdE) = - A D exp(-t/B - t/E) t^2 B^-2 E^-2\n",
        "#     # d^2[f(t; A, B, C, D, E)]/(dCdC) = 0\n",
        "#     # d^2[f(t; A, B, C, D, E)]/(dCdD) = 0\n",
        "#     # d^2[f(t; A, B, C, D, E)]/(dCdE) = 0\n",
        "#     # d^2[f(t; A, B, C, D, E)]/(dDdD) = 0\n",
        "#     # d^2[f(t; A, B, C, D, E)]/(dDdE) = A exp(-t/E) (1 - exp(-t/B)) t E^-2\n",
        "#     # d^2[f(t; A, B, C, D, E)]/(dEdE) = A exp(-t/E) (1 - exp(-t/B)) t E^-2\n",
        "#     # d^2[f(t; A, B, C, D, E)]/(dEdE) =\n",
        "#     #   (  A D exp(-t/E) (1 - exp(-t/B)) t^2) E^-4\n",
        "#     # - (2 A D exp(-t/E) (1 - exp(-t/B)) t  ) E^-3\n",
        "#     rec = -expm1(-t / params[1])\n",
        "#     acq = params[2] + params[3] * exp(-t / params[4])\n",
        "#     d2fdX2s[0, 0] = 0\n",
        "#     d2fdX2s[0, 1] = -exp(-t / params[1]) * acq * t / (params[1] * params[1])\n",
        "#     d2fdX2s[0, 2] = rec\n",
        "#     d2fdX2s[0, 3] = exp(-t / params[4]) * rec\n",
        "#     d2fdX2s[0, 4] = \\\n",
        "#       params[3] * exp(-t / params[4]) * rec * t / (params[4] * params[4])\n",
        "#     base = params[0] * exp(-t / params[1]) * acq * t / pow(params[1], 3)\n",
        "#     d2fdX2s[1, 1] = 2 * base - base * t / params[1]\n",
        "#     d2fdX2s[1, 2] = \\\n",
        "#       -params[0] * exp(-t / params[1]) * t / (params[1] * params[1])\n",
        "#     d2fdX2s[1, 3] = \\\n",
        "#       -params[0] * exp(-t / params[1] - t/params[4]) * t \\\n",
        "#       / (params[1] * params[1])\n",
        "#     d2fdX2s[1, 4] = d2fdX2s[1, 3] * params[3] * t / (params[4] * params[4])\n",
        "#     d2fdX2s[2, 2] = 0\n",
        "#     d2fdX2s[2, 3] = 0\n",
        "#     d2fdX2s[2, 4] = 0\n",
        "#     d2fdX2s[3, 3] = 0\n",
        "#     d2fdX2s[3, 4] = \\\n",
        "#       params[0] * exp(-t / params[4]) * rec * t / (params[4] * params[4])\n",
        "#     base = \\\n",
        "#       params[1] * params[3] * exp(-t / params[4]) * rec * t / pow(params[4], 3)\n",
        "#     d2fdX2s[4, 4] = base * t / params[4] - 2 * base\n",
        "#   @nc.jit((nb.float64[::1], nb.float64[::1]), device = True, inline = True)\n",
        "#   def guess(values, params):\n",
        "#       params[0] = values.size / 10\n",
        "#       params[1] = values.size / 20\n",
        "#       params[2] = values.size / 10\n",
        "#       params[3] = values[0]\n",
        "#       params[4] = values.size / 100\n",
        "#   return makeBleachedFit(5, f, dfdX, d2fdX2, guess)\n",
        "\n",
        "# fitAcqRecovery = makeFitAcqRecovery()\n",
        "# del makeFitAcqRecovery"
      ],
      "execution_count": null,
      "outputs": []
    },
    {
      "cell_type": "code",
      "metadata": {
        "id": "g48dSeTW9VJg"
      },
      "source": [
        "from math import sqrt\n",
        "from typing import Tuple\n",
        "\n",
        "@nc.require_context\n",
        "def doTest(stack: Stack, idx, stream: Optional[Stream] = None) -> \\\n",
        "    Tuple[np.ndarray, np.ndarray, np.ndarray, np.ndarray]:\n",
        "    with maybeSync(stream) as stream:\n",
        "      pre = nc.to_device(\n",
        "          np.ascontiguousarray(stack.data[:, :, :stack.bleachPoint]), stream)\n",
        "      post = nc.to_device(\n",
        "          np.ascontiguousarray \\\n",
        "            (stack.data[:, :, stack.bleachPoint:stack.endPoint]),\n",
        "          stream)\n",
        "      mask = nc.to_device(stack.mask, stream)\n",
        "      correctOverall(pre, post, mask, stream)\n",
        "      data = post[idx].reshape((1, 1) + post.shape[2:])\n",
        "      mask = nc.to_device(np.array([[True]]), stream)\n",
        "      ret = fitRecovery[(1, 1), (2, 2), stream](data, mask)\n",
        "      paramss, residualss, R2s, covariances = \\\n",
        "        map(lambda a: a.copy_to_host(stream = stream), ret)\n",
        "      return paramss[0, 0], residualss[0, 0], R2s[0, 0, None], covariances[0, 0]\n",
        "\n",
        "# image = loadStack(\n",
        "#     \"samples/sample_rot0/stack_blur.tif\", \"samples/sample_rot0/mask.tif\")\n",
        "# %timeit doTest(image)\n",
        "# params, res, R2, cov = doTest(image)\n",
        "# display(params, res[:10], R2[0], cov)\n",
        "# del params, res, R2, cov, image, doTest"
      ],
      "execution_count": null,
      "outputs": []
    },
    {
      "cell_type": "code",
      "metadata": {
        "id": "ofIn0qDwr24G"
      },
      "source": [
        "from typing import Optional, Tuple\n",
        "from math import sqrt\n",
        "from numba.cuda.cudadrv.driver import Stream\n",
        "\n",
        "@nc.require_context\n",
        "def doFits(stack: Stack, stream: Optional[Stream] = None) -> \\\n",
        "    Tuple[\n",
        "          np.ndarray, np.ndarray, np.ndarray, np.ndarray, np.ndarray,\n",
        "          np.ndarray]:\n",
        "  with maybeSync(stream) as stream:\n",
        "    pre = nc.to_device(\n",
        "        np.ascontiguousarray(stack.data[:, :, :stack.bleachPoint]), stream)\n",
        "    post = nc.to_device(\n",
        "        np.ascontiguousarray \\\n",
        "          (stack.data[:, :, stack.bleachPoint:stack.endPoint]),\n",
        "        stream)\n",
        "    mask = nc.to_device(stack.mask, stream)\n",
        "    correctOverall(pre, post, mask, stream)\n",
        "    blockSize = (16, 16)\n",
        "    gridSize = tuple(-(-d // b) for d, b in zip(mask.shape, blockSize))\n",
        "    ret = fitRecovery[gridSize, blockSize, stream](post, mask)\n",
        "    return tuple(map(lambda a: a.copy_to_host(stream = stream), ret))\n",
        "\n",
        "# image = loadStack(\n",
        "#     \"samples/sample_rot0/stack_blur.tif\", \"samples/sample_rot0/mask.tif\")\n",
        "# %timeit doFits(image)\n",
        "# paramss, residualss, R2s, covariances = doFits(image)\n",
        "# idx = (45, 99)\n",
        "# display(paramss[idx], R2s[idx], covariances[idx], sqrt(covariances[idx][1, 1]))\n",
        "# del idx, paramss, residualss, R2s, covariances, image"
      ],
      "execution_count": null,
      "outputs": []
    },
    {
      "cell_type": "code",
      "metadata": {
        "id": "gaSQLxqnyR85"
      },
      "source": [
        "# image = loadStack(\n",
        "#     \"NLS-GFP/cell0/stack_blur.tif\", \"NLS-GFP/cell0/mask.tif\")\n",
        "# # %timeit doTest(image)\n",
        "# plot.plot(image.data[78, 63])\n",
        "# plot.show()\n",
        "# idx = (78, 63)\n",
        "# params, res, R2, cov = doTest(image, idx)\n",
        "# display(params, res[:10], R2[0], cov)\n",
        "# # paramss, ress, R2s, covs = doFits(image)\n",
        "# # display(paramss[idx], ress[idx][:10], R2s[idx], covs[idx])\n",
        "# # del paramss, ress, R2s, covs, params, res, R2, cov, idx, image"
      ],
      "execution_count": null,
      "outputs": []
    },
    {
      "cell_type": "code",
      "metadata": {
        "id": "1CWlhLpu-mDi",
        "colab": {
          "resources": {
            "http://localhost:8080/nbextensions/google.colab/tabbar.css": {
              "data": "Lmdvb2ctdGFie3Bvc2l0aW9uOnJlbGF0aXZlO3BhZGRpbmc6NHB4IDhweDtjb2xvcjojMDBjO3RleHQtZGVjb3JhdGlvbjp1bmRlcmxpbmU7Y3Vyc29yOmRlZmF1bHR9Lmdvb2ctdGFiLWJhci10b3AgLmdvb2ctdGFie21hcmdpbjoxcHggNHB4IDAgMDtib3JkZXItYm90dG9tOjA7ZmxvYXQ6bGVmdH0uZ29vZy10YWItYmFyLXRvcDphZnRlciwuZ29vZy10YWItYmFyLWJvdHRvbTphZnRlcntjb250ZW50OiIgIjtkaXNwbGF5OmJsb2NrO2hlaWdodDowO2NsZWFyOmJvdGg7dmlzaWJpbGl0eTpoaWRkZW59Lmdvb2ctdGFiLWJhci1ib3R0b20gLmdvb2ctdGFie21hcmdpbjowIDRweCAxcHggMDtib3JkZXItdG9wOjA7ZmxvYXQ6bGVmdH0uZ29vZy10YWItYmFyLXN0YXJ0IC5nb29nLXRhYnttYXJnaW46MCAwIDRweCAxcHg7Ym9yZGVyLXJpZ2h0OjB9Lmdvb2ctdGFiLWJhci1lbmQgLmdvb2ctdGFie21hcmdpbjowIDFweCA0cHggMDtib3JkZXItbGVmdDowfS5nb29nLXRhYi1ob3ZlcntiYWNrZ3JvdW5kOiNlZWV9Lmdvb2ctdGFiLWRpc2FibGVke2NvbG9yOiM2NjZ9Lmdvb2ctdGFiLXNlbGVjdGVke2NvbG9yOiMwMDA7YmFja2dyb3VuZDojZmZmO3RleHQtZGVjb3JhdGlvbjpub25lO2ZvbnQtd2VpZ2h0OmJvbGQ7Ym9yZGVyOjFweCBzb2xpZCAjNmI5MGRhfS5nb29nLXRhYi1iYXItdG9we3BhZGRpbmctdG9wOjVweCFpbXBvcnRhbnQ7cGFkZGluZy1sZWZ0OjVweCFpbXBvcnRhbnQ7Ym9yZGVyLWJvdHRvbToxcHggc29saWQgIzZiOTBkYSFpbXBvcnRhbnR9Lmdvb2ctdGFiLWJhci10b3AgLmdvb2ctdGFiLXNlbGVjdGVke3RvcDoxcHg7bWFyZ2luLXRvcDowO3BhZGRpbmctYm90dG9tOjVweH0uZ29vZy10YWItYmFyLWJvdHRvbSAuZ29vZy10YWItc2VsZWN0ZWR7dG9wOi0xcHg7bWFyZ2luLWJvdHRvbTowO3BhZGRpbmctdG9wOjVweH0uZ29vZy10YWItYmFyLXN0YXJ0IC5nb29nLXRhYi1zZWxlY3RlZHtsZWZ0OjFweDttYXJnaW4tbGVmdDowO3BhZGRpbmctcmlnaHQ6OXB4fS5nb29nLXRhYi1iYXItZW5kIC5nb29nLXRhYi1zZWxlY3RlZHtsZWZ0Oi0xcHg7bWFyZ2luLXJpZ2h0OjA7cGFkZGluZy1sZWZ0OjlweH0uZ29vZy10YWItYmFye21hcmdpbjowO2JvcmRlcjowO3BhZGRpbmc6MDtsaXN0LXN0eWxlOm5vbmU7Y3Vyc29yOmRlZmF1bHQ7b3V0bGluZTpub25lO2JhY2tncm91bmQ6I2ViZWZmOX0uZ29vZy10YWItYmFyLWNsZWFye2NsZWFyOmJvdGg7aGVpZ2h0OjA7b3ZlcmZsb3c6aGlkZGVufS5nb29nLXRhYi1iYXItc3RhcnR7ZmxvYXQ6bGVmdH0uZ29vZy10YWItYmFyLWVuZHtmbG9hdDpyaWdodH0qIGh0bWwgLmdvb2ctdGFiLWJhci1zdGFydHttYXJnaW4tcmlnaHQ6LTNweH0qIGh0bWwgLmdvb2ctdGFiLWJhci1lbmR7bWFyZ2luLWxlZnQ6LTNweH0=",
              "ok": true,
              "headers": [
                [
                  "content-type",
                  "text/css"
                ]
              ],
              "status": 200,
              "status_text": ""
            },
            "http://localhost:8080/nbextensions/google.colab/tabbar_main.min.js": {
              "data": "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",
              "ok": true,
              "headers": [
                [
                  "content-type",
                  "application/javascript"
                ]
              ],
              "status": 200,
              "status_text": ""
            }
          },
          "base_uri": "https://localhost:8080/",
          "height": 637,
          "referenced_widgets": [
            "782acbe2e99244f09b078938e411c820",
            "2aef7497499241a78edc509e56e99b7e",
            "4dbe4b80bad64174ac4b1fa89239b6f4",
            "0937582eb9ba4275a3d10739cdc349bc",
            "f72b84c1a92946ae8d07d83787ac5c8e",
            "3e267c1990f84066a191185d89e8d60f",
            "49729c2c18ae49b19163bd541979f63b",
            "29eceb0142fc44c5baa627bdce0208c7",
            "459950b166f54cd4b6ad4910d18acfa2",
            "334bf893ae6a49e88b65d9ec2277c889",
            "9563d8d1b29c4e3d89cdece7fbd988b1",
            "f6dc6f0d51194482809766ade778e436",
            "77811605558d48818091ccb55289e202",
            "d129dd72d6f44426a0c9e768e9e90368",
            "8ea919dc507f4078bdda642e0c01466b",
            "42a02eb4faac4bcf9e444c19651d62ee",
            "05ac69797f074990a2837ba0c8f930f0",
            "d0347f87e069461a8e84012aaacbe43c",
            "9e9f76bb72d6498ea3b2b47b62268409",
            "56b643afbcdb4a939734c9770af26e8c",
            "0a8b582a6db84009aa666c107da9f508",
            "2c3ae8945a5d46389c75b4b5470e3d66",
            "f4965b4de5e04b608aa7ec861df9f0e3",
            "f227745297da49569df6a55488bb1f2e",
            "c376467049124357a337b8082821c437",
            "5bb573c93b4e493382f00657d038c356",
            "1137b5bf0179413bacb954ef6aef1308"
          ]
        },
        "outputId": "4213fdc3-e8b9-44fd-e040-da86f4e7f3a8"
      },
      "source": [
        "from google.colab.widgets import Grid, TabBar\n",
        "from IPython.display import clear_output\n",
        "from ipywidgets import Output\n",
        "from matplotlib import pyplot as plot\n",
        "\n",
        "chooser = FileChooser(\n",
        "    title = \"Directory of input stacks/output dirs\", use_dir_icons = True)\n",
        "def callback(chooser):\n",
        "  paths, loads = zip(*loadStacks(chooser.selected_path))\n",
        "  names = list(map(os.path.basename, paths))\n",
        "  tabs = TabBar(names)\n",
        "  for path, name, load in zip(paths, names, loads):\n",
        "    with tabs.output_to(name):\n",
        "      stack = load()\n",
        "      paramss, _, _, covariances = doFits(stack)\n",
        "      recoveries = paramss[:, :, 0]\n",
        "      recoveries /= \\\n",
        "        np.average(stack.data[:, :, :stack.bleachPoint], 2) \\\n",
        "        - np.amin(stack.data, 2)\n",
        "      times = paramss[:, :, 1]\n",
        "      times *= stack.frameRate\n",
        "      timeErrors = covariances[:, :, 1, 1]\n",
        "      np.sqrt(timeErrors, timeErrors)\n",
        "      timeErrors *= stack.frameRate\n",
        "      grid = Grid(4, 3, header_column = True, header_row = True)\n",
        "      with grid.output_to(0, 1):\n",
        "        print(\"Full result\")\n",
        "      with grid.output_to(0, 2):\n",
        "        print(\"Clamped (to 99th percentile)\")\n",
        "      def displayAndSave(i, title, filename, arr):\n",
        "        with grid.output_to(i, 0):\n",
        "          print(title)\n",
        "        with grid.output_to(i, 1):\n",
        "          plot.imshow(arr)\n",
        "          np.savetxt(os.path.join(path, filename), arr, \"%.18f\", \",\", \"\\r\\n\")\n",
        "        with grid.output_to(i, 2):\n",
        "          top = np.percentile(arr, 99)\n",
        "          plot.imshow(np.clip(arr, None, top, out = arr))\n",
        "      displayAndSave(1, \"Recovery Level\", \"recoveryMap1pixBlur.csv\", recoveries)\n",
        "      displayAndSave(2, \"Recovery Timescale\", \"timeMap1pixBlur.csv\", times)\n",
        "      displayAndSave(\n",
        "          3, \"Rec. Time. Error\", \"timeErrorMap1pixBlur.csv\", timeErrors)\n",
        "chooser.register_callback(callback)\n",
        "del callback\n",
        "display(chooser)"
      ],
      "execution_count": null,
      "outputs": [
        {
          "output_type": "display_data",
          "data": {
            "application/vnd.jupyter.widget-view+json": {
              "model_id": "782acbe2e99244f09b078938e411c820",
              "version_minor": 0,
              "version_major": 2
            },
            "text/plain": [
              "FileChooser(path='/content', filename='', title='HTML(value='Directory of input stacks/output dirs')', show_hi…"
            ]
          },
          "metadata": {
            "tags": []
          }
        },
        {
          "output_type": "display_data",
          "data": {
            "text/html": [
              "<link rel=stylesheet type=text/css href='/nbextensions/google.colab/tabbar.css'></link>"
            ],
            "text/plain": [
              "<IPython.core.display.HTML object>"
            ]
          },
          "metadata": {
            "tags": [
              "outputarea_id19"
            ]
          }
        },
        {
          "output_type": "display_data",
          "data": {
            "text/html": [
              "<script src='/nbextensions/google.colab/tabbar_main.min.js'></script>"
            ],
            "text/plain": [
              "<IPython.core.display.HTML object>"
            ]
          },
          "metadata": {
            "tags": [
              "outputarea_id19"
            ]
          }
        },
        {
          "output_type": "display_data",
          "data": {
            "text/html": [
              "<div id=\"id19\"></div>"
            ],
            "text/plain": [
              "<IPython.core.display.HTML object>"
            ]
          },
          "metadata": {
            "tags": [
              "outputarea_id19"
            ]
          }
        },
        {
          "output_type": "display_data",
          "data": {
            "application/javascript": [
              "window[\"eb7d6f36-29ad-11eb-8b62-0242ac1c0002\"] = colab_lib.createTabBar({\"location\": \"top\", \"elementId\": \"id19\", \"tabNames\": [\"cell2_comp\", \"cell2\", \"cell6_bin\"], \"initialSelection\": 0, \"contentBorder\": [\"0px\"], \"contentHeight\": [\"initial\"], \"borderColor\": [\"#a7a7a7\"]});\n",
              "//# sourceURL=js_95dafd7465"
            ],
            "text/plain": [
              "<IPython.core.display.Javascript object>"
            ]
          },
          "metadata": {
            "tags": [
              "outputarea_id19"
            ]
          }
        },
        {
          "output_type": "display_data",
          "data": {
            "application/javascript": [
              "window[\"eb7dcaee-29ad-11eb-8b62-0242ac1c0002\"] = window[\"id19\"].setSelectedTabIndex(0);\n",
              "//# sourceURL=js_133de1ebc7"
            ],
            "text/plain": [
              "<IPython.core.display.Javascript object>"
            ]
          },
          "metadata": {
            "tags": [
              "outputarea_id19"
            ]
          }
        },
        {
          "output_type": "display_data",
          "data": {
            "application/javascript": [
              "window[\"eb7f8b54-29ad-11eb-8b62-0242ac1c0002\"] = google.colab.output.getActiveOutputArea();\n",
              "//# sourceURL=js_6404edb301"
            ],
            "text/plain": [
              "<IPython.core.display.Javascript object>"
            ]
          },
          "metadata": {
            "tags": [
              "id19_content_0",
              "outputarea_id19"
            ]
          }
        },
        {
          "output_type": "display_data",
          "data": {
            "application/javascript": [
              "window[\"eb7fe068-29ad-11eb-8b62-0242ac1c0002\"] = document.querySelector(\"#id19_content_0\");\n",
              "//# sourceURL=js_90213d5526"
            ],
            "text/plain": [
              "<IPython.core.display.Javascript object>"
            ]
          },
          "metadata": {
            "tags": [
              "id19_content_0",
              "outputarea_id19"
            ]
          }
        },
        {
          "output_type": "display_data",
          "data": {
            "application/javascript": [
              "window[\"eb802ee2-29ad-11eb-8b62-0242ac1c0002\"] = google.colab.output.setActiveOutputArea(window[\"eb7fe068-29ad-11eb-8b62-0242ac1c0002\"]);\n",
              "//# sourceURL=js_a08225d1cf"
            ],
            "text/plain": [
              "<IPython.core.display.Javascript object>"
            ]
          },
          "metadata": {
            "tags": [
              "id19_content_0",
              "outputarea_id19"
            ]
          }
        },
        {
          "output_type": "display_data",
          "data": {
            "application/javascript": [
              "window[\"eb807e74-29ad-11eb-8b62-0242ac1c0002\"] = window[\"id19\"].setSelectedTabIndex(0);\n",
              "//# sourceURL=js_c1beb62e92"
            ],
            "text/plain": [
              "<IPython.core.display.Javascript object>"
            ]
          },
          "metadata": {
            "tags": [
              "id19_content_0",
              "outputarea_id19"
            ]
          }
        },
        {
          "output_type": "display_data",
          "data": {
            "text/html": [
              "<style>\n",
              "       table#id21, #id21 > tbody > tr > th, #id21 > tbody > tr > td {\n",
              "         border: 1px solid lightgray;\n",
              "         border-collapse:collapse;\n",
              "         \n",
              "        }</style>"
            ],
            "text/plain": [
              "<IPython.core.display.HTML object>"
            ]
          },
          "metadata": {
            "tags": [
              "id19_content_0",
              "outputarea_id19",
              "outputarea_id21",
              "user_output"
            ]
          }
        },
        {
          "output_type": "display_data",
          "data": {
            "text/html": [
              "<table id=id21><tr><th id=id21-0-0></th><th id=id21-0-1></th><th id=id21-0-2></th></tr><tr><th id=id21-1-0></th><td id=id21-1-1></td><td id=id21-1-2></td></tr><tr><th id=id21-2-0></th><td id=id21-2-1></td><td id=id21-2-2></td></tr><tr><th id=id21-3-0></th><td id=id21-3-1></td><td id=id21-3-2></td></tr></table>"
            ],
            "text/plain": [
              "<IPython.core.display.HTML object>"
            ]
          },
          "metadata": {
            "tags": [
              "id19_content_0",
              "outputarea_id19",
              "outputarea_id21",
              "user_output"
            ]
          }
        },
        {
          "output_type": "display_data",
          "data": {
            "application/javascript": [
              "window[\"eca0d3ee-29ad-11eb-8b62-0242ac1c0002\"] = google.colab.output.getActiveOutputArea();\n",
              "//# sourceURL=js_2eb2637a58"
            ],
            "text/plain": [
              "<IPython.core.display.Javascript object>"
            ]
          },
          "metadata": {
            "tags": [
              "id19_content_0",
              "id21-0-1",
              "outputarea_id19",
              "outputarea_id21",
              "user_output"
            ]
          }
        },
        {
          "output_type": "display_data",
          "data": {
            "application/javascript": [
              "window[\"eca16a98-29ad-11eb-8b62-0242ac1c0002\"] = document.querySelector(\"#id21-0-1\");\n",
              "//# sourceURL=js_237923993d"
            ],
            "text/plain": [
              "<IPython.core.display.Javascript object>"
            ]
          },
          "metadata": {
            "tags": [
              "id19_content_0",
              "id21-0-1",
              "outputarea_id19",
              "outputarea_id21",
              "user_output"
            ]
          }
        },
        {
          "output_type": "display_data",
          "data": {
            "application/javascript": [
              "window[\"eca2139e-29ad-11eb-8b62-0242ac1c0002\"] = google.colab.output.setActiveOutputArea(window[\"eca16a98-29ad-11eb-8b62-0242ac1c0002\"]);\n",
              "//# sourceURL=js_cb1be0e457"
            ],
            "text/plain": [
              "<IPython.core.display.Javascript object>"
            ]
          },
          "metadata": {
            "tags": [
              "id19_content_0",
              "id21-0-1",
              "outputarea_id19",
              "outputarea_id21",
              "user_output"
            ]
          }
        },
        {
          "output_type": "stream",
          "text": [
            "Full result\n"
          ],
          "name": "stdout"
        },
        {
          "output_type": "display_data",
          "data": {
            "application/javascript": [
              "window[\"eca46e00-29ad-11eb-8b62-0242ac1c0002\"] = google.colab.output.setActiveOutputArea(window[\"eca0d3ee-29ad-11eb-8b62-0242ac1c0002\"]);\n",
              "//# sourceURL=js_947e628e7b"
            ],
            "text/plain": [
              "<IPython.core.display.Javascript object>"
            ]
          },
          "metadata": {
            "tags": [
              "id19_content_0",
              "id21-0-1",
              "outputarea_id19",
              "outputarea_id21",
              "user_output"
            ]
          }
        },
        {
          "output_type": "display_data",
          "data": {
            "application/javascript": [
              "window[\"eca6dbae-29ad-11eb-8b62-0242ac1c0002\"] = google.colab.output.getActiveOutputArea();\n",
              "//# sourceURL=js_102b915ffa"
            ],
            "text/plain": [
              "<IPython.core.display.Javascript object>"
            ]
          },
          "metadata": {
            "tags": [
              "id19_content_0",
              "id21-0-2",
              "outputarea_id19",
              "outputarea_id21",
              "user_output"
            ]
          }
        },
        {
          "output_type": "display_data",
          "data": {
            "application/javascript": [
              "window[\"eca73824-29ad-11eb-8b62-0242ac1c0002\"] = document.querySelector(\"#id21-0-2\");\n",
              "//# sourceURL=js_8d94821fdc"
            ],
            "text/plain": [
              "<IPython.core.display.Javascript object>"
            ]
          },
          "metadata": {
            "tags": [
              "id19_content_0",
              "id21-0-2",
              "outputarea_id19",
              "outputarea_id21",
              "user_output"
            ]
          }
        },
        {
          "output_type": "display_data",
          "data": {
            "application/javascript": [
              "window[\"eca78b08-29ad-11eb-8b62-0242ac1c0002\"] = google.colab.output.setActiveOutputArea(window[\"eca73824-29ad-11eb-8b62-0242ac1c0002\"]);\n",
              "//# sourceURL=js_9600f1d0c5"
            ],
            "text/plain": [
              "<IPython.core.display.Javascript object>"
            ]
          },
          "metadata": {
            "tags": [
              "id19_content_0",
              "id21-0-2",
              "outputarea_id19",
              "outputarea_id21",
              "user_output"
            ]
          }
        },
        {
          "output_type": "stream",
          "text": [
            "Clamped (to 99th percentile)\n"
          ],
          "name": "stdout"
        },
        {
          "output_type": "display_data",
          "data": {
            "application/javascript": [
              "window[\"eca8b99c-29ad-11eb-8b62-0242ac1c0002\"] = google.colab.output.setActiveOutputArea(window[\"eca6dbae-29ad-11eb-8b62-0242ac1c0002\"]);\n",
              "//# sourceURL=js_f1b91a2d44"
            ],
            "text/plain": [
              "<IPython.core.display.Javascript object>"
            ]
          },
          "metadata": {
            "tags": [
              "id19_content_0",
              "id21-0-2",
              "outputarea_id19",
              "outputarea_id21",
              "user_output"
            ]
          }
        },
        {
          "output_type": "display_data",
          "data": {
            "application/javascript": [
              "window[\"ecaa6b3e-29ad-11eb-8b62-0242ac1c0002\"] = google.colab.output.getActiveOutputArea();\n",
              "//# sourceURL=js_bd731cb928"
            ],
            "text/plain": [
              "<IPython.core.display.Javascript object>"
            ]
          },
          "metadata": {
            "tags": [
              "id19_content_0",
              "id21-1-0",
              "outputarea_id19",
              "outputarea_id21",
              "user_output"
            ]
          }
        },
        {
          "output_type": "display_data",
          "data": {
            "application/javascript": [
              "window[\"ecaab2ba-29ad-11eb-8b62-0242ac1c0002\"] = document.querySelector(\"#id21-1-0\");\n",
              "//# sourceURL=js_ace1aab837"
            ],
            "text/plain": [
              "<IPython.core.display.Javascript object>"
            ]
          },
          "metadata": {
            "tags": [
              "id19_content_0",
              "id21-1-0",
              "outputarea_id19",
              "outputarea_id21",
              "user_output"
            ]
          }
        },
        {
          "output_type": "display_data",
          "data": {
            "application/javascript": [
              "window[\"ecab2c0e-29ad-11eb-8b62-0242ac1c0002\"] = google.colab.output.setActiveOutputArea(window[\"ecaab2ba-29ad-11eb-8b62-0242ac1c0002\"]);\n",
              "//# sourceURL=js_cb6410fe4e"
            ],
            "text/plain": [
              "<IPython.core.display.Javascript object>"
            ]
          },
          "metadata": {
            "tags": [
              "id19_content_0",
              "id21-1-0",
              "outputarea_id19",
              "outputarea_id21",
              "user_output"
            ]
          }
        },
        {
          "output_type": "stream",
          "text": [
            "Recovery Level\n"
          ],
          "name": "stdout"
        },
        {
          "output_type": "display_data",
          "data": {
            "application/javascript": [
              "window[\"ecac5ca0-29ad-11eb-8b62-0242ac1c0002\"] = google.colab.output.setActiveOutputArea(window[\"ecaa6b3e-29ad-11eb-8b62-0242ac1c0002\"]);\n",
              "//# sourceURL=js_a4fbafbdb7"
            ],
            "text/plain": [
              "<IPython.core.display.Javascript object>"
            ]
          },
          "metadata": {
            "tags": [
              "id19_content_0",
              "id21-1-0",
              "outputarea_id19",
              "outputarea_id21",
              "user_output"
            ]
          }
        },
        {
          "output_type": "display_data",
          "data": {
            "application/javascript": [
              "window[\"ecadff1a-29ad-11eb-8b62-0242ac1c0002\"] = google.colab.output.getActiveOutputArea();\n",
              "//# sourceURL=js_60ce50d952"
            ],
            "text/plain": [
              "<IPython.core.display.Javascript object>"
            ]
          },
          "metadata": {
            "tags": [
              "id19_content_0",
              "id21-1-1",
              "outputarea_id19",
              "outputarea_id21",
              "user_output"
            ]
          }
        },
        {
          "output_type": "display_data",
          "data": {
            "application/javascript": [
              "window[\"ecae4b50-29ad-11eb-8b62-0242ac1c0002\"] = document.querySelector(\"#id21-1-1\");\n",
              "//# sourceURL=js_644364fcd1"
            ],
            "text/plain": [
              "<IPython.core.display.Javascript object>"
            ]
          },
          "metadata": {
            "tags": [
              "id19_content_0",
              "id21-1-1",
              "outputarea_id19",
              "outputarea_id21",
              "user_output"
            ]
          }
        },
        {
          "output_type": "display_data",
          "data": {
            "application/javascript": [
              "window[\"ecaee4fc-29ad-11eb-8b62-0242ac1c0002\"] = google.colab.output.setActiveOutputArea(window[\"ecae4b50-29ad-11eb-8b62-0242ac1c0002\"]);\n",
              "//# sourceURL=js_6231515532"
            ],
            "text/plain": [
              "<IPython.core.display.Javascript object>"
            ]
          },
          "metadata": {
            "tags": [
              "id19_content_0",
              "id21-1-1",
              "outputarea_id19",
              "outputarea_id21",
              "user_output"
            ]
          }
        },
        {
          "output_type": "display_data",
          "data": {
            "image/png": "[encoded data removed]",
            "text/plain": [
              "<Figure size 432x288 with 1 Axes>"
            ]
          },
          "metadata": {
            "tags": [
              "id19_content_0",
              "id21-1-1",
              "outputarea_id19",
              "outputarea_id21",
              "user_output"
            ],
            "needs_background": "light"
          }
        },
        {
          "output_type": "display_data",
          "data": {
            "application/javascript": [
              "window[\"ecd67a94-29ad-11eb-8b62-0242ac1c0002\"] = google.colab.output.setActiveOutputArea(window[\"ecadff1a-29ad-11eb-8b62-0242ac1c0002\"]);\n",
              "//# sourceURL=js_ffe6f7c735"
            ],
            "text/plain": [
              "<IPython.core.display.Javascript object>"
            ]
          },
          "metadata": {
            "tags": [
              "id19_content_0",
              "id21-1-1",
              "outputarea_id19",
              "outputarea_id21",
              "user_output"
            ]
          }
        },
        {
          "output_type": "display_data",
          "data": {
            "application/javascript": [
              "window[\"ecd992d8-29ad-11eb-8b62-0242ac1c0002\"] = google.colab.output.getActiveOutputArea();\n",
              "//# sourceURL=js_91a3c83127"
            ],
            "text/plain": [
              "<IPython.core.display.Javascript object>"
            ]
          },
          "metadata": {
            "tags": [
              "id19_content_0",
              "id21-1-2",
              "outputarea_id19",
              "outputarea_id21",
              "user_output"
            ]
          }
        },
        {
          "output_type": "display_data",
          "data": {
            "application/javascript": [
              "window[\"ecda06e6-29ad-11eb-8b62-0242ac1c0002\"] = document.querySelector(\"#id21-1-2\");\n",
              "//# sourceURL=js_23d88d78a5"
            ],
            "text/plain": [
              "<IPython.core.display.Javascript object>"
            ]
          },
          "metadata": {
            "tags": [
              "id19_content_0",
              "id21-1-2",
              "outputarea_id19",
              "outputarea_id21",
              "user_output"
            ]
          }
        },
        {
          "output_type": "display_data",
          "data": {
            "application/javascript": [
              "window[\"ecdaa95c-29ad-11eb-8b62-0242ac1c0002\"] = google.colab.output.setActiveOutputArea(window[\"ecda06e6-29ad-11eb-8b62-0242ac1c0002\"]);\n",
              "//# sourceURL=js_60a5d0274a"
            ],
            "text/plain": [
              "<IPython.core.display.Javascript object>"
            ]
          },
          "metadata": {
            "tags": [
              "id19_content_0",
              "id21-1-2",
              "outputarea_id19",
              "outputarea_id21",
              "user_output"
            ]
          }
        },
        {
          "output_type": "display_data",
          "data": {
            "image/png": "[encoded data removed]",
            "text/plain": [
              "<Figure size 432x288 with 1 Axes>"
            ]
          },
          "metadata": {
            "tags": [
              "id19_content_0",
              "id21-1-2",
              "outputarea_id19",
              "outputarea_id21",
              "user_output"
            ],
            "needs_background": "light"
          }
        },
        {
          "output_type": "display_data",
          "data": {
            "application/javascript": [
              "window[\"ecf762b8-29ad-11eb-8b62-0242ac1c0002\"] = google.colab.output.setActiveOutputArea(window[\"ecd992d8-29ad-11eb-8b62-0242ac1c0002\"]);\n",
              "//# sourceURL=js_458c748a0b"
            ],
            "text/plain": [
              "<IPython.core.display.Javascript object>"
            ]
          },
          "metadata": {
            "tags": [
              "id19_content_0",
              "id21-1-2",
              "outputarea_id19",
              "outputarea_id21",
              "user_output"
            ]
          }
        },
        {
          "output_type": "display_data",
          "data": {
            "application/javascript": [
              "window[\"ecfa9dca-29ad-11eb-8b62-0242ac1c0002\"] = google.colab.output.getActiveOutputArea();\n",
              "//# sourceURL=js_c1ea2bcbaa"
            ],
            "text/plain": [
              "<IPython.core.display.Javascript object>"
            ]
          },
          "metadata": {
            "tags": [
              "id19_content_0",
              "id21-2-0",
              "outputarea_id19",
              "outputarea_id21",
              "user_output"
            ]
          }
        },
        {
          "output_type": "display_data",
          "data": {
            "application/javascript": [
              "window[\"ecfb0b8e-29ad-11eb-8b62-0242ac1c0002\"] = document.querySelector(\"#id21-2-0\");\n",
              "//# sourceURL=js_f25ccf2b93"
            ],
            "text/plain": [
              "<IPython.core.display.Javascript object>"
            ]
          },
          "metadata": {
            "tags": [
              "id19_content_0",
              "id21-2-0",
              "outputarea_id19",
              "outputarea_id21",
              "user_output"
            ]
          }
        },
        {
          "output_type": "display_data",
          "data": {
            "application/javascript": [
              "window[\"ecfb70a6-29ad-11eb-8b62-0242ac1c0002\"] = google.colab.output.setActiveOutputArea(window[\"ecfb0b8e-29ad-11eb-8b62-0242ac1c0002\"]);\n",
              "//# sourceURL=js_166128ffa1"
            ],
            "text/plain": [
              "<IPython.core.display.Javascript object>"
            ]
          },
          "metadata": {
            "tags": [
              "id19_content_0",
              "id21-2-0",
              "outputarea_id19",
              "outputarea_id21",
              "user_output"
            ]
          }
        },
        {
          "output_type": "stream",
          "text": [
            "Recovery Timescale\n"
          ],
          "name": "stdout"
        },
        {
          "output_type": "display_data",
          "data": {
            "application/javascript": [
              "window[\"ecfcfc3c-29ad-11eb-8b62-0242ac1c0002\"] = google.colab.output.setActiveOutputArea(window[\"ecfa9dca-29ad-11eb-8b62-0242ac1c0002\"]);\n",
              "//# sourceURL=js_9ee4ec4be5"
            ],
            "text/plain": [
              "<IPython.core.display.Javascript object>"
            ]
          },
          "metadata": {
            "tags": [
              "id19_content_0",
              "id21-2-0",
              "outputarea_id19",
              "outputarea_id21",
              "user_output"
            ]
          }
        },
        {
          "output_type": "display_data",
          "data": {
            "application/javascript": [
              "window[\"ecff0216-29ad-11eb-8b62-0242ac1c0002\"] = google.colab.output.getActiveOutputArea();\n",
              "//# sourceURL=js_a2de8cce14"
            ],
            "text/plain": [
              "<IPython.core.display.Javascript object>"
            ]
          },
          "metadata": {
            "tags": [
              "id19_content_0",
              "id21-2-1",
              "outputarea_id19",
              "outputarea_id21",
              "user_output"
            ]
          }
        },
        {
          "output_type": "display_data",
          "data": {
            "application/javascript": [
              "window[\"ecff3b50-29ad-11eb-8b62-0242ac1c0002\"] = document.querySelector(\"#id21-2-1\");\n",
              "//# sourceURL=js_f266a98794"
            ],
            "text/plain": [
              "<IPython.core.display.Javascript object>"
            ]
          },
          "metadata": {
            "tags": [
              "id19_content_0",
              "id21-2-1",
              "outputarea_id19",
              "outputarea_id21",
              "user_output"
            ]
          }
        },
        {
          "output_type": "display_data",
          "data": {
            "application/javascript": [
              "window[\"ecff86d2-29ad-11eb-8b62-0242ac1c0002\"] = google.colab.output.setActiveOutputArea(window[\"ecff3b50-29ad-11eb-8b62-0242ac1c0002\"]);\n",
              "//# sourceURL=js_ac7e08cee4"
            ],
            "text/plain": [
              "<IPython.core.display.Javascript object>"
            ]
          },
          "metadata": {
            "tags": [
              "id19_content_0",
              "id21-2-1",
              "outputarea_id19",
              "outputarea_id21",
              "user_output"
            ]
          }
        },
        {
          "output_type": "display_data",
          "data": {
            "image/png": "[encoded data removed]",
            "text/plain": [
              "<Figure size 432x288 with 1 Axes>"
            ]
          },
          "metadata": {
            "tags": [
              "id19_content_0",
              "id21-2-1",
              "outputarea_id19",
              "outputarea_id21",
              "user_output"
            ],
            "needs_background": "light"
          }
        },
        {
          "output_type": "display_data",
          "data": {
            "application/javascript": [
              "window[\"ed315220-29ad-11eb-8b62-0242ac1c0002\"] = google.colab.output.setActiveOutputArea(window[\"ecff0216-29ad-11eb-8b62-0242ac1c0002\"]);\n",
              "//# sourceURL=js_83cd370f0b"
            ],
            "text/plain": [
              "<IPython.core.display.Javascript object>"
            ]
          },
          "metadata": {
            "tags": [
              "id19_content_0",
              "id21-2-1",
              "outputarea_id19",
              "outputarea_id21",
              "user_output"
            ]
          }
        },
        {
          "output_type": "display_data",
          "data": {
            "application/javascript": [
              "window[\"ed335e62-29ad-11eb-8b62-0242ac1c0002\"] = google.colab.output.getActiveOutputArea();\n",
              "//# sourceURL=js_c707657122"
            ],
            "text/plain": [
              "<IPython.core.display.Javascript object>"
            ]
          },
          "metadata": {
            "tags": [
              "id19_content_0",
              "id21-2-2",
              "outputarea_id19",
              "outputarea_id21",
              "user_output"
            ]
          }
        },
        {
          "output_type": "display_data",
          "data": {
            "application/javascript": [
              "window[\"ed33af84-29ad-11eb-8b62-0242ac1c0002\"] = document.querySelector(\"#id21-2-2\");\n",
              "//# sourceURL=js_0be35be3fb"
            ],
            "text/plain": [
              "<IPython.core.display.Javascript object>"
            ]
          },
          "metadata": {
            "tags": [
              "id19_content_0",
              "id21-2-2",
              "outputarea_id19",
              "outputarea_id21",
              "user_output"
            ]
          }
        },
        {
          "output_type": "display_data",
          "data": {
            "application/javascript": [
              "window[\"ed34034e-29ad-11eb-8b62-0242ac1c0002\"] = google.colab.output.setActiveOutputArea(window[\"ed33af84-29ad-11eb-8b62-0242ac1c0002\"]);\n",
              "//# sourceURL=js_d432d20842"
            ],
            "text/plain": [
              "<IPython.core.display.Javascript object>"
            ]
          },
          "metadata": {
            "tags": [
              "id19_content_0",
              "id21-2-2",
              "outputarea_id19",
              "outputarea_id21",
              "user_output"
            ]
          }
        },
        {
          "output_type": "display_data",
          "data": {
            "image/png": "[encoded data removed]",
            "text/plain": [
              "<Figure size 432x288 with 1 Axes>"
            ]
          },
          "metadata": {
            "tags": [
              "id19_content_0",
              "id21-2-2",
              "outputarea_id19",
              "outputarea_id21",
              "user_output"
            ],
            "needs_background": "light"
          }
        },
        {
          "output_type": "display_data",
          "data": {
            "application/javascript": [
              "window[\"ed50c538-29ad-11eb-8b62-0242ac1c0002\"] = google.colab.output.setActiveOutputArea(window[\"ed335e62-29ad-11eb-8b62-0242ac1c0002\"]);\n",
              "//# sourceURL=js_fb0dc44b4c"
            ],
            "text/plain": [
              "<IPython.core.display.Javascript object>"
            ]
          },
          "metadata": {
            "tags": [
              "id19_content_0",
              "id21-2-2",
              "outputarea_id19",
              "outputarea_id21",
              "user_output"
            ]
          }
        },
        {
          "output_type": "display_data",
          "data": {
            "application/javascript": [
              "window[\"ed534a4c-29ad-11eb-8b62-0242ac1c0002\"] = google.colab.output.getActiveOutputArea();\n",
              "//# sourceURL=js_9c49ca5fbb"
            ],
            "text/plain": [
              "<IPython.core.display.Javascript object>"
            ]
          },
          "metadata": {
            "tags": [
              "id19_content_0",
              "id21-3-0",
              "outputarea_id19",
              "outputarea_id21",
              "user_output"
            ]
          }
        },
        {
          "output_type": "display_data",
          "data": {
            "application/javascript": [
              "window[\"ed539056-29ad-11eb-8b62-0242ac1c0002\"] = document.querySelector(\"#id21-3-0\");\n",
              "//# sourceURL=js_8cf3b354b6"
            ],
            "text/plain": [
              "<IPython.core.display.Javascript object>"
            ]
          },
          "metadata": {
            "tags": [
              "id19_content_0",
              "id21-3-0",
              "outputarea_id19",
              "outputarea_id21",
              "user_output"
            ]
          }
        },
        {
          "output_type": "display_data",
          "data": {
            "application/javascript": [
              "window[\"ed53d6c4-29ad-11eb-8b62-0242ac1c0002\"] = google.colab.output.setActiveOutputArea(window[\"ed539056-29ad-11eb-8b62-0242ac1c0002\"]);\n",
              "//# sourceURL=js_4c36551bdc"
            ],
            "text/plain": [
              "<IPython.core.display.Javascript object>"
            ]
          },
          "metadata": {
            "tags": [
              "id19_content_0",
              "id21-3-0",
              "outputarea_id19",
              "outputarea_id21",
              "user_output"
            ]
          }
        },
        {
          "output_type": "stream",
          "text": [
            "Rec. Time. Error\n"
          ],
          "name": "stdout"
        },
        {
          "output_type": "display_data",
          "data": {
            "application/javascript": [
              "window[\"ed5533b6-29ad-11eb-8b62-0242ac1c0002\"] = google.colab.output.setActiveOutputArea(window[\"ed534a4c-29ad-11eb-8b62-0242ac1c0002\"]);\n",
              "//# sourceURL=js_841a174a3f"
            ],
            "text/plain": [
              "<IPython.core.display.Javascript object>"
            ]
          },
          "metadata": {
            "tags": [
              "id19_content_0",
              "id21-3-0",
              "outputarea_id19",
              "outputarea_id21",
              "user_output"
            ]
          }
        },
        {
          "output_type": "display_data",
          "data": {
            "application/javascript": [
              "window[\"ed574de0-29ad-11eb-8b62-0242ac1c0002\"] = google.colab.output.getActiveOutputArea();\n",
              "//# sourceURL=js_7bc210d1f1"
            ],
            "text/plain": [
              "<IPython.core.display.Javascript object>"
            ]
          },
          "metadata": {
            "tags": [
              "id19_content_0",
              "id21-3-1",
              "outputarea_id19",
              "outputarea_id21",
              "user_output"
            ]
          }
        },
        {
          "output_type": "display_data",
          "data": {
            "application/javascript": [
              "window[\"ed57bdc0-29ad-11eb-8b62-0242ac1c0002\"] = document.querySelector(\"#id21-3-1\");\n",
              "//# sourceURL=js_db50106915"
            ],
            "text/plain": [
              "<IPython.core.display.Javascript object>"
            ]
          },
          "metadata": {
            "tags": [
              "id19_content_0",
              "id21-3-1",
              "outputarea_id19",
              "outputarea_id21",
              "user_output"
            ]
          }
        },
        {
          "output_type": "display_data",
          "data": {
            "application/javascript": [
              "window[\"ed58226a-29ad-11eb-8b62-0242ac1c0002\"] = google.colab.output.setActiveOutputArea(window[\"ed57bdc0-29ad-11eb-8b62-0242ac1c0002\"]);\n",
              "//# sourceURL=js_08c6df7173"
            ],
            "text/plain": [
              "<IPython.core.display.Javascript object>"
            ]
          },
          "metadata": {
            "tags": [
              "id19_content_0",
              "id21-3-1",
              "outputarea_id19",
              "outputarea_id21",
              "user_output"
            ]
          }
        },
        {
          "output_type": "display_data",
          "data": {
            "image/png": "[encoded data removed]",
            "text/plain": [
              "<Figure size 432x288 with 1 Axes>"
            ]
          },
          "metadata": {
            "tags": [
              "id19_content_0",
              "id21-3-1",
              "outputarea_id19",
              "outputarea_id21",
              "user_output"
            ],
            "needs_background": "light"
          }
        },
        {
          "output_type": "display_data",
          "data": {
            "application/javascript": [
              "window[\"ed7b29f4-29ad-11eb-8b62-0242ac1c0002\"] = google.colab.output.setActiveOutputArea(window[\"ed574de0-29ad-11eb-8b62-0242ac1c0002\"]);\n",
              "//# sourceURL=js_6a20774dc8"
            ],
            "text/plain": [
              "<IPython.core.display.Javascript object>"
            ]
          },
          "metadata": {
            "tags": [
              "id19_content_0",
              "id21-3-1",
              "outputarea_id19",
              "outputarea_id21",
              "user_output"
            ]
          }
        },
        {
          "output_type": "display_data",
          "data": {
            "application/javascript": [
              "window[\"ed7d19b2-29ad-11eb-8b62-0242ac1c0002\"] = google.colab.output.getActiveOutputArea();\n",
              "//# sourceURL=js_d7e755ef81"
            ],
            "text/plain": [
              "<IPython.core.display.Javascript object>"
            ]
          },
          "metadata": {
            "tags": [
              "id19_content_0",
              "id21-3-2",
              "outputarea_id19",
              "outputarea_id21",
              "user_output"
            ]
          }
        },
        {
          "output_type": "display_data",
          "data": {
            "application/javascript": [
              "window[\"ed7d6ef8-29ad-11eb-8b62-0242ac1c0002\"] = document.querySelector(\"#id21-3-2\");\n",
              "//# sourceURL=js_2f93b0bfd1"
            ],
            "text/plain": [
              "<IPython.core.display.Javascript object>"
            ]
          },
          "metadata": {
            "tags": [
              "id19_content_0",
              "id21-3-2",
              "outputarea_id19",
              "outputarea_id21",
              "user_output"
            ]
          }
        },
        {
          "output_type": "display_data",
          "data": {
            "application/javascript": [
              "window[\"ed7dc650-29ad-11eb-8b62-0242ac1c0002\"] = google.colab.output.setActiveOutputArea(window[\"ed7d6ef8-29ad-11eb-8b62-0242ac1c0002\"]);\n",
              "//# sourceURL=js_615dfee89a"
            ],
            "text/plain": [
              "<IPython.core.display.Javascript object>"
            ]
          },
          "metadata": {
            "tags": [
              "id19_content_0",
              "id21-3-2",
              "outputarea_id19",
              "outputarea_id21",
              "user_output"
            ]
          }
        },
        {
          "output_type": "display_data",
          "data": {
            "image/png": "[encoded data removed]",
            "text/plain": [
              "<Figure size 432x288 with 1 Axes>"
            ]
          },
          "metadata": {
            "tags": [
              "id19_content_0",
              "id21-3-2",
              "outputarea_id19",
              "outputarea_id21",
              "user_output"
            ],
            "needs_background": "light"
          }
        },
        {
          "output_type": "display_data",
          "data": {
            "application/javascript": [
              "window[\"ed9c6e16-29ad-11eb-8b62-0242ac1c0002\"] = google.colab.output.setActiveOutputArea(window[\"ed7d19b2-29ad-11eb-8b62-0242ac1c0002\"]);\n",
              "//# sourceURL=js_58fd1d85d1"
            ],
            "text/plain": [
              "<IPython.core.display.Javascript object>"
            ]
          },
          "metadata": {
            "tags": [
              "id19_content_0",
              "id21-3-2",
              "outputarea_id19",
              "outputarea_id21",
              "user_output"
            ]
          }
        },
        {
          "output_type": "display_data",
          "data": {
            "application/javascript": [
              "window[\"ed9e9b8c-29ad-11eb-8b62-0242ac1c0002\"] = google.colab.output.setActiveOutputArea(window[\"eb7f8b54-29ad-11eb-8b62-0242ac1c0002\"]);\n",
              "//# sourceURL=js_46bd33178a"
            ],
            "text/plain": [
              "<IPython.core.display.Javascript object>"
            ]
          },
          "metadata": {
            "tags": [
              "id19_content_0",
              "outputarea_id19"
            ]
          }
        },
        {
          "output_type": "display_data",
          "data": {
            "application/javascript": [
              "window[\"eda0c704-29ad-11eb-8b62-0242ac1c0002\"] = google.colab.output.getActiveOutputArea();\n",
              "//# sourceURL=js_bea1fd15c6"
            ],
            "text/plain": [
              "<IPython.core.display.Javascript object>"
            ]
          },
          "metadata": {
            "tags": [
              "id19_content_1",
              "outputarea_id19"
            ]
          }
        },
        {
          "output_type": "display_data",
          "data": {
            "application/javascript": [
              "window[\"eda1198e-29ad-11eb-8b62-0242ac1c0002\"] = document.querySelector(\"#id19_content_1\");\n",
              "//# sourceURL=js_3478ec24aa"
            ],
            "text/plain": [
              "<IPython.core.display.Javascript object>"
            ]
          },
          "metadata": {
            "tags": [
              "id19_content_1",
              "outputarea_id19"
            ]
          }
        },
        {
          "output_type": "display_data",
          "data": {
            "application/javascript": [
              "window[\"eda172e4-29ad-11eb-8b62-0242ac1c0002\"] = google.colab.output.setActiveOutputArea(window[\"eda1198e-29ad-11eb-8b62-0242ac1c0002\"]);\n",
              "//# sourceURL=js_99cf87ec6b"
            ],
            "text/plain": [
              "<IPython.core.display.Javascript object>"
            ]
          },
          "metadata": {
            "tags": [
              "id19_content_1",
              "outputarea_id19"
            ]
          }
        },
        {
          "output_type": "display_data",
          "data": {
            "application/javascript": [
              "window[\"eda1e594-29ad-11eb-8b62-0242ac1c0002\"] = window[\"id19\"].setSelectedTabIndex(1);\n",
              "//# sourceURL=js_4e65ed5338"
            ],
            "text/plain": [
              "<IPython.core.display.Javascript object>"
            ]
          },
          "metadata": {
            "tags": [
              "id19_content_1",
              "outputarea_id19"
            ]
          }
        },
        {
          "output_type": "display_data",
          "data": {
            "text/html": [
              "<style>\n",
              "       table#id23, #id23 > tbody > tr > th, #id23 > tbody > tr > td {\n",
              "         border: 1px solid lightgray;\n",
              "         border-collapse:collapse;\n",
              "         \n",
              "        }</style>"
            ],
            "text/plain": [
              "<IPython.core.display.HTML object>"
            ]
          },
          "metadata": {
            "tags": [
              "id19_content_1",
              "outputarea_id19",
              "outputarea_id23",
              "user_output"
            ]
          }
        },
        {
          "output_type": "display_data",
          "data": {
            "text/html": [
              "<table id=id23><tr><th id=id23-0-0></th><th id=id23-0-1></th><th id=id23-0-2></th></tr><tr><th id=id23-1-0></th><td id=id23-1-1></td><td id=id23-1-2></td></tr><tr><th id=id23-2-0></th><td id=id23-2-1></td><td id=id23-2-2></td></tr><tr><th id=id23-3-0></th><td id=id23-3-1></td><td id=id23-3-2></td></tr></table>"
            ],
            "text/plain": [
              "<IPython.core.display.HTML object>"
            ]
          },
          "metadata": {
            "tags": [
              "id19_content_1",
              "outputarea_id19",
              "outputarea_id23",
              "user_output"
            ]
          }
        },
        {
          "output_type": "display_data",
          "data": {
            "application/javascript": [
              "window[\"ee964440-29ad-11eb-8b62-0242ac1c0002\"] = google.colab.output.getActiveOutputArea();\n",
              "//# sourceURL=js_e501c107e9"
            ],
            "text/plain": [
              "<IPython.core.display.Javascript object>"
            ]
          },
          "metadata": {
            "tags": [
              "id19_content_1",
              "id23-0-1",
              "outputarea_id19",
              "outputarea_id23",
              "user_output"
            ]
          }
        },
        {
          "output_type": "display_data",
          "data": {
            "application/javascript": [
              "window[\"ee969c7e-29ad-11eb-8b62-0242ac1c0002\"] = document.querySelector(\"#id23-0-1\");\n",
              "//# sourceURL=js_95cfda1952"
            ],
            "text/plain": [
              "<IPython.core.display.Javascript object>"
            ]
          },
          "metadata": {
            "tags": [
              "id19_content_1",
              "id23-0-1",
              "outputarea_id19",
              "outputarea_id23",
              "user_output"
            ]
          }
        },
        {
          "output_type": "display_data",
          "data": {
            "application/javascript": [
              "window[\"ee96e3d2-29ad-11eb-8b62-0242ac1c0002\"] = google.colab.output.setActiveOutputArea(window[\"ee969c7e-29ad-11eb-8b62-0242ac1c0002\"]);\n",
              "//# sourceURL=js_d521c20643"
            ],
            "text/plain": [
              "<IPython.core.display.Javascript object>"
            ]
          },
          "metadata": {
            "tags": [
              "id19_content_1",
              "id23-0-1",
              "outputarea_id19",
              "outputarea_id23",
              "user_output"
            ]
          }
        },
        {
          "output_type": "stream",
          "text": [
            "Full result\n"
          ],
          "name": "stdout"
        },
        {
          "output_type": "display_data",
          "data": {
            "application/javascript": [
              "window[\"ee982ce2-29ad-11eb-8b62-0242ac1c0002\"] = google.colab.output.setActiveOutputArea(window[\"ee964440-29ad-11eb-8b62-0242ac1c0002\"]);\n",
              "//# sourceURL=js_b750c0c5cd"
            ],
            "text/plain": [
              "<IPython.core.display.Javascript object>"
            ]
          },
          "metadata": {
            "tags": [
              "id19_content_1",
              "id23-0-1",
              "outputarea_id19",
              "outputarea_id23",
              "user_output"
            ]
          }
        },
        {
          "output_type": "display_data",
          "data": {
            "application/javascript": [
              "window[\"ee9a4572-29ad-11eb-8b62-0242ac1c0002\"] = google.colab.output.getActiveOutputArea();\n",
              "//# sourceURL=js_85dd602701"
            ],
            "text/plain": [
              "<IPython.core.display.Javascript object>"
            ]
          },
          "metadata": {
            "tags": [
              "id19_content_1",
              "id23-0-2",
              "outputarea_id19",
              "outputarea_id23",
              "user_output"
            ]
          }
        },
        {
          "output_type": "display_data",
          "data": {
            "application/javascript": [
              "window[\"ee9aea86-29ad-11eb-8b62-0242ac1c0002\"] = document.querySelector(\"#id23-0-2\");\n",
              "//# sourceURL=js_52dae72ea6"
            ],
            "text/plain": [
              "<IPython.core.display.Javascript object>"
            ]
          },
          "metadata": {
            "tags": [
              "id19_content_1",
              "id23-0-2",
              "outputarea_id19",
              "outputarea_id23",
              "user_output"
            ]
          }
        },
        {
          "output_type": "display_data",
          "data": {
            "application/javascript": [
              "window[\"ee9b5250-29ad-11eb-8b62-0242ac1c0002\"] = google.colab.output.setActiveOutputArea(window[\"ee9aea86-29ad-11eb-8b62-0242ac1c0002\"]);\n",
              "//# sourceURL=js_929e6449a5"
            ],
            "text/plain": [
              "<IPython.core.display.Javascript object>"
            ]
          },
          "metadata": {
            "tags": [
              "id19_content_1",
              "id23-0-2",
              "outputarea_id19",
              "outputarea_id23",
              "user_output"
            ]
          }
        },
        {
          "output_type": "stream",
          "text": [
            "Clamped (to 99th percentile)\n"
          ],
          "name": "stdout"
        },
        {
          "output_type": "display_data",
          "data": {
            "application/javascript": [
              "window[\"ee9cbe42-29ad-11eb-8b62-0242ac1c0002\"] = google.colab.output.setActiveOutputArea(window[\"ee9a4572-29ad-11eb-8b62-0242ac1c0002\"]);\n",
              "//# sourceURL=js_9f02ced81e"
            ],
            "text/plain": [
              "<IPython.core.display.Javascript object>"
            ]
          },
          "metadata": {
            "tags": [
              "id19_content_1",
              "id23-0-2",
              "outputarea_id19",
              "outputarea_id23",
              "user_output"
            ]
          }
        },
        {
          "output_type": "display_data",
          "data": {
            "application/javascript": [
              "window[\"ee9e8d12-29ad-11eb-8b62-0242ac1c0002\"] = google.colab.output.getActiveOutputArea();\n",
              "//# sourceURL=js_e1f1a4fa88"
            ],
            "text/plain": [
              "<IPython.core.display.Javascript object>"
            ]
          },
          "metadata": {
            "tags": [
              "id19_content_1",
              "id23-1-0",
              "outputarea_id19",
              "outputarea_id23",
              "user_output"
            ]
          }
        },
        {
          "output_type": "display_data",
          "data": {
            "application/javascript": [
              "window[\"ee9f2164-29ad-11eb-8b62-0242ac1c0002\"] = document.querySelector(\"#id23-1-0\");\n",
              "//# sourceURL=js_53b63baec4"
            ],
            "text/plain": [
              "<IPython.core.display.Javascript object>"
            ]
          },
          "metadata": {
            "tags": [
              "id19_content_1",
              "id23-1-0",
              "outputarea_id19",
              "outputarea_id23",
              "user_output"
            ]
          }
        },
        {
          "output_type": "display_data",
          "data": {
            "application/javascript": [
              "window[\"ee9f6fd4-29ad-11eb-8b62-0242ac1c0002\"] = google.colab.output.setActiveOutputArea(window[\"ee9f2164-29ad-11eb-8b62-0242ac1c0002\"]);\n",
              "//# sourceURL=js_2d3d64e178"
            ],
            "text/plain": [
              "<IPython.core.display.Javascript object>"
            ]
          },
          "metadata": {
            "tags": [
              "id19_content_1",
              "id23-1-0",
              "outputarea_id19",
              "outputarea_id23",
              "user_output"
            ]
          }
        },
        {
          "output_type": "stream",
          "text": [
            "Recovery Level\n"
          ],
          "name": "stdout"
        },
        {
          "output_type": "display_data",
          "data": {
            "application/javascript": [
              "window[\"eea09d1e-29ad-11eb-8b62-0242ac1c0002\"] = google.colab.output.setActiveOutputArea(window[\"ee9e8d12-29ad-11eb-8b62-0242ac1c0002\"]);\n",
              "//# sourceURL=js_93d2a84c3e"
            ],
            "text/plain": [
              "<IPython.core.display.Javascript object>"
            ]
          },
          "metadata": {
            "tags": [
              "id19_content_1",
              "id23-1-0",
              "outputarea_id19",
              "outputarea_id23",
              "user_output"
            ]
          }
        },
        {
          "output_type": "display_data",
          "data": {
            "application/javascript": [
              "window[\"eea201e0-29ad-11eb-8b62-0242ac1c0002\"] = google.colab.output.getActiveOutputArea();\n",
              "//# sourceURL=js_0f817ad98b"
            ],
            "text/plain": [
              "<IPython.core.display.Javascript object>"
            ]
          },
          "metadata": {
            "tags": [
              "id19_content_1",
              "id23-1-1",
              "outputarea_id19",
              "outputarea_id23",
              "user_output"
            ]
          }
        },
        {
          "output_type": "display_data",
          "data": {
            "application/javascript": [
              "window[\"eea249a2-29ad-11eb-8b62-0242ac1c0002\"] = document.querySelector(\"#id23-1-1\");\n",
              "//# sourceURL=js_91552fad87"
            ],
            "text/plain": [
              "<IPython.core.display.Javascript object>"
            ]
          },
          "metadata": {
            "tags": [
              "id19_content_1",
              "id23-1-1",
              "outputarea_id19",
              "outputarea_id23",
              "user_output"
            ]
          }
        },
        {
          "output_type": "display_data",
          "data": {
            "application/javascript": [
              "window[\"eea28f98-29ad-11eb-8b62-0242ac1c0002\"] = google.colab.output.setActiveOutputArea(window[\"eea249a2-29ad-11eb-8b62-0242ac1c0002\"]);\n",
              "//# sourceURL=js_2e520c629c"
            ],
            "text/plain": [
              "<IPython.core.display.Javascript object>"
            ]
          },
          "metadata": {
            "tags": [
              "id19_content_1",
              "id23-1-1",
              "outputarea_id19",
              "outputarea_id23",
              "user_output"
            ]
          }
        },
        {
          "output_type": "display_data",
          "data": {
            "image/png": "[encoded data removed]",
            "text/plain": [
              "<Figure size 432x288 with 1 Axes>"
            ]
          },
          "metadata": {
            "tags": [
              "id19_content_1",
              "id23-1-1",
              "outputarea_id19",
              "outputarea_id23",
              "user_output"
            ],
            "needs_background": "light"
          }
        },
        {
          "output_type": "display_data",
          "data": {
            "application/javascript": [
              "window[\"eecafe6a-29ad-11eb-8b62-0242ac1c0002\"] = google.colab.output.setActiveOutputArea(window[\"eea201e0-29ad-11eb-8b62-0242ac1c0002\"]);\n",
              "//# sourceURL=js_aa7a849725"
            ],
            "text/plain": [
              "<IPython.core.display.Javascript object>"
            ]
          },
          "metadata": {
            "tags": [
              "id19_content_1",
              "id23-1-1",
              "outputarea_id19",
              "outputarea_id23",
              "user_output"
            ]
          }
        },
        {
          "output_type": "display_data",
          "data": {
            "application/javascript": [
              "window[\"eecebb9a-29ad-11eb-8b62-0242ac1c0002\"] = google.colab.output.getActiveOutputArea();\n",
              "//# sourceURL=js_ef6f8d76ec"
            ],
            "text/plain": [
              "<IPython.core.display.Javascript object>"
            ]
          },
          "metadata": {
            "tags": [
              "id19_content_1",
              "id23-1-2",
              "outputarea_id19",
              "outputarea_id23",
              "user_output"
            ]
          }
        },
        {
          "output_type": "display_data",
          "data": {
            "application/javascript": [
              "window[\"eecf4f60-29ad-11eb-8b62-0242ac1c0002\"] = document.querySelector(\"#id23-1-2\");\n",
              "//# sourceURL=js_a7177d1acf"
            ],
            "text/plain": [
              "<IPython.core.display.Javascript object>"
            ]
          },
          "metadata": {
            "tags": [
              "id19_content_1",
              "id23-1-2",
              "outputarea_id19",
              "outputarea_id23",
              "user_output"
            ]
          }
        },
        {
          "output_type": "display_data",
          "data": {
            "application/javascript": [
              "window[\"eecfbfb8-29ad-11eb-8b62-0242ac1c0002\"] = google.colab.output.setActiveOutputArea(window[\"eecf4f60-29ad-11eb-8b62-0242ac1c0002\"]);\n",
              "//# sourceURL=js_3b82a62f68"
            ],
            "text/plain": [
              "<IPython.core.display.Javascript object>"
            ]
          },
          "metadata": {
            "tags": [
              "id19_content_1",
              "id23-1-2",
              "outputarea_id19",
              "outputarea_id23",
              "user_output"
            ]
          }
        },
        {
          "output_type": "display_data",
          "data": {
            "image/png": "[encoded data removed]",
            "text/plain": [
              "<Figure size 432x288 with 1 Axes>"
            ]
          },
          "metadata": {
            "tags": [
              "id19_content_1",
              "id23-1-2",
              "outputarea_id19",
              "outputarea_id23",
              "user_output"
            ],
            "needs_background": "light"
          }
        },
        {
          "output_type": "display_data",
          "data": {
            "application/javascript": [
              "window[\"eeedf618-29ad-11eb-8b62-0242ac1c0002\"] = google.colab.output.setActiveOutputArea(window[\"eecebb9a-29ad-11eb-8b62-0242ac1c0002\"]);\n",
              "//# sourceURL=js_620df0af5c"
            ],
            "text/plain": [
              "<IPython.core.display.Javascript object>"
            ]
          },
          "metadata": {
            "tags": [
              "id19_content_1",
              "id23-1-2",
              "outputarea_id19",
              "outputarea_id23",
              "user_output"
            ]
          }
        },
        {
          "output_type": "display_data",
          "data": {
            "application/javascript": [
              "window[\"eef1943a-29ad-11eb-8b62-0242ac1c0002\"] = google.colab.output.getActiveOutputArea();\n",
              "//# sourceURL=js_bac05ad4bb"
            ],
            "text/plain": [
              "<IPython.core.display.Javascript object>"
            ]
          },
          "metadata": {
            "tags": [
              "id19_content_1",
              "id23-2-0",
              "outputarea_id19",
              "outputarea_id23",
              "user_output"
            ]
          }
        },
        {
          "output_type": "display_data",
          "data": {
            "application/javascript": [
              "window[\"eef1f16e-29ad-11eb-8b62-0242ac1c0002\"] = document.querySelector(\"#id23-2-0\");\n",
              "//# sourceURL=js_71331c8d44"
            ],
            "text/plain": [
              "<IPython.core.display.Javascript object>"
            ]
          },
          "metadata": {
            "tags": [
              "id19_content_1",
              "id23-2-0",
              "outputarea_id19",
              "outputarea_id23",
              "user_output"
            ]
          }
        },
        {
          "output_type": "display_data",
          "data": {
            "application/javascript": [
              "window[\"eef2648c-29ad-11eb-8b62-0242ac1c0002\"] = google.colab.output.setActiveOutputArea(window[\"eef1f16e-29ad-11eb-8b62-0242ac1c0002\"]);\n",
              "//# sourceURL=js_fcc7f79c03"
            ],
            "text/plain": [
              "<IPython.core.display.Javascript object>"
            ]
          },
          "metadata": {
            "tags": [
              "id19_content_1",
              "id23-2-0",
              "outputarea_id19",
              "outputarea_id23",
              "user_output"
            ]
          }
        },
        {
          "output_type": "stream",
          "text": [
            "Recovery Timescale\n"
          ],
          "name": "stdout"
        },
        {
          "output_type": "display_data",
          "data": {
            "application/javascript": [
              "window[\"eef4292a-29ad-11eb-8b62-0242ac1c0002\"] = google.colab.output.setActiveOutputArea(window[\"eef1943a-29ad-11eb-8b62-0242ac1c0002\"]);\n",
              "//# sourceURL=js_74073ac2e8"
            ],
            "text/plain": [
              "<IPython.core.display.Javascript object>"
            ]
          },
          "metadata": {
            "tags": [
              "id19_content_1",
              "id23-2-0",
              "outputarea_id19",
              "outputarea_id23",
              "user_output"
            ]
          }
        },
        {
          "output_type": "display_data",
          "data": {
            "application/javascript": [
              "window[\"eef61686-29ad-11eb-8b62-0242ac1c0002\"] = google.colab.output.getActiveOutputArea();\n",
              "//# sourceURL=js_761107d0f4"
            ],
            "text/plain": [
              "<IPython.core.display.Javascript object>"
            ]
          },
          "metadata": {
            "tags": [
              "id19_content_1",
              "id23-2-1",
              "outputarea_id19",
              "outputarea_id23",
              "user_output"
            ]
          }
        },
        {
          "output_type": "display_data",
          "data": {
            "application/javascript": [
              "window[\"eef65b1e-29ad-11eb-8b62-0242ac1c0002\"] = document.querySelector(\"#id23-2-1\");\n",
              "//# sourceURL=js_d23ca1c88c"
            ],
            "text/plain": [
              "<IPython.core.display.Javascript object>"
            ]
          },
          "metadata": {
            "tags": [
              "id19_content_1",
              "id23-2-1",
              "outputarea_id19",
              "outputarea_id23",
              "user_output"
            ]
          }
        },
        {
          "output_type": "display_data",
          "data": {
            "application/javascript": [
              "window[\"eef6fe48-29ad-11eb-8b62-0242ac1c0002\"] = google.colab.output.setActiveOutputArea(window[\"eef65b1e-29ad-11eb-8b62-0242ac1c0002\"]);\n",
              "//# sourceURL=js_568bdd21bc"
            ],
            "text/plain": [
              "<IPython.core.display.Javascript object>"
            ]
          },
          "metadata": {
            "tags": [
              "id19_content_1",
              "id23-2-1",
              "outputarea_id19",
              "outputarea_id23",
              "user_output"
            ]
          }
        },
        {
          "output_type": "display_data",
          "data": {
            "image/png": "[encoded data removed]",
            "text/plain": [
              "<Figure size 432x288 with 1 Axes>"
            ]
          },
          "metadata": {
            "tags": [
              "id19_content_1",
              "id23-2-1",
              "outputarea_id19",
              "outputarea_id23",
              "user_output"
            ],
            "needs_background": "light"
          }
        },
        {
          "output_type": "display_data",
          "data": {
            "application/javascript": [
              "window[\"ef1daf48-29ad-11eb-8b62-0242ac1c0002\"] = google.colab.output.setActiveOutputArea(window[\"eef61686-29ad-11eb-8b62-0242ac1c0002\"]);\n",
              "//# sourceURL=js_5bed82a2d9"
            ],
            "text/plain": [
              "<IPython.core.display.Javascript object>"
            ]
          },
          "metadata": {
            "tags": [
              "id19_content_1",
              "id23-2-1",
              "outputarea_id19",
              "outputarea_id23",
              "user_output"
            ]
          }
        },
        {
          "output_type": "display_data",
          "data": {
            "application/javascript": [
              "window[\"ef1fc8fa-29ad-11eb-8b62-0242ac1c0002\"] = google.colab.output.getActiveOutputArea();\n",
              "//# sourceURL=js_235b809bcd"
            ],
            "text/plain": [
              "<IPython.core.display.Javascript object>"
            ]
          },
          "metadata": {
            "tags": [
              "id19_content_1",
              "id23-2-2",
              "outputarea_id19",
              "outputarea_id23",
              "user_output"
            ]
          }
        },
        {
          "output_type": "display_data",
          "data": {
            "application/javascript": [
              "window[\"ef20299e-29ad-11eb-8b62-0242ac1c0002\"] = document.querySelector(\"#id23-2-2\");\n",
              "//# sourceURL=js_1f3442b7fc"
            ],
            "text/plain": [
              "<IPython.core.display.Javascript object>"
            ]
          },
          "metadata": {
            "tags": [
              "id19_content_1",
              "id23-2-2",
              "outputarea_id19",
              "outputarea_id23",
              "user_output"
            ]
          }
        },
        {
          "output_type": "display_data",
          "data": {
            "application/javascript": [
              "window[\"ef207ac0-29ad-11eb-8b62-0242ac1c0002\"] = google.colab.output.setActiveOutputArea(window[\"ef20299e-29ad-11eb-8b62-0242ac1c0002\"]);\n",
              "//# sourceURL=js_591579918e"
            ],
            "text/plain": [
              "<IPython.core.display.Javascript object>"
            ]
          },
          "metadata": {
            "tags": [
              "id19_content_1",
              "id23-2-2",
              "outputarea_id19",
              "outputarea_id23",
              "user_output"
            ]
          }
        },
        {
          "output_type": "display_data",
          "data": {
            "image/png": "[encoded data removed]",
            "text/plain": [
              "<Figure size 432x288 with 1 Axes>"
            ]
          },
          "metadata": {
            "tags": [
              "id19_content_1",
              "id23-2-2",
              "outputarea_id19",
              "outputarea_id23",
              "user_output"
            ],
            "needs_background": "light"
          }
        },
        {
          "output_type": "display_data",
          "data": {
            "application/javascript": [
              "window[\"ef3f3816-29ad-11eb-8b62-0242ac1c0002\"] = google.colab.output.setActiveOutputArea(window[\"ef1fc8fa-29ad-11eb-8b62-0242ac1c0002\"]);\n",
              "//# sourceURL=js_2773a3cfd1"
            ],
            "text/plain": [
              "<IPython.core.display.Javascript object>"
            ]
          },
          "metadata": {
            "tags": [
              "id19_content_1",
              "id23-2-2",
              "outputarea_id19",
              "outputarea_id23",
              "user_output"
            ]
          }
        },
        {
          "output_type": "display_data",
          "data": {
            "application/javascript": [
              "window[\"ef425618-29ad-11eb-8b62-0242ac1c0002\"] = google.colab.output.getActiveOutputArea();\n",
              "//# sourceURL=js_d8b9230c16"
            ],
            "text/plain": [
              "<IPython.core.display.Javascript object>"
            ]
          },
          "metadata": {
            "tags": [
              "id19_content_1",
              "id23-3-0",
              "outputarea_id19",
              "outputarea_id23",
              "user_output"
            ]
          }
        },
        {
          "output_type": "display_data",
          "data": {
            "application/javascript": [
              "window[\"ef42b8ec-29ad-11eb-8b62-0242ac1c0002\"] = document.querySelector(\"#id23-3-0\");\n",
              "//# sourceURL=js_5399031dd8"
            ],
            "text/plain": [
              "<IPython.core.display.Javascript object>"
            ]
          },
          "metadata": {
            "tags": [
              "id19_content_1",
              "id23-3-0",
              "outputarea_id19",
              "outputarea_id23",
              "user_output"
            ]
          }
        },
        {
          "output_type": "display_data",
          "data": {
            "application/javascript": [
              "window[\"ef431abc-29ad-11eb-8b62-0242ac1c0002\"] = google.colab.output.setActiveOutputArea(window[\"ef42b8ec-29ad-11eb-8b62-0242ac1c0002\"]);\n",
              "//# sourceURL=js_8ffd78e94e"
            ],
            "text/plain": [
              "<IPython.core.display.Javascript object>"
            ]
          },
          "metadata": {
            "tags": [
              "id19_content_1",
              "id23-3-0",
              "outputarea_id19",
              "outputarea_id23",
              "user_output"
            ]
          }
        },
        {
          "output_type": "stream",
          "text": [
            "Rec. Time. Error\n"
          ],
          "name": "stdout"
        },
        {
          "output_type": "display_data",
          "data": {
            "application/javascript": [
              "window[\"ef44e28e-29ad-11eb-8b62-0242ac1c0002\"] = google.colab.output.setActiveOutputArea(window[\"ef425618-29ad-11eb-8b62-0242ac1c0002\"]);\n",
              "//# sourceURL=js_8de681b5b2"
            ],
            "text/plain": [
              "<IPython.core.display.Javascript object>"
            ]
          },
          "metadata": {
            "tags": [
              "id19_content_1",
              "id23-3-0",
              "outputarea_id19",
              "outputarea_id23",
              "user_output"
            ]
          }
        },
        {
          "output_type": "display_data",
          "data": {
            "application/javascript": [
              "window[\"ef4706fe-29ad-11eb-8b62-0242ac1c0002\"] = google.colab.output.getActiveOutputArea();\n",
              "//# sourceURL=js_346d6fa29c"
            ],
            "text/plain": [
              "<IPython.core.display.Javascript object>"
            ]
          },
          "metadata": {
            "tags": [
              "id19_content_1",
              "id23-3-1",
              "outputarea_id19",
              "outputarea_id23",
              "user_output"
            ]
          }
        },
        {
          "output_type": "display_data",
          "data": {
            "application/javascript": [
              "window[\"ef476b8a-29ad-11eb-8b62-0242ac1c0002\"] = document.querySelector(\"#id23-3-1\");\n",
              "//# sourceURL=js_17cff411a1"
            ],
            "text/plain": [
              "<IPython.core.display.Javascript object>"
            ]
          },
          "metadata": {
            "tags": [
              "id19_content_1",
              "id23-3-1",
              "outputarea_id19",
              "outputarea_id23",
              "user_output"
            ]
          }
        },
        {
          "output_type": "display_data",
          "data": {
            "application/javascript": [
              "window[\"ef47db6a-29ad-11eb-8b62-0242ac1c0002\"] = google.colab.output.setActiveOutputArea(window[\"ef476b8a-29ad-11eb-8b62-0242ac1c0002\"]);\n",
              "//# sourceURL=js_620a91e725"
            ],
            "text/plain": [
              "<IPython.core.display.Javascript object>"
            ]
          },
          "metadata": {
            "tags": [
              "id19_content_1",
              "id23-3-1",
              "outputarea_id19",
              "outputarea_id23",
              "user_output"
            ]
          }
        },
        {
          "output_type": "display_data",
          "data": {
            "image/png": "[encoded data removed]",
            "text/plain": [
              "<Figure size 432x288 with 1 Axes>"
            ]
          },
          "metadata": {
            "tags": [
              "id19_content_1",
              "id23-3-1",
              "outputarea_id19",
              "outputarea_id23",
              "user_output"
            ],
            "needs_background": "light"
          }
        },
        {
          "output_type": "display_data",
          "data": {
            "application/javascript": [
              "window[\"ef6a01b8-29ad-11eb-8b62-0242ac1c0002\"] = google.colab.output.setActiveOutputArea(window[\"ef4706fe-29ad-11eb-8b62-0242ac1c0002\"]);\n",
              "//# sourceURL=js_1507ebeff0"
            ],
            "text/plain": [
              "<IPython.core.display.Javascript object>"
            ]
          },
          "metadata": {
            "tags": [
              "id19_content_1",
              "id23-3-1",
              "outputarea_id19",
              "outputarea_id23",
              "user_output"
            ]
          }
        },
        {
          "output_type": "display_data",
          "data": {
            "application/javascript": [
              "window[\"ef6c8280-29ad-11eb-8b62-0242ac1c0002\"] = google.colab.output.getActiveOutputArea();\n",
              "//# sourceURL=js_7d2e187d2e"
            ],
            "text/plain": [
              "<IPython.core.display.Javascript object>"
            ]
          },
          "metadata": {
            "tags": [
              "id19_content_1",
              "id23-3-2",
              "outputarea_id19",
              "outputarea_id23",
              "user_output"
            ]
          }
        },
        {
          "output_type": "display_data",
          "data": {
            "application/javascript": [
              "window[\"ef6cd38e-29ad-11eb-8b62-0242ac1c0002\"] = document.querySelector(\"#id23-3-2\");\n",
              "//# sourceURL=js_0367780cd2"
            ],
            "text/plain": [
              "<IPython.core.display.Javascript object>"
            ]
          },
          "metadata": {
            "tags": [
              "id19_content_1",
              "id23-3-2",
              "outputarea_id19",
              "outputarea_id23",
              "user_output"
            ]
          }
        },
        {
          "output_type": "display_data",
          "data": {
            "application/javascript": [
              "window[\"ef6d4706-29ad-11eb-8b62-0242ac1c0002\"] = google.colab.output.setActiveOutputArea(window[\"ef6cd38e-29ad-11eb-8b62-0242ac1c0002\"]);\n",
              "//# sourceURL=js_4473d5ea01"
            ],
            "text/plain": [
              "<IPython.core.display.Javascript object>"
            ]
          },
          "metadata": {
            "tags": [
              "id19_content_1",
              "id23-3-2",
              "outputarea_id19",
              "outputarea_id23",
              "user_output"
            ]
          }
        },
        {
          "output_type": "display_data",
          "data": {
            "image/png": "[encoded data removed]",
            "text/plain": [
              "<Figure size 432x288 with 1 Axes>"
            ]
          },
          "metadata": {
            "tags": [
              "id19_content_1",
              "id23-3-2",
              "outputarea_id19",
              "outputarea_id23",
              "user_output"
            ],
            "needs_background": "light"
          }
        },
        {
          "output_type": "display_data",
          "data": {
            "application/javascript": [
              "window[\"ef8ab976-29ad-11eb-8b62-0242ac1c0002\"] = google.colab.output.setActiveOutputArea(window[\"ef6c8280-29ad-11eb-8b62-0242ac1c0002\"]);\n",
              "//# sourceURL=js_116d4fea5f"
            ],
            "text/plain": [
              "<IPython.core.display.Javascript object>"
            ]
          },
          "metadata": {
            "tags": [
              "id19_content_1",
              "id23-3-2",
              "outputarea_id19",
              "outputarea_id23",
              "user_output"
            ]
          }
        },
        {
          "output_type": "display_data",
          "data": {
            "application/javascript": [
              "window[\"ef8d614e-29ad-11eb-8b62-0242ac1c0002\"] = google.colab.output.setActiveOutputArea(window[\"eda0c704-29ad-11eb-8b62-0242ac1c0002\"]);\n",
              "//# sourceURL=js_662455b707"
            ],
            "text/plain": [
              "<IPython.core.display.Javascript object>"
            ]
          },
          "metadata": {
            "tags": [
              "id19_content_1",
              "outputarea_id19"
            ]
          }
        },
        {
          "output_type": "display_data",
          "data": {
            "application/javascript": [
              "window[\"ef8fe162-29ad-11eb-8b62-0242ac1c0002\"] = google.colab.output.getActiveOutputArea();\n",
              "//# sourceURL=js_9d800e4407"
            ],
            "text/plain": [
              "<IPython.core.display.Javascript object>"
            ]
          },
          "metadata": {
            "tags": [
              "id19_content_2",
              "outputarea_id19"
            ]
          }
        },
        {
          "output_type": "display_data",
          "data": {
            "application/javascript": [
              "window[\"ef90393c-29ad-11eb-8b62-0242ac1c0002\"] = document.querySelector(\"#id19_content_2\");\n",
              "//# sourceURL=js_89683d25fb"
            ],
            "text/plain": [
              "<IPython.core.display.Javascript object>"
            ]
          },
          "metadata": {
            "tags": [
              "id19_content_2",
              "outputarea_id19"
            ]
          }
        },
        {
          "output_type": "display_data",
          "data": {
            "application/javascript": [
              "window[\"ef90949a-29ad-11eb-8b62-0242ac1c0002\"] = google.colab.output.setActiveOutputArea(window[\"ef90393c-29ad-11eb-8b62-0242ac1c0002\"]);\n",
              "//# sourceURL=js_a3059fa359"
            ],
            "text/plain": [
              "<IPython.core.display.Javascript object>"
            ]
          },
          "metadata": {
            "tags": [
              "id19_content_2",
              "outputarea_id19"
            ]
          }
        },
        {
          "output_type": "display_data",
          "data": {
            "application/javascript": [
              "window[\"ef90e2ba-29ad-11eb-8b62-0242ac1c0002\"] = window[\"id19\"].setSelectedTabIndex(2);\n",
              "//# sourceURL=js_2c2a6c83d7"
            ],
            "text/plain": [
              "<IPython.core.display.Javascript object>"
            ]
          },
          "metadata": {
            "tags": [
              "id19_content_2",
              "outputarea_id19"
            ]
          }
        },
        {
          "output_type": "display_data",
          "data": {
            "text/html": [
              "<style>\n",
              "       table#id25, #id25 > tbody > tr > th, #id25 > tbody > tr > td {\n",
              "         border: 1px solid lightgray;\n",
              "         border-collapse:collapse;\n",
              "         \n",
              "        }</style>"
            ],
            "text/plain": [
              "<IPython.core.display.HTML object>"
            ]
          },
          "metadata": {
            "tags": [
              "id19_content_2",
              "outputarea_id19",
              "outputarea_id25",
              "user_output"
            ]
          }
        },
        {
          "output_type": "display_data",
          "data": {
            "text/html": [
              "<table id=id25><tr><th id=id25-0-0></th><th id=id25-0-1></th><th id=id25-0-2></th></tr><tr><th id=id25-1-0></th><td id=id25-1-1></td><td id=id25-1-2></td></tr><tr><th id=id25-2-0></th><td id=id25-2-1></td><td id=id25-2-2></td></tr><tr><th id=id25-3-0></th><td id=id25-3-1></td><td id=id25-3-2></td></tr></table>"
            ],
            "text/plain": [
              "<IPython.core.display.HTML object>"
            ]
          },
          "metadata": {
            "tags": [
              "id19_content_2",
              "outputarea_id19",
              "outputarea_id25",
              "user_output"
            ]
          }
        },
        {
          "output_type": "display_data",
          "data": {
            "application/javascript": [
              "window[\"f016be6c-29ad-11eb-8b62-0242ac1c0002\"] = google.colab.output.getActiveOutputArea();\n",
              "//# sourceURL=js_16f1d4b013"
            ],
            "text/plain": [
              "<IPython.core.display.Javascript object>"
            ]
          },
          "metadata": {
            "tags": [
              "id19_content_2",
              "id25-0-1",
              "outputarea_id19",
              "outputarea_id25",
              "user_output"
            ]
          }
        },
        {
          "output_type": "display_data",
          "data": {
            "application/javascript": [
              "window[\"f0170dae-29ad-11eb-8b62-0242ac1c0002\"] = document.querySelector(\"#id25-0-1\");\n",
              "//# sourceURL=js_3f775416ce"
            ],
            "text/plain": [
              "<IPython.core.display.Javascript object>"
            ]
          },
          "metadata": {
            "tags": [
              "id19_content_2",
              "id25-0-1",
              "outputarea_id19",
              "outputarea_id25",
              "user_output"
            ]
          }
        },
        {
          "output_type": "display_data",
          "data": {
            "application/javascript": [
              "window[\"f0175822-29ad-11eb-8b62-0242ac1c0002\"] = google.colab.output.setActiveOutputArea(window[\"f0170dae-29ad-11eb-8b62-0242ac1c0002\"]);\n",
              "//# sourceURL=js_bb77091e00"
            ],
            "text/plain": [
              "<IPython.core.display.Javascript object>"
            ]
          },
          "metadata": {
            "tags": [
              "id19_content_2",
              "id25-0-1",
              "outputarea_id19",
              "outputarea_id25",
              "user_output"
            ]
          }
        },
        {
          "output_type": "stream",
          "text": [
            "Full result\n"
          ],
          "name": "stdout"
        },
        {
          "output_type": "display_data",
          "data": {
            "application/javascript": [
              "window[\"f0188206-29ad-11eb-8b62-0242ac1c0002\"] = google.colab.output.setActiveOutputArea(window[\"f016be6c-29ad-11eb-8b62-0242ac1c0002\"]);\n",
              "//# sourceURL=js_efa8d58301"
            ],
            "text/plain": [
              "<IPython.core.display.Javascript object>"
            ]
          },
          "metadata": {
            "tags": [
              "id19_content_2",
              "id25-0-1",
              "outputarea_id19",
              "outputarea_id25",
              "user_output"
            ]
          }
        },
        {
          "output_type": "display_data",
          "data": {
            "application/javascript": [
              "window[\"f01a6a1c-29ad-11eb-8b62-0242ac1c0002\"] = google.colab.output.getActiveOutputArea();\n",
              "//# sourceURL=js_92c81c0011"
            ],
            "text/plain": [
              "<IPython.core.display.Javascript object>"
            ]
          },
          "metadata": {
            "tags": [
              "id19_content_2",
              "id25-0-2",
              "outputarea_id19",
              "outputarea_id25",
              "user_output"
            ]
          }
        },
        {
          "output_type": "display_data",
          "data": {
            "application/javascript": [
              "window[\"f01aba76-29ad-11eb-8b62-0242ac1c0002\"] = document.querySelector(\"#id25-0-2\");\n",
              "//# sourceURL=js_cad8c73e67"
            ],
            "text/plain": [
              "<IPython.core.display.Javascript object>"
            ]
          },
          "metadata": {
            "tags": [
              "id19_content_2",
              "id25-0-2",
              "outputarea_id19",
              "outputarea_id25",
              "user_output"
            ]
          }
        },
        {
          "output_type": "display_data",
          "data": {
            "application/javascript": [
              "window[\"f01b0c56-29ad-11eb-8b62-0242ac1c0002\"] = google.colab.output.setActiveOutputArea(window[\"f01aba76-29ad-11eb-8b62-0242ac1c0002\"]);\n",
              "//# sourceURL=js_49adc9de5d"
            ],
            "text/plain": [
              "<IPython.core.display.Javascript object>"
            ]
          },
          "metadata": {
            "tags": [
              "id19_content_2",
              "id25-0-2",
              "outputarea_id19",
              "outputarea_id25",
              "user_output"
            ]
          }
        },
        {
          "output_type": "stream",
          "text": [
            "Clamped (to 99th percentile)\n"
          ],
          "name": "stdout"
        },
        {
          "output_type": "display_data",
          "data": {
            "application/javascript": [
              "window[\"f01c5002-29ad-11eb-8b62-0242ac1c0002\"] = google.colab.output.setActiveOutputArea(window[\"f01a6a1c-29ad-11eb-8b62-0242ac1c0002\"]);\n",
              "//# sourceURL=js_b78315cd1c"
            ],
            "text/plain": [
              "<IPython.core.display.Javascript object>"
            ]
          },
          "metadata": {
            "tags": [
              "id19_content_2",
              "id25-0-2",
              "outputarea_id19",
              "outputarea_id25",
              "user_output"
            ]
          }
        },
        {
          "output_type": "display_data",
          "data": {
            "application/javascript": [
              "window[\"f01dfb82-29ad-11eb-8b62-0242ac1c0002\"] = google.colab.output.getActiveOutputArea();\n",
              "//# sourceURL=js_2718bc8891"
            ],
            "text/plain": [
              "<IPython.core.display.Javascript object>"
            ]
          },
          "metadata": {
            "tags": [
              "id19_content_2",
              "id25-1-0",
              "outputarea_id19",
              "outputarea_id25",
              "user_output"
            ]
          }
        },
        {
          "output_type": "display_data",
          "data": {
            "application/javascript": [
              "window[\"f01e70f8-29ad-11eb-8b62-0242ac1c0002\"] = document.querySelector(\"#id25-1-0\");\n",
              "//# sourceURL=js_6f065cdc0c"
            ],
            "text/plain": [
              "<IPython.core.display.Javascript object>"
            ]
          },
          "metadata": {
            "tags": [
              "id19_content_2",
              "id25-1-0",
              "outputarea_id19",
              "outputarea_id25",
              "user_output"
            ]
          }
        },
        {
          "output_type": "display_data",
          "data": {
            "application/javascript": [
              "window[\"f01eb554-29ad-11eb-8b62-0242ac1c0002\"] = google.colab.output.setActiveOutputArea(window[\"f01e70f8-29ad-11eb-8b62-0242ac1c0002\"]);\n",
              "//# sourceURL=js_9051850b8e"
            ],
            "text/plain": [
              "<IPython.core.display.Javascript object>"
            ]
          },
          "metadata": {
            "tags": [
              "id19_content_2",
              "id25-1-0",
              "outputarea_id19",
              "outputarea_id25",
              "user_output"
            ]
          }
        },
        {
          "output_type": "stream",
          "text": [
            "Recovery Level\n"
          ],
          "name": "stdout"
        },
        {
          "output_type": "display_data",
          "data": {
            "application/javascript": [
              "window[\"f01fbc9c-29ad-11eb-8b62-0242ac1c0002\"] = google.colab.output.setActiveOutputArea(window[\"f01dfb82-29ad-11eb-8b62-0242ac1c0002\"]);\n",
              "//# sourceURL=js_38a87dcffb"
            ],
            "text/plain": [
              "<IPython.core.display.Javascript object>"
            ]
          },
          "metadata": {
            "tags": [
              "id19_content_2",
              "id25-1-0",
              "outputarea_id19",
              "outputarea_id25",
              "user_output"
            ]
          }
        },
        {
          "output_type": "display_data",
          "data": {
            "application/javascript": [
              "window[\"f02119ac-29ad-11eb-8b62-0242ac1c0002\"] = google.colab.output.getActiveOutputArea();\n",
              "//# sourceURL=js_a22272138b"
            ],
            "text/plain": [
              "<IPython.core.display.Javascript object>"
            ]
          },
          "metadata": {
            "tags": [
              "id19_content_2",
              "id25-1-1",
              "outputarea_id19",
              "outputarea_id25",
              "user_output"
            ]
          }
        },
        {
          "output_type": "display_data",
          "data": {
            "application/javascript": [
              "window[\"f0215d40-29ad-11eb-8b62-0242ac1c0002\"] = document.querySelector(\"#id25-1-1\");\n",
              "//# sourceURL=js_256a9e7f83"
            ],
            "text/plain": [
              "<IPython.core.display.Javascript object>"
            ]
          },
          "metadata": {
            "tags": [
              "id19_content_2",
              "id25-1-1",
              "outputarea_id19",
              "outputarea_id25",
              "user_output"
            ]
          }
        },
        {
          "output_type": "display_data",
          "data": {
            "application/javascript": [
              "window[\"f021c0be-29ad-11eb-8b62-0242ac1c0002\"] = google.colab.output.setActiveOutputArea(window[\"f0215d40-29ad-11eb-8b62-0242ac1c0002\"]);\n",
              "//# sourceURL=js_842cc2c200"
            ],
            "text/plain": [
              "<IPython.core.display.Javascript object>"
            ]
          },
          "metadata": {
            "tags": [
              "id19_content_2",
              "id25-1-1",
              "outputarea_id19",
              "outputarea_id25",
              "user_output"
            ]
          }
        },
        {
          "output_type": "display_data",
          "data": {
            "image/png": "[encoded data removed]",
            "text/plain": [
              "<Figure size 432x288 with 1 Axes>"
            ]
          },
          "metadata": {
            "tags": [
              "id19_content_2",
              "id25-1-1",
              "outputarea_id19",
              "outputarea_id25",
              "user_output"
            ],
            "needs_background": "light"
          }
        },
        {
          "output_type": "display_data",
          "data": {
            "application/javascript": [
              "window[\"f0438c94-29ad-11eb-8b62-0242ac1c0002\"] = google.colab.output.setActiveOutputArea(window[\"f02119ac-29ad-11eb-8b62-0242ac1c0002\"]);\n",
              "//# sourceURL=js_05bbda879d"
            ],
            "text/plain": [
              "<IPython.core.display.Javascript object>"
            ]
          },
          "metadata": {
            "tags": [
              "id19_content_2",
              "id25-1-1",
              "outputarea_id19",
              "outputarea_id25",
              "user_output"
            ]
          }
        },
        {
          "output_type": "display_data",
          "data": {
            "application/javascript": [
              "window[\"f04681a6-29ad-11eb-8b62-0242ac1c0002\"] = google.colab.output.getActiveOutputArea();\n",
              "//# sourceURL=js_208ba8ae96"
            ],
            "text/plain": [
              "<IPython.core.display.Javascript object>"
            ]
          },
          "metadata": {
            "tags": [
              "id19_content_2",
              "id25-1-2",
              "outputarea_id19",
              "outputarea_id25",
              "user_output"
            ]
          }
        },
        {
          "output_type": "display_data",
          "data": {
            "application/javascript": [
              "window[\"f046eeb6-29ad-11eb-8b62-0242ac1c0002\"] = document.querySelector(\"#id25-1-2\");\n",
              "//# sourceURL=js_4b5d68dfe8"
            ],
            "text/plain": [
              "<IPython.core.display.Javascript object>"
            ]
          },
          "metadata": {
            "tags": [
              "id19_content_2",
              "id25-1-2",
              "outputarea_id19",
              "outputarea_id25",
              "user_output"
            ]
          }
        },
        {
          "output_type": "display_data",
          "data": {
            "application/javascript": [
              "window[\"f04750e0-29ad-11eb-8b62-0242ac1c0002\"] = google.colab.output.setActiveOutputArea(window[\"f046eeb6-29ad-11eb-8b62-0242ac1c0002\"]);\n",
              "//# sourceURL=js_ea1d993fe0"
            ],
            "text/plain": [
              "<IPython.core.display.Javascript object>"
            ]
          },
          "metadata": {
            "tags": [
              "id19_content_2",
              "id25-1-2",
              "outputarea_id19",
              "outputarea_id25",
              "user_output"
            ]
          }
        },
        {
          "output_type": "display_data",
          "data": {
            "image/png": "[encoded data removed]",
            "text/plain": [
              "<Figure size 432x288 with 1 Axes>"
            ]
          },
          "metadata": {
            "tags": [
              "id19_content_2",
              "id25-1-2",
              "outputarea_id19",
              "outputarea_id25",
              "user_output"
            ],
            "needs_background": "light"
          }
        },
        {
          "output_type": "display_data",
          "data": {
            "application/javascript": [
              "window[\"f063c392-29ad-11eb-8b62-0242ac1c0002\"] = google.colab.output.setActiveOutputArea(window[\"f04681a6-29ad-11eb-8b62-0242ac1c0002\"]);\n",
              "//# sourceURL=js_4c3637f3ab"
            ],
            "text/plain": [
              "<IPython.core.display.Javascript object>"
            ]
          },
          "metadata": {
            "tags": [
              "id19_content_2",
              "id25-1-2",
              "outputarea_id19",
              "outputarea_id25",
              "user_output"
            ]
          }
        },
        {
          "output_type": "display_data",
          "data": {
            "application/javascript": [
              "window[\"f066a148-29ad-11eb-8b62-0242ac1c0002\"] = google.colab.output.getActiveOutputArea();\n",
              "//# sourceURL=js_6de7b11402"
            ],
            "text/plain": [
              "<IPython.core.display.Javascript object>"
            ]
          },
          "metadata": {
            "tags": [
              "id19_content_2",
              "id25-2-0",
              "outputarea_id19",
              "outputarea_id25",
              "user_output"
            ]
          }
        },
        {
          "output_type": "display_data",
          "data": {
            "application/javascript": [
              "window[\"f06705a2-29ad-11eb-8b62-0242ac1c0002\"] = document.querySelector(\"#id25-2-0\");\n",
              "//# sourceURL=js_855d98d3a6"
            ],
            "text/plain": [
              "<IPython.core.display.Javascript object>"
            ]
          },
          "metadata": {
            "tags": [
              "id19_content_2",
              "id25-2-0",
              "outputarea_id19",
              "outputarea_id25",
              "user_output"
            ]
          }
        },
        {
          "output_type": "display_data",
          "data": {
            "application/javascript": [
              "window[\"f067ae8a-29ad-11eb-8b62-0242ac1c0002\"] = google.colab.output.setActiveOutputArea(window[\"f06705a2-29ad-11eb-8b62-0242ac1c0002\"]);\n",
              "//# sourceURL=js_aba361b404"
            ],
            "text/plain": [
              "<IPython.core.display.Javascript object>"
            ]
          },
          "metadata": {
            "tags": [
              "id19_content_2",
              "id25-2-0",
              "outputarea_id19",
              "outputarea_id25",
              "user_output"
            ]
          }
        },
        {
          "output_type": "stream",
          "text": [
            "Recovery Timescale\n"
          ],
          "name": "stdout"
        },
        {
          "output_type": "display_data",
          "data": {
            "application/javascript": [
              "window[\"f068ea34-29ad-11eb-8b62-0242ac1c0002\"] = google.colab.output.setActiveOutputArea(window[\"f066a148-29ad-11eb-8b62-0242ac1c0002\"]);\n",
              "//# sourceURL=js_cd3141b2e8"
            ],
            "text/plain": [
              "<IPython.core.display.Javascript object>"
            ]
          },
          "metadata": {
            "tags": [
              "id19_content_2",
              "id25-2-0",
              "outputarea_id19",
              "outputarea_id25",
              "user_output"
            ]
          }
        },
        {
          "output_type": "display_data",
          "data": {
            "application/javascript": [
              "window[\"f06aee06-29ad-11eb-8b62-0242ac1c0002\"] = google.colab.output.getActiveOutputArea();\n",
              "//# sourceURL=js_a0187e1973"
            ],
            "text/plain": [
              "<IPython.core.display.Javascript object>"
            ]
          },
          "metadata": {
            "tags": [
              "id19_content_2",
              "id25-2-1",
              "outputarea_id19",
              "outputarea_id25",
              "user_output"
            ]
          }
        },
        {
          "output_type": "display_data",
          "data": {
            "application/javascript": [
              "window[\"f06b3aa0-29ad-11eb-8b62-0242ac1c0002\"] = document.querySelector(\"#id25-2-1\");\n",
              "//# sourceURL=js_0d2602cfd0"
            ],
            "text/plain": [
              "<IPython.core.display.Javascript object>"
            ]
          },
          "metadata": {
            "tags": [
              "id19_content_2",
              "id25-2-1",
              "outputarea_id19",
              "outputarea_id25",
              "user_output"
            ]
          }
        },
        {
          "output_type": "display_data",
          "data": {
            "application/javascript": [
              "window[\"f06b9464-29ad-11eb-8b62-0242ac1c0002\"] = google.colab.output.setActiveOutputArea(window[\"f06b3aa0-29ad-11eb-8b62-0242ac1c0002\"]);\n",
              "//# sourceURL=js_55baae7e4e"
            ],
            "text/plain": [
              "<IPython.core.display.Javascript object>"
            ]
          },
          "metadata": {
            "tags": [
              "id19_content_2",
              "id25-2-1",
              "outputarea_id19",
              "outputarea_id25",
              "user_output"
            ]
          }
        },
        {
          "output_type": "display_data",
          "data": {
            "image/png": "[encoded data removed]",
            "text/plain": [
              "<Figure size 432x288 with 1 Axes>"
            ]
          },
          "metadata": {
            "tags": [
              "id19_content_2",
              "id25-2-1",
              "outputarea_id19",
              "outputarea_id25",
              "user_output"
            ],
            "needs_background": "light"
          }
        },
        {
          "output_type": "display_data",
          "data": {
            "application/javascript": [
              "window[\"f088ba12-29ad-11eb-8b62-0242ac1c0002\"] = google.colab.output.setActiveOutputArea(window[\"f06aee06-29ad-11eb-8b62-0242ac1c0002\"]);\n",
              "//# sourceURL=js_d4eea54962"
            ],
            "text/plain": [
              "<IPython.core.display.Javascript object>"
            ]
          },
          "metadata": {
            "tags": [
              "id19_content_2",
              "id25-2-1",
              "outputarea_id19",
              "outputarea_id25",
              "user_output"
            ]
          }
        },
        {
          "output_type": "display_data",
          "data": {
            "application/javascript": [
              "window[\"f08b1a28-29ad-11eb-8b62-0242ac1c0002\"] = google.colab.output.getActiveOutputArea();\n",
              "//# sourceURL=js_f6f8713295"
            ],
            "text/plain": [
              "<IPython.core.display.Javascript object>"
            ]
          },
          "metadata": {
            "tags": [
              "id19_content_2",
              "id25-2-2",
              "outputarea_id19",
              "outputarea_id25",
              "user_output"
            ]
          }
        },
        {
          "output_type": "display_data",
          "data": {
            "application/javascript": [
              "window[\"f08b54d4-29ad-11eb-8b62-0242ac1c0002\"] = document.querySelector(\"#id25-2-2\");\n",
              "//# sourceURL=js_6b0c92b172"
            ],
            "text/plain": [
              "<IPython.core.display.Javascript object>"
            ]
          },
          "metadata": {
            "tags": [
              "id19_content_2",
              "id25-2-2",
              "outputarea_id19",
              "outputarea_id25",
              "user_output"
            ]
          }
        },
        {
          "output_type": "display_data",
          "data": {
            "application/javascript": [
              "window[\"f08bb85c-29ad-11eb-8b62-0242ac1c0002\"] = google.colab.output.setActiveOutputArea(window[\"f08b54d4-29ad-11eb-8b62-0242ac1c0002\"]);\n",
              "//# sourceURL=js_fc3aab272a"
            ],
            "text/plain": [
              "<IPython.core.display.Javascript object>"
            ]
          },
          "metadata": {
            "tags": [
              "id19_content_2",
              "id25-2-2",
              "outputarea_id19",
              "outputarea_id25",
              "user_output"
            ]
          }
        },
        {
          "output_type": "display_data",
          "data": {
            "image/png": "[encoded data removed]",
            "text/plain": [
              "<Figure size 432x288 with 1 Axes>"
            ]
          },
          "metadata": {
            "tags": [
              "id19_content_2",
              "id25-2-2",
              "outputarea_id19",
              "outputarea_id25",
              "user_output"
            ],
            "needs_background": "light"
          }
        },
        {
          "output_type": "display_data",
          "data": {
            "application/javascript": [
              "window[\"f0aa86d8-29ad-11eb-8b62-0242ac1c0002\"] = google.colab.output.setActiveOutputArea(window[\"f08b1a28-29ad-11eb-8b62-0242ac1c0002\"]);\n",
              "//# sourceURL=js_142d43c38b"
            ],
            "text/plain": [
              "<IPython.core.display.Javascript object>"
            ]
          },
          "metadata": {
            "tags": [
              "id19_content_2",
              "id25-2-2",
              "outputarea_id19",
              "outputarea_id25",
              "user_output"
            ]
          }
        },
        {
          "output_type": "display_data",
          "data": {
            "application/javascript": [
              "window[\"f0aca684-29ad-11eb-8b62-0242ac1c0002\"] = google.colab.output.getActiveOutputArea();\n",
              "//# sourceURL=js_3960698bd8"
            ],
            "text/plain": [
              "<IPython.core.display.Javascript object>"
            ]
          },
          "metadata": {
            "tags": [
              "id19_content_2",
              "id25-3-0",
              "outputarea_id19",
              "outputarea_id25",
              "user_output"
            ]
          }
        },
        {
          "output_type": "display_data",
          "data": {
            "application/javascript": [
              "window[\"f0acf706-29ad-11eb-8b62-0242ac1c0002\"] = document.querySelector(\"#id25-3-0\");\n",
              "//# sourceURL=js_25b1f2bc0f"
            ],
            "text/plain": [
              "<IPython.core.display.Javascript object>"
            ]
          },
          "metadata": {
            "tags": [
              "id19_content_2",
              "id25-3-0",
              "outputarea_id19",
              "outputarea_id25",
              "user_output"
            ]
          }
        },
        {
          "output_type": "display_data",
          "data": {
            "application/javascript": [
              "window[\"f0ad54d0-29ad-11eb-8b62-0242ac1c0002\"] = google.colab.output.setActiveOutputArea(window[\"f0acf706-29ad-11eb-8b62-0242ac1c0002\"]);\n",
              "//# sourceURL=js_0fe85c6891"
            ],
            "text/plain": [
              "<IPython.core.display.Javascript object>"
            ]
          },
          "metadata": {
            "tags": [
              "id19_content_2",
              "id25-3-0",
              "outputarea_id19",
              "outputarea_id25",
              "user_output"
            ]
          }
        },
        {
          "output_type": "stream",
          "text": [
            "Rec. Time. Error\n"
          ],
          "name": "stdout"
        },
        {
          "output_type": "display_data",
          "data": {
            "application/javascript": [
              "window[\"f0aead6c-29ad-11eb-8b62-0242ac1c0002\"] = google.colab.output.setActiveOutputArea(window[\"f0aca684-29ad-11eb-8b62-0242ac1c0002\"]);\n",
              "//# sourceURL=js_3b9c1096b7"
            ],
            "text/plain": [
              "<IPython.core.display.Javascript object>"
            ]
          },
          "metadata": {
            "tags": [
              "id19_content_2",
              "id25-3-0",
              "outputarea_id19",
              "outputarea_id25",
              "user_output"
            ]
          }
        },
        {
          "output_type": "display_data",
          "data": {
            "application/javascript": [
              "window[\"f0b0a19e-29ad-11eb-8b62-0242ac1c0002\"] = google.colab.output.getActiveOutputArea();\n",
              "//# sourceURL=js_0d08558792"
            ],
            "text/plain": [
              "<IPython.core.display.Javascript object>"
            ]
          },
          "metadata": {
            "tags": [
              "id19_content_2",
              "id25-3-1",
              "outputarea_id19",
              "outputarea_id25",
              "user_output"
            ]
          }
        },
        {
          "output_type": "display_data",
          "data": {
            "application/javascript": [
              "window[\"f0b0f7ac-29ad-11eb-8b62-0242ac1c0002\"] = document.querySelector(\"#id25-3-1\");\n",
              "//# sourceURL=js_09bd75bd99"
            ],
            "text/plain": [
              "<IPython.core.display.Javascript object>"
            ]
          },
          "metadata": {
            "tags": [
              "id19_content_2",
              "id25-3-1",
              "outputarea_id19",
              "outputarea_id25",
              "user_output"
            ]
          }
        },
        {
          "output_type": "display_data",
          "data": {
            "application/javascript": [
              "window[\"f0b14d1a-29ad-11eb-8b62-0242ac1c0002\"] = google.colab.output.setActiveOutputArea(window[\"f0b0f7ac-29ad-11eb-8b62-0242ac1c0002\"]);\n",
              "//# sourceURL=js_71d19ceba6"
            ],
            "text/plain": [
              "<IPython.core.display.Javascript object>"
            ]
          },
          "metadata": {
            "tags": [
              "id19_content_2",
              "id25-3-1",
              "outputarea_id19",
              "outputarea_id25",
              "user_output"
            ]
          }
        },
        {
          "output_type": "display_data",
          "data": {
            "image/png": "[encoded data removed]",
            "text/plain": [
              "<Figure size 432x288 with 1 Axes>"
            ]
          },
          "metadata": {
            "tags": [
              "id19_content_2",
              "id25-3-1",
              "outputarea_id19",
              "outputarea_id25",
              "user_output"
            ],
            "needs_background": "light"
          }
        },
        {
          "output_type": "display_data",
          "data": {
            "application/javascript": [
              "window[\"f0cf32ee-29ad-11eb-8b62-0242ac1c0002\"] = google.colab.output.setActiveOutputArea(window[\"f0b0a19e-29ad-11eb-8b62-0242ac1c0002\"]);\n",
              "//# sourceURL=js_6ee6670f05"
            ],
            "text/plain": [
              "<IPython.core.display.Javascript object>"
            ]
          },
          "metadata": {
            "tags": [
              "id19_content_2",
              "id25-3-1",
              "outputarea_id19",
              "outputarea_id25",
              "user_output"
            ]
          }
        },
        {
          "output_type": "display_data",
          "data": {
            "application/javascript": [
              "window[\"f0d1d29c-29ad-11eb-8b62-0242ac1c0002\"] = google.colab.output.getActiveOutputArea();\n",
              "//# sourceURL=js_0c3bef6c82"
            ],
            "text/plain": [
              "<IPython.core.display.Javascript object>"
            ]
          },
          "metadata": {
            "tags": [
              "id19_content_2",
              "id25-3-2",
              "outputarea_id19",
              "outputarea_id25",
              "user_output"
            ]
          }
        },
        {
          "output_type": "display_data",
          "data": {
            "application/javascript": [
              "window[\"f0d2387c-29ad-11eb-8b62-0242ac1c0002\"] = document.querySelector(\"#id25-3-2\");\n",
              "//# sourceURL=js_cc8c454fe8"
            ],
            "text/plain": [
              "<IPython.core.display.Javascript object>"
            ]
          },
          "metadata": {
            "tags": [
              "id19_content_2",
              "id25-3-2",
              "outputarea_id19",
              "outputarea_id25",
              "user_output"
            ]
          }
        },
        {
          "output_type": "display_data",
          "data": {
            "application/javascript": [
              "window[\"f0d29984-29ad-11eb-8b62-0242ac1c0002\"] = google.colab.output.setActiveOutputArea(window[\"f0d2387c-29ad-11eb-8b62-0242ac1c0002\"]);\n",
              "//# sourceURL=js_b6959ba338"
            ],
            "text/plain": [
              "<IPython.core.display.Javascript object>"
            ]
          },
          "metadata": {
            "tags": [
              "id19_content_2",
              "id25-3-2",
              "outputarea_id19",
              "outputarea_id25",
              "user_output"
            ]
          }
        },
        {
          "output_type": "display_data",
          "data": {
            "image/png": "[encoded data removed]",
            "text/plain": [
              "<Figure size 432x288 with 1 Axes>"
            ]
          },
          "metadata": {
            "tags": [
              "id19_content_2",
              "id25-3-2",
              "outputarea_id19",
              "outputarea_id25",
              "user_output"
            ],
            "needs_background": "light"
          }
        },
        {
          "output_type": "display_data",
          "data": {
            "application/javascript": [
              "window[\"f0ee91a2-29ad-11eb-8b62-0242ac1c0002\"] = google.colab.output.setActiveOutputArea(window[\"f0d1d29c-29ad-11eb-8b62-0242ac1c0002\"]);\n",
              "//# sourceURL=js_07952afc9b"
            ],
            "text/plain": [
              "<IPython.core.display.Javascript object>"
            ]
          },
          "metadata": {
            "tags": [
              "id19_content_2",
              "id25-3-2",
              "outputarea_id19",
              "outputarea_id25",
              "user_output"
            ]
          }
        },
        {
          "output_type": "display_data",
          "data": {
            "application/javascript": [
              "window[\"f0f0fb9a-29ad-11eb-8b62-0242ac1c0002\"] = google.colab.output.setActiveOutputArea(window[\"ef8fe162-29ad-11eb-8b62-0242ac1c0002\"]);\n",
              "//# sourceURL=js_31e1e85cad"
            ],
            "text/plain": [
              "<IPython.core.display.Javascript object>"
            ]
          },
          "metadata": {
            "tags": [
              "id19_content_2",
              "outputarea_id19"
            ]
          }
        }
      ]
    },
    {
      "cell_type": "code",
      "metadata": {
        "id": "OBBdzl2PDrSF"
      },
      "source": [
        "%%bash\n",
        "for arch in \"drive/My Drive/stacks\"/*.tar.xz; do\n",
        "  dir=\"${arch##*/}\"\n",
        "  dir=\"${dir%.tar.xz}\"\n",
        "  [[ -d $dir ]] || continue\n",
        "  find \"$dir\" -name \"*.csv\" -print0 \\\n",
        "    | tar --null -T - -cv | xz -9e > \"$dir.tar.xz\"\n",
        "done"
      ],
      "execution_count": null,
      "outputs": []
    },
    {
      "cell_type": "code",
      "metadata": {
        "id": "apqvvVPUXOtX"
      },
      "source": [
        ""
      ],
      "execution_count": null,
      "outputs": []
    }
  ]
}